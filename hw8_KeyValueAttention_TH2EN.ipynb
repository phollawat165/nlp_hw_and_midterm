{
  "nbformat": 4,
  "nbformat_minor": 0,
  "metadata": {
    "kernelspec": {
      "display_name": "Python 3",
      "language": "python",
      "name": "python3"
    },
    "language_info": {
      "codemirror_mode": {
        "name": "ipython",
        "version": 3
      },
      "file_extension": ".py",
      "mimetype": "text/x-python",
      "name": "python",
      "nbconvert_exporter": "python",
      "pygments_lexer": "ipython3",
      "version": "3.5.2"
    },
    "colab": {
      "name": "HW_KeyValueAttention_TH2EN.ipynb",
      "provenance": [],
      "collapsed_sections": [],
      "toc_visible": true
    }
  },
  "cells": [
    {
      "cell_type": "markdown",
      "metadata": {
        "id": "Y1cDcKRZwXCL"
      },
      "source": [
        "# Key-Value Attention Mechanism Homework on Keras: Character-level Machine Translation (Many-to-Many, encoder-decoder)\n",
        "\n",
        "In this homework, you will create an MT model with key-value attention mechnism that coverts names of constituency MP candidates in the 2019 Thai general election from Thai script to Roman(Latin) script. E.g. นิยม-->niyom "
      ]
    },
    {
      "cell_type": "code",
      "metadata": {
        "id": "Oy6QYsP4wa-k",
        "colab": {
          "base_uri": "https://localhost:8080/"
        },
        "outputId": "bbfebe3b-5a09-4234-8ca1-db8c0d3c6af8"
      },
      "source": [
        "!wget https://github.com/Phonbopit/sarabun-webfont/raw/master/fonts/thsarabunnew-webfont.ttf\n",
        "try:\n",
        "  # %tensorflow_version only exists in Colab.\n",
        "  %tensorflow_version 2.x\n",
        "except Exception:\n",
        "  pass\n",
        "\n",
        "import tensorflow as tf\n",
        "print(tf.__version__)\n",
        "\n",
        "import matplotlib as mpl\n",
        "mpl.font_manager.fontManager.addfont('thsarabunnew-webfont.ttf') # 3.2+\n",
        "mpl.rc('font', family='TH Sarabun New')"
      ],
      "execution_count": null,
      "outputs": [
        {
          "output_type": "stream",
          "text": [
            "--2021-03-22 03:56:14--  https://github.com/Phonbopit/sarabun-webfont/raw/master/fonts/thsarabunnew-webfont.ttf\n",
            "Resolving github.com (github.com)... 52.192.72.89\n",
            "Connecting to github.com (github.com)|52.192.72.89|:443... connected.\n",
            "HTTP request sent, awaiting response... 302 Found\n",
            "Location: https://raw.githubusercontent.com/Phonbopit/sarabun-webfont/master/fonts/thsarabunnew-webfont.ttf [following]\n",
            "--2021-03-22 03:56:14--  https://raw.githubusercontent.com/Phonbopit/sarabun-webfont/master/fonts/thsarabunnew-webfont.ttf\n",
            "Resolving raw.githubusercontent.com (raw.githubusercontent.com)... 185.199.108.133, 185.199.110.133, 185.199.111.133, ...\n",
            "Connecting to raw.githubusercontent.com (raw.githubusercontent.com)|185.199.108.133|:443... connected.\n",
            "HTTP request sent, awaiting response... 200 OK\n",
            "Length: 98308 (96K) [application/octet-stream]\n",
            "Saving to: ‘thsarabunnew-webfont.ttf’\n",
            "\n",
            "thsarabunnew-webfon 100%[===================>]  96.00K  --.-KB/s    in 0.03s   \n",
            "\n",
            "2021-03-22 03:56:14 (3.62 MB/s) - ‘thsarabunnew-webfont.ttf’ saved [98308/98308]\n",
            "\n",
            "2.4.1\n"
          ],
          "name": "stdout"
        }
      ]
    },
    {
      "cell_type": "code",
      "metadata": {
        "id": "mRdbTrQJwXCR"
      },
      "source": [
        "%matplotlib inline\n",
        "from tensorflow.keras.preprocessing.sequence import pad_sequences\n",
        "from tensorflow.keras.layers import Bidirectional, Concatenate, Permute, Dot, Input, LSTM, Multiply\n",
        "from tensorflow.keras.layers import RepeatVector, Dense, Activation, Lambda\n",
        "from tensorflow.keras.optimizers import Adam\n",
        "from tensorflow.keras.utils import to_categorical\n",
        "from tensorflow.keras import Model\n",
        "from tensorflow.keras.models import load_model\n",
        "import tensorflow.keras.backend as K\n",
        "import numpy as np\n",
        "\n",
        "import random"
      ],
      "execution_count": null,
      "outputs": []
    },
    {
      "cell_type": "markdown",
      "metadata": {
        "id": "Sq20keO6wXCh"
      },
      "source": [
        "## Load Dataset\n",
        "We have generated a toy dataset using names of constituency MP candidates in 2019 Thai General Election from elect.in.th's github(https://github.com/codeforthailand/dataset-election-62-candidates) and tltk (https://pypi.org/project/tltk/) library to convert them into Roman script.\n",
        "\n",
        "<img src=\"https://raw.githubusercontent.com/ekapolc/nlp_2019/master/HW8/images/dataset_diagram.png\" alt=\"Drawing\" style=\"width: 500px;\"/>\n"
      ]
    },
    {
      "cell_type": "code",
      "metadata": {
        "id": "w8lWBh40wjgz",
        "colab": {
          "base_uri": "https://localhost:8080/"
        },
        "outputId": "a685f4a4-28ac-4784-c863-3130cb7bd4b7"
      },
      "source": [
        "!wget https://raw.githubusercontent.com/ekapolc/nlp_2019/master/HW8/mp_name_th_en.csv"
      ],
      "execution_count": null,
      "outputs": [
        {
          "output_type": "stream",
          "text": [
            "--2021-03-22 03:56:16--  https://raw.githubusercontent.com/ekapolc/nlp_2019/master/HW8/mp_name_th_en.csv\n",
            "Resolving raw.githubusercontent.com (raw.githubusercontent.com)... 185.199.108.133, 185.199.109.133, 185.199.110.133, ...\n",
            "Connecting to raw.githubusercontent.com (raw.githubusercontent.com)|185.199.108.133|:443... connected.\n",
            "HTTP request sent, awaiting response... 200 OK\n",
            "Length: 324399 (317K) [text/plain]\n",
            "Saving to: ‘mp_name_th_en.csv’\n",
            "\n",
            "mp_name_th_en.csv   100%[===================>] 316.80K  --.-KB/s    in 0.04s   \n",
            "\n",
            "2021-03-22 03:56:17 (7.64 MB/s) - ‘mp_name_th_en.csv’ saved [324399/324399]\n",
            "\n"
          ],
          "name": "stdout"
        }
      ]
    },
    {
      "cell_type": "code",
      "metadata": {
        "id": "rTQk8W4OwXCk"
      },
      "source": [
        "import csv\n",
        "with open('mp_name_th_en.csv') as csvfile:\n",
        "    readCSV = csv.reader(csvfile, delimiter=',')\n",
        "    name_th = []\n",
        "    name_en = []\n",
        "    for row in readCSV:\n",
        "        name_th.append(row[0])\n",
        "        name_en.append(row[1])"
      ],
      "execution_count": null,
      "outputs": []
    },
    {
      "cell_type": "code",
      "metadata": {
        "id": "lVNHVM_FwXCs",
        "colab": {
          "base_uri": "https://localhost:8080/"
        },
        "outputId": "dda06886-84a7-47c1-e5cd-c2251d76a804"
      },
      "source": [
        "for th, en in zip(name_th[:10],name_en[:10]):\n",
        "    print(th,en)"
      ],
      "execution_count": null,
      "outputs": [
        {
          "output_type": "stream",
          "text": [
            "ไกรสีห์ kraisi\n",
            "พัชรี phatri\n",
            "ธีระ thira\n",
            "วุฒิกร wutthikon\n",
            "ไสว sawai\n",
            "สัมภาษณ์  samphat\n",
            "วศิน wasin\n",
            "ทินวัฒน์ thinwat\n",
            "ศักดินัย sakdinai\n",
            "สุรศักดิ์ surasak\n"
          ],
          "name": "stdout"
        }
      ]
    },
    {
      "cell_type": "markdown",
      "metadata": {
        "id": "heMTiM7qwXC2"
      },
      "source": [
        "## Task1: Preprocess dataset for Keras (1 point)\n",
        "* 2 dictionaries for indexing (1 for input and another for output)\n",
        "* DON'T FORGET TO INCLUDE special token for padding\n",
        "* DON'T FORGET TO INCLUDE special token for the end of word symbol (output)\n",
        "* Be mindful of your pad_sequences \"padding\" hyperparameter. Choose wisely (post-padding vs pre-padding)"
      ]
    },
    {
      "cell_type": "code",
      "metadata": {
        "id": "_O5YhjntwXC4",
        "colab": {
          "base_uri": "https://localhost:8080/"
        },
        "outputId": "40d5bc80-26c2-4fb5-c5e0-c85b4c2fb996"
      },
      "source": [
        "#FILL YOUR CODE HERE\n",
        "\n",
        "input_chars = list(set(''.join(name_th)))\n",
        "output_chars = list(set(''.join(name_en)))\n",
        "\n",
        "sorted_input_chars= sorted(input_chars)\n",
        "sorted_output_chars= sorted(output_chars)\n",
        "\n",
        "sorted_input_chars.insert(0,\"<PAD>\") #PADDING for input\n",
        "sorted_output_chars.insert(0,\"<PAD>\") #PADDING for output\n",
        "\n",
        "sorted_output_chars.insert(len(sorted_output_chars),\"</S>\") #end of word for output\n",
        "\n",
        "#Input\n",
        "input_char_to_ix = { ch:i for i,ch in enumerate(sorted_input_chars) }\n",
        "ix_to_input_char = { i:ch for i,ch in enumerate(sorted_input_chars) } #reverse dictionary\n",
        "#Output\n",
        "output_char_to_ix = { ch:i for i,ch in enumerate(sorted_output_chars) }\n",
        "ix_to_output_char = { i:ch for i,ch in enumerate(sorted_output_chars) } #reverse dictionary\n",
        "\n",
        "print(input_char_to_ix)\n",
        "print(output_char_to_ix)"
      ],
      "execution_count": null,
      "outputs": [
        {
          "output_type": "stream",
          "text": [
            "{'<PAD>': 0, ' ': 1, 'ก': 2, 'ข': 3, 'ค': 4, 'ฆ': 5, 'ง': 6, 'จ': 7, 'ฉ': 8, 'ช': 9, 'ซ': 10, 'ฌ': 11, 'ญ': 12, 'ฎ': 13, 'ฏ': 14, 'ฐ': 15, 'ฑ': 16, 'ฒ': 17, 'ณ': 18, 'ด': 19, 'ต': 20, 'ถ': 21, 'ท': 22, 'ธ': 23, 'น': 24, 'บ': 25, 'ป': 26, 'ผ': 27, 'ฝ': 28, 'พ': 29, 'ฟ': 30, 'ภ': 31, 'ม': 32, 'ย': 33, 'ร': 34, 'ล': 35, 'ว': 36, 'ศ': 37, 'ษ': 38, 'ส': 39, 'ห': 40, 'ฬ': 41, 'อ': 42, 'ฮ': 43, 'ะ': 44, 'ั': 45, 'า': 46, 'ำ': 47, 'ิ': 48, 'ี': 49, 'ึ': 50, 'ื': 51, 'ุ': 52, 'ู': 53, 'เ': 54, 'แ': 55, 'โ': 56, 'ใ': 57, 'ไ': 58, '็': 59, '่': 60, '้': 61, '๊': 62, '๋': 63, '์': 64}\n",
            "{'<PAD>': 0, '-': 1, 'a': 2, 'b': 3, 'c': 4, 'd': 5, 'e': 6, 'f': 7, 'g': 8, 'h': 9, 'i': 10, 'k': 11, 'l': 12, 'm': 13, 'n': 14, 'o': 15, 'p': 16, 'r': 17, 's': 18, 't': 19, 'u': 20, 'w': 21, 'y': 22, '</S>': 23}\n"
          ],
          "name": "stdout"
        }
      ]
    },
    {
      "cell_type": "code",
      "metadata": {
        "colab": {
          "base_uri": "https://localhost:8080/"
        },
        "id": "Z_kd92mCQRn8",
        "outputId": "3858163a-821c-4092-c1e2-b01602f6d6c4"
      },
      "source": [
        "maxIN = len( max(name_th, key=len))\n",
        "maxOUT = len( max(name_en, key=len))\n",
        "\n",
        "X = []\n",
        "for line in name_th:\n",
        "    temp=[]\n",
        "    for char in line:\n",
        "        temp.append(input_char_to_ix[char])\n",
        "    X.append(temp)\n",
        "Y = []\n",
        "for line in name_en:\n",
        "    temp=[]\n",
        "    for char in line:\n",
        "        temp.append(output_char_to_ix[char])\n",
        "    temp.append(output_char_to_ix[\"</S>\"])\n",
        "    Y.append(temp)    \n",
        "\n",
        "X = pad_sequences(X, maxlen=maxIN, padding='pre')\n",
        "Y = pad_sequences(Y, maxlen=maxOUT+1, padding='post')\n",
        "\n",
        "X = to_categorical(X,len(input_char_to_ix))\n",
        "X = X.reshape(len(name_th),maxIN ,len(input_char_to_ix))\n",
        "\n",
        "Y = to_categorical(Y,len(output_char_to_ix))\n",
        "Y = Y.reshape(len(name_en),maxOUT+1 ,len(output_char_to_ix))\n",
        "print(X.shape,Y.shape)\n",
        "print(X[0])\n",
        "print(Y[0])"
      ],
      "execution_count": null,
      "outputs": [
        {
          "output_type": "stream",
          "text": [
            "(10887, 20, 65) (10887, 20, 24)\n",
            "[[1. 0. 0. ... 0. 0. 0.]\n",
            " [1. 0. 0. ... 0. 0. 0.]\n",
            " [1. 0. 0. ... 0. 0. 0.]\n",
            " ...\n",
            " [0. 0. 0. ... 0. 0. 0.]\n",
            " [0. 0. 0. ... 0. 0. 0.]\n",
            " [0. 0. 0. ... 0. 0. 1.]]\n",
            "[[0. 0. 0. 0. 0. 0. 0. 0. 0. 0. 0. 1. 0. 0. 0. 0. 0. 0. 0. 0. 0. 0. 0. 0.]\n",
            " [0. 0. 0. 0. 0. 0. 0. 0. 0. 0. 0. 0. 0. 0. 0. 0. 0. 1. 0. 0. 0. 0. 0. 0.]\n",
            " [0. 0. 1. 0. 0. 0. 0. 0. 0. 0. 0. 0. 0. 0. 0. 0. 0. 0. 0. 0. 0. 0. 0. 0.]\n",
            " [0. 0. 0. 0. 0. 0. 0. 0. 0. 0. 1. 0. 0. 0. 0. 0. 0. 0. 0. 0. 0. 0. 0. 0.]\n",
            " [0. 0. 0. 0. 0. 0. 0. 0. 0. 0. 0. 0. 0. 0. 0. 0. 0. 0. 1. 0. 0. 0. 0. 0.]\n",
            " [0. 0. 0. 0. 0. 0. 0. 0. 0. 0. 1. 0. 0. 0. 0. 0. 0. 0. 0. 0. 0. 0. 0. 0.]\n",
            " [0. 0. 0. 0. 0. 0. 0. 0. 0. 0. 0. 0. 0. 0. 0. 0. 0. 0. 0. 0. 0. 0. 0. 1.]\n",
            " [1. 0. 0. 0. 0. 0. 0. 0. 0. 0. 0. 0. 0. 0. 0. 0. 0. 0. 0. 0. 0. 0. 0. 0.]\n",
            " [1. 0. 0. 0. 0. 0. 0. 0. 0. 0. 0. 0. 0. 0. 0. 0. 0. 0. 0. 0. 0. 0. 0. 0.]\n",
            " [1. 0. 0. 0. 0. 0. 0. 0. 0. 0. 0. 0. 0. 0. 0. 0. 0. 0. 0. 0. 0. 0. 0. 0.]\n",
            " [1. 0. 0. 0. 0. 0. 0. 0. 0. 0. 0. 0. 0. 0. 0. 0. 0. 0. 0. 0. 0. 0. 0. 0.]\n",
            " [1. 0. 0. 0. 0. 0. 0. 0. 0. 0. 0. 0. 0. 0. 0. 0. 0. 0. 0. 0. 0. 0. 0. 0.]\n",
            " [1. 0. 0. 0. 0. 0. 0. 0. 0. 0. 0. 0. 0. 0. 0. 0. 0. 0. 0. 0. 0. 0. 0. 0.]\n",
            " [1. 0. 0. 0. 0. 0. 0. 0. 0. 0. 0. 0. 0. 0. 0. 0. 0. 0. 0. 0. 0. 0. 0. 0.]\n",
            " [1. 0. 0. 0. 0. 0. 0. 0. 0. 0. 0. 0. 0. 0. 0. 0. 0. 0. 0. 0. 0. 0. 0. 0.]\n",
            " [1. 0. 0. 0. 0. 0. 0. 0. 0. 0. 0. 0. 0. 0. 0. 0. 0. 0. 0. 0. 0. 0. 0. 0.]\n",
            " [1. 0. 0. 0. 0. 0. 0. 0. 0. 0. 0. 0. 0. 0. 0. 0. 0. 0. 0. 0. 0. 0. 0. 0.]\n",
            " [1. 0. 0. 0. 0. 0. 0. 0. 0. 0. 0. 0. 0. 0. 0. 0. 0. 0. 0. 0. 0. 0. 0. 0.]\n",
            " [1. 0. 0. 0. 0. 0. 0. 0. 0. 0. 0. 0. 0. 0. 0. 0. 0. 0. 0. 0. 0. 0. 0. 0.]\n",
            " [1. 0. 0. 0. 0. 0. 0. 0. 0. 0. 0. 0. 0. 0. 0. 0. 0. 0. 0. 0. 0. 0. 0. 0.]]\n"
          ],
          "name": "stdout"
        }
      ]
    },
    {
      "cell_type": "markdown",
      "metadata": {
        "id": "HNqqnkVSwXC-"
      },
      "source": [
        "# Attention Mechanism\n",
        "## Task 2: Code your own (key-value) attention mechnism (1 point)\n",
        "* PLEASE READ: you DO NOT have to follow all the details in (Daniluk, et al. 2017). You just need to create a key-value attention mechanism where the \"key\" part of the mechanism is used for attention score calculation, and the \"value\" part of the mechanism is used to encode information to create a context vector.  \n",
        "* Define global variables\n",
        "* fill code for one_step_attention function\n",
        "* Hint: use keras.layers.Lambda \n",
        "* HINT: you will probably need more hidden dimmensions than what you've seen in the demo\n"
      ]
    },
    {
      "cell_type": "code",
      "metadata": {
        "id": "eSdFcuGuwXDB"
      },
      "source": [
        "from tensorflow.keras.activations import softmax\n",
        "from tensorflow.keras.layers import Lambda\n",
        "def softMaxAxis1(x):\n",
        "    return softmax(x,axis=1)\n"
      ],
      "execution_count": null,
      "outputs": []
    },
    {
      "cell_type": "code",
      "metadata": {
        "id": "BS3Ziti1wXDH"
      },
      "source": [
        "#These are global variables (shared layers)\n",
        "## Fill your code here\n",
        "## you are allowed to use code in the demo as your template.  \n",
        "\n",
        "\n",
        "repeator = RepeatVector(maxIN)\n",
        "concatenator = Concatenate(axis=-1)\n",
        "\n",
        "splitter = Lambda(lambda tensor: tf.split(tensor, num_or_size_splits=2, axis=2))\n",
        "\n",
        "#Attention function###\n",
        "fattn_1 = Dense(10, activation = \"tanh\")\n",
        "fattn_2 = Dense(1, activation = \"relu\")\n",
        "###\n",
        "activator = Activation(softMaxAxis1, name='attention_scores') \n",
        "dotor = Dot(axes = 1)"
      ],
      "execution_count": null,
      "outputs": []
    },
    {
      "cell_type": "code",
      "metadata": {
        "id": "ecNci8x5wXDN"
      },
      "source": [
        "def one_step_attention(a, s_prev):\n",
        "\n",
        "    #Fill code here\n",
        "    #return None # return whatever you need to complete this homework \n",
        "     # Repeat the decoder hidden state to concat with encoder hidden states\n",
        "\n",
        "    s_prev = repeator(s_prev)\n",
        "    key , value = splitter(a)\n",
        "    concat = concatenator([key,s_prev])\n",
        "    # attention function\n",
        "    e = fattn_1(concat)\n",
        "    energies =fattn_2(e)\n",
        "    # calculate attention_scores (softmax)\n",
        "    attention_scores = activator(energies)\n",
        "    #calculate a context vector\n",
        "    context = dotor([attention_scores,value])\n",
        "\n",
        "    return context,attention_scores"
      ],
      "execution_count": null,
      "outputs": []
    },
    {
      "cell_type": "markdown",
      "metadata": {
        "id": "2bgSCY3NwXDU"
      },
      "source": [
        "## Task3: Create and train your encoder/decoder model here (1 point)\n",
        "* HINT: you will probably need more hidden dimmensions than what you've seen in the demo"
      ]
    },
    {
      "cell_type": "code",
      "metadata": {
        "id": "3CVrgh9nwXDV"
      },
      "source": [
        "#FILL CODE HERE\n",
        "n_h = 32 #hidden dimensions for encoder \n",
        "n_s = 64 #hidden dimensions for decoder\n",
        "encoder_LSTM =  Bidirectional(LSTM(n_h, return_sequences=True),input_shape=(-1, len(input_char_to_ix), n_h*2))\n",
        "decoder_LSTM_cell = LSTM(n_s, return_state = True) #decoder_LSTM_cell\n",
        "output_layer = Dense(len(output_char_to_ix), activation=\"softmax\") #softmax output layer"
      ],
      "execution_count": null,
      "outputs": []
    },
    {
      "cell_type": "code",
      "metadata": {
        "id": "TU4xus2ExRvb"
      },
      "source": [
        "def model(Tx, Ty, n_h, n_s, vocab_size, machine_vocab_size):\n",
        "    \"\"\"\n",
        "    Arguments:\n",
        "    Tx -- length of the input sequence\n",
        "    Ty -- length of the output sequence\n",
        "    n_h -- hidden state size of the Bi-LSTM\n",
        "    n_s -- hidden state size of the post-attention LSTM\n",
        "    vocab_size -- size of the input vocab\n",
        "    output_vocab_size -- size of the output vocab\n",
        "\n",
        "    Returns:\n",
        "    model -- Keras model instance\n",
        "    \"\"\"\n",
        "    \n",
        "    # Define the input of your model\n",
        "    X = Input(shape=(Tx, vocab_size))\n",
        "    # Define hidden state and cell state for decoder_LSTM_Cell\n",
        "    s0 = Input(shape=(n_s,), name='s0')\n",
        "    c0 = Input(shape=(n_s,), name='c0')\n",
        "    s = s0\n",
        "    c = c0\n",
        "    \n",
        "    # Initialize empty list of outputs\n",
        "    outputs = list()\n",
        "    attention_score = list()\n",
        "    #Encoder Bi-LSTM\n",
        "    # h = Bidirectional(LSTM(n_h, return_sequences=True),input_shape=(-1, Tx, n_h*2))(X)\n",
        "    h = encoder_LSTM(X)\n",
        "    #Iterate for Ty steps (Decoding)\n",
        "    for t in range(Ty):\n",
        "    \n",
        "        #Perform one step of the attention mechanism to calculate the context vector at timestep t\n",
        "        context,attention = one_step_attention(h, s)\n",
        "        attention_score.append(attention)\n",
        "        # Feed the context vector to the decoder LSTM cell\n",
        "        s, _, c = decoder_LSTM_cell(context,initial_state=[s,c])\n",
        "           \n",
        "        # Pass the decoder hidden output to the output layer (softmax)\n",
        "        out = output_layer(s)\n",
        "        \n",
        "        # Append an output list with the current output\n",
        "        outputs.append(out)\n",
        "    \n",
        "    #Create model instance\n",
        "    model = Model(inputs=[X,s0,c0],outputs=outputs)\n",
        "    modelPlt = Model(inputs=[X,s0,c0],outputs=[outputs,attention_score])\n",
        "\n",
        "    return model,modelPlt"
      ],
      "execution_count": null,
      "outputs": []
    },
    {
      "cell_type": "code",
      "metadata": {
        "id": "XptuOQj-wXDb"
      },
      "source": [
        "#FIT YOUR MODEL HERE\n",
        "model,modelPlt = model(maxIN, maxOUT+1, n_h, n_s, len(input_char_to_ix), len(output_char_to_ix))"
      ],
      "execution_count": null,
      "outputs": []
    },
    {
      "cell_type": "code",
      "metadata": {
        "colab": {
          "base_uri": "https://localhost:8080/"
        },
        "id": "FgzrKjqMDZCE",
        "outputId": "b04ebe7a-3bd3-4fa4-fb34-614277dd5b83"
      },
      "source": [
        "model.summary()"
      ],
      "execution_count": null,
      "outputs": [
        {
          "output_type": "stream",
          "text": [
            "Model: \"model\"\n",
            "__________________________________________________________________________________________________\n",
            "Layer (type)                    Output Shape         Param #     Connected to                     \n",
            "==================================================================================================\n",
            "input_1 (InputLayer)            [(None, 20, 65)]     0                                            \n",
            "__________________________________________________________________________________________________\n",
            "bidirectional (Bidirectional)   (None, 20, 64)       25088       input_1[0][0]                    \n",
            "__________________________________________________________________________________________________\n",
            "s0 (InputLayer)                 [(None, 64)]         0                                            \n",
            "__________________________________________________________________________________________________\n",
            "lambda (Lambda)                 [(None, 20, 32), (No 0           bidirectional[0][0]              \n",
            "                                                                 bidirectional[0][0]              \n",
            "                                                                 bidirectional[0][0]              \n",
            "                                                                 bidirectional[0][0]              \n",
            "                                                                 bidirectional[0][0]              \n",
            "                                                                 bidirectional[0][0]              \n",
            "                                                                 bidirectional[0][0]              \n",
            "                                                                 bidirectional[0][0]              \n",
            "                                                                 bidirectional[0][0]              \n",
            "                                                                 bidirectional[0][0]              \n",
            "                                                                 bidirectional[0][0]              \n",
            "                                                                 bidirectional[0][0]              \n",
            "                                                                 bidirectional[0][0]              \n",
            "                                                                 bidirectional[0][0]              \n",
            "                                                                 bidirectional[0][0]              \n",
            "                                                                 bidirectional[0][0]              \n",
            "                                                                 bidirectional[0][0]              \n",
            "                                                                 bidirectional[0][0]              \n",
            "                                                                 bidirectional[0][0]              \n",
            "                                                                 bidirectional[0][0]              \n",
            "__________________________________________________________________________________________________\n",
            "repeat_vector (RepeatVector)    (None, 20, 64)       0           s0[0][0]                         \n",
            "                                                                 lstm_1[0][0]                     \n",
            "                                                                 lstm_1[1][0]                     \n",
            "                                                                 lstm_1[2][0]                     \n",
            "                                                                 lstm_1[3][0]                     \n",
            "                                                                 lstm_1[4][0]                     \n",
            "                                                                 lstm_1[5][0]                     \n",
            "                                                                 lstm_1[6][0]                     \n",
            "                                                                 lstm_1[7][0]                     \n",
            "                                                                 lstm_1[8][0]                     \n",
            "                                                                 lstm_1[9][0]                     \n",
            "                                                                 lstm_1[10][0]                    \n",
            "                                                                 lstm_1[11][0]                    \n",
            "                                                                 lstm_1[12][0]                    \n",
            "                                                                 lstm_1[13][0]                    \n",
            "                                                                 lstm_1[14][0]                    \n",
            "                                                                 lstm_1[15][0]                    \n",
            "                                                                 lstm_1[16][0]                    \n",
            "                                                                 lstm_1[17][0]                    \n",
            "                                                                 lstm_1[18][0]                    \n",
            "__________________________________________________________________________________________________\n",
            "concatenate (Concatenate)       (None, 20, 96)       0           lambda[0][0]                     \n",
            "                                                                 repeat_vector[0][0]              \n",
            "                                                                 lambda[1][0]                     \n",
            "                                                                 repeat_vector[1][0]              \n",
            "                                                                 lambda[2][0]                     \n",
            "                                                                 repeat_vector[2][0]              \n",
            "                                                                 lambda[3][0]                     \n",
            "                                                                 repeat_vector[3][0]              \n",
            "                                                                 lambda[4][0]                     \n",
            "                                                                 repeat_vector[4][0]              \n",
            "                                                                 lambda[5][0]                     \n",
            "                                                                 repeat_vector[5][0]              \n",
            "                                                                 lambda[6][0]                     \n",
            "                                                                 repeat_vector[6][0]              \n",
            "                                                                 lambda[7][0]                     \n",
            "                                                                 repeat_vector[7][0]              \n",
            "                                                                 lambda[8][0]                     \n",
            "                                                                 repeat_vector[8][0]              \n",
            "                                                                 lambda[9][0]                     \n",
            "                                                                 repeat_vector[9][0]              \n",
            "                                                                 lambda[10][0]                    \n",
            "                                                                 repeat_vector[10][0]             \n",
            "                                                                 lambda[11][0]                    \n",
            "                                                                 repeat_vector[11][0]             \n",
            "                                                                 lambda[12][0]                    \n",
            "                                                                 repeat_vector[12][0]             \n",
            "                                                                 lambda[13][0]                    \n",
            "                                                                 repeat_vector[13][0]             \n",
            "                                                                 lambda[14][0]                    \n",
            "                                                                 repeat_vector[14][0]             \n",
            "                                                                 lambda[15][0]                    \n",
            "                                                                 repeat_vector[15][0]             \n",
            "                                                                 lambda[16][0]                    \n",
            "                                                                 repeat_vector[16][0]             \n",
            "                                                                 lambda[17][0]                    \n",
            "                                                                 repeat_vector[17][0]             \n",
            "                                                                 lambda[18][0]                    \n",
            "                                                                 repeat_vector[18][0]             \n",
            "                                                                 lambda[19][0]                    \n",
            "                                                                 repeat_vector[19][0]             \n",
            "__________________________________________________________________________________________________\n",
            "dense (Dense)                   (None, 20, 10)       970         concatenate[0][0]                \n",
            "                                                                 concatenate[1][0]                \n",
            "                                                                 concatenate[2][0]                \n",
            "                                                                 concatenate[3][0]                \n",
            "                                                                 concatenate[4][0]                \n",
            "                                                                 concatenate[5][0]                \n",
            "                                                                 concatenate[6][0]                \n",
            "                                                                 concatenate[7][0]                \n",
            "                                                                 concatenate[8][0]                \n",
            "                                                                 concatenate[9][0]                \n",
            "                                                                 concatenate[10][0]               \n",
            "                                                                 concatenate[11][0]               \n",
            "                                                                 concatenate[12][0]               \n",
            "                                                                 concatenate[13][0]               \n",
            "                                                                 concatenate[14][0]               \n",
            "                                                                 concatenate[15][0]               \n",
            "                                                                 concatenate[16][0]               \n",
            "                                                                 concatenate[17][0]               \n",
            "                                                                 concatenate[18][0]               \n",
            "                                                                 concatenate[19][0]               \n",
            "__________________________________________________________________________________________________\n",
            "dense_1 (Dense)                 (None, 20, 1)        11          dense[0][0]                      \n",
            "                                                                 dense[1][0]                      \n",
            "                                                                 dense[2][0]                      \n",
            "                                                                 dense[3][0]                      \n",
            "                                                                 dense[4][0]                      \n",
            "                                                                 dense[5][0]                      \n",
            "                                                                 dense[6][0]                      \n",
            "                                                                 dense[7][0]                      \n",
            "                                                                 dense[8][0]                      \n",
            "                                                                 dense[9][0]                      \n",
            "                                                                 dense[10][0]                     \n",
            "                                                                 dense[11][0]                     \n",
            "                                                                 dense[12][0]                     \n",
            "                                                                 dense[13][0]                     \n",
            "                                                                 dense[14][0]                     \n",
            "                                                                 dense[15][0]                     \n",
            "                                                                 dense[16][0]                     \n",
            "                                                                 dense[17][0]                     \n",
            "                                                                 dense[18][0]                     \n",
            "                                                                 dense[19][0]                     \n",
            "__________________________________________________________________________________________________\n",
            "attention_scores (Activation)   (None, 20, 1)        0           dense_1[0][0]                    \n",
            "                                                                 dense_1[1][0]                    \n",
            "                                                                 dense_1[2][0]                    \n",
            "                                                                 dense_1[3][0]                    \n",
            "                                                                 dense_1[4][0]                    \n",
            "                                                                 dense_1[5][0]                    \n",
            "                                                                 dense_1[6][0]                    \n",
            "                                                                 dense_1[7][0]                    \n",
            "                                                                 dense_1[8][0]                    \n",
            "                                                                 dense_1[9][0]                    \n",
            "                                                                 dense_1[10][0]                   \n",
            "                                                                 dense_1[11][0]                   \n",
            "                                                                 dense_1[12][0]                   \n",
            "                                                                 dense_1[13][0]                   \n",
            "                                                                 dense_1[14][0]                   \n",
            "                                                                 dense_1[15][0]                   \n",
            "                                                                 dense_1[16][0]                   \n",
            "                                                                 dense_1[17][0]                   \n",
            "                                                                 dense_1[18][0]                   \n",
            "                                                                 dense_1[19][0]                   \n",
            "__________________________________________________________________________________________________\n",
            "dot (Dot)                       (None, 1, 32)        0           attention_scores[0][0]           \n",
            "                                                                 lambda[0][1]                     \n",
            "                                                                 attention_scores[1][0]           \n",
            "                                                                 lambda[1][1]                     \n",
            "                                                                 attention_scores[2][0]           \n",
            "                                                                 lambda[2][1]                     \n",
            "                                                                 attention_scores[3][0]           \n",
            "                                                                 lambda[3][1]                     \n",
            "                                                                 attention_scores[4][0]           \n",
            "                                                                 lambda[4][1]                     \n",
            "                                                                 attention_scores[5][0]           \n",
            "                                                                 lambda[5][1]                     \n",
            "                                                                 attention_scores[6][0]           \n",
            "                                                                 lambda[6][1]                     \n",
            "                                                                 attention_scores[7][0]           \n",
            "                                                                 lambda[7][1]                     \n",
            "                                                                 attention_scores[8][0]           \n",
            "                                                                 lambda[8][1]                     \n",
            "                                                                 attention_scores[9][0]           \n",
            "                                                                 lambda[9][1]                     \n",
            "                                                                 attention_scores[10][0]          \n",
            "                                                                 lambda[10][1]                    \n",
            "                                                                 attention_scores[11][0]          \n",
            "                                                                 lambda[11][1]                    \n",
            "                                                                 attention_scores[12][0]          \n",
            "                                                                 lambda[12][1]                    \n",
            "                                                                 attention_scores[13][0]          \n",
            "                                                                 lambda[13][1]                    \n",
            "                                                                 attention_scores[14][0]          \n",
            "                                                                 lambda[14][1]                    \n",
            "                                                                 attention_scores[15][0]          \n",
            "                                                                 lambda[15][1]                    \n",
            "                                                                 attention_scores[16][0]          \n",
            "                                                                 lambda[16][1]                    \n",
            "                                                                 attention_scores[17][0]          \n",
            "                                                                 lambda[17][1]                    \n",
            "                                                                 attention_scores[18][0]          \n",
            "                                                                 lambda[18][1]                    \n",
            "                                                                 attention_scores[19][0]          \n",
            "                                                                 lambda[19][1]                    \n",
            "__________________________________________________________________________________________________\n",
            "c0 (InputLayer)                 [(None, 64)]         0                                            \n",
            "__________________________________________________________________________________________________\n",
            "lstm_1 (LSTM)                   [(None, 64), (None,  24832       dot[0][0]                        \n",
            "                                                                 s0[0][0]                         \n",
            "                                                                 c0[0][0]                         \n",
            "                                                                 dot[1][0]                        \n",
            "                                                                 lstm_1[0][0]                     \n",
            "                                                                 lstm_1[0][2]                     \n",
            "                                                                 dot[2][0]                        \n",
            "                                                                 lstm_1[1][0]                     \n",
            "                                                                 lstm_1[1][2]                     \n",
            "                                                                 dot[3][0]                        \n",
            "                                                                 lstm_1[2][0]                     \n",
            "                                                                 lstm_1[2][2]                     \n",
            "                                                                 dot[4][0]                        \n",
            "                                                                 lstm_1[3][0]                     \n",
            "                                                                 lstm_1[3][2]                     \n",
            "                                                                 dot[5][0]                        \n",
            "                                                                 lstm_1[4][0]                     \n",
            "                                                                 lstm_1[4][2]                     \n",
            "                                                                 dot[6][0]                        \n",
            "                                                                 lstm_1[5][0]                     \n",
            "                                                                 lstm_1[5][2]                     \n",
            "                                                                 dot[7][0]                        \n",
            "                                                                 lstm_1[6][0]                     \n",
            "                                                                 lstm_1[6][2]                     \n",
            "                                                                 dot[8][0]                        \n",
            "                                                                 lstm_1[7][0]                     \n",
            "                                                                 lstm_1[7][2]                     \n",
            "                                                                 dot[9][0]                        \n",
            "                                                                 lstm_1[8][0]                     \n",
            "                                                                 lstm_1[8][2]                     \n",
            "                                                                 dot[10][0]                       \n",
            "                                                                 lstm_1[9][0]                     \n",
            "                                                                 lstm_1[9][2]                     \n",
            "                                                                 dot[11][0]                       \n",
            "                                                                 lstm_1[10][0]                    \n",
            "                                                                 lstm_1[10][2]                    \n",
            "                                                                 dot[12][0]                       \n",
            "                                                                 lstm_1[11][0]                    \n",
            "                                                                 lstm_1[11][2]                    \n",
            "                                                                 dot[13][0]                       \n",
            "                                                                 lstm_1[12][0]                    \n",
            "                                                                 lstm_1[12][2]                    \n",
            "                                                                 dot[14][0]                       \n",
            "                                                                 lstm_1[13][0]                    \n",
            "                                                                 lstm_1[13][2]                    \n",
            "                                                                 dot[15][0]                       \n",
            "                                                                 lstm_1[14][0]                    \n",
            "                                                                 lstm_1[14][2]                    \n",
            "                                                                 dot[16][0]                       \n",
            "                                                                 lstm_1[15][0]                    \n",
            "                                                                 lstm_1[15][2]                    \n",
            "                                                                 dot[17][0]                       \n",
            "                                                                 lstm_1[16][0]                    \n",
            "                                                                 lstm_1[16][2]                    \n",
            "                                                                 dot[18][0]                       \n",
            "                                                                 lstm_1[17][0]                    \n",
            "                                                                 lstm_1[17][2]                    \n",
            "                                                                 dot[19][0]                       \n",
            "                                                                 lstm_1[18][0]                    \n",
            "                                                                 lstm_1[18][2]                    \n",
            "__________________________________________________________________________________________________\n",
            "dense_2 (Dense)                 (None, 24)           1560        lstm_1[0][0]                     \n",
            "                                                                 lstm_1[1][0]                     \n",
            "                                                                 lstm_1[2][0]                     \n",
            "                                                                 lstm_1[3][0]                     \n",
            "                                                                 lstm_1[4][0]                     \n",
            "                                                                 lstm_1[5][0]                     \n",
            "                                                                 lstm_1[6][0]                     \n",
            "                                                                 lstm_1[7][0]                     \n",
            "                                                                 lstm_1[8][0]                     \n",
            "                                                                 lstm_1[9][0]                     \n",
            "                                                                 lstm_1[10][0]                    \n",
            "                                                                 lstm_1[11][0]                    \n",
            "                                                                 lstm_1[12][0]                    \n",
            "                                                                 lstm_1[13][0]                    \n",
            "                                                                 lstm_1[14][0]                    \n",
            "                                                                 lstm_1[15][0]                    \n",
            "                                                                 lstm_1[16][0]                    \n",
            "                                                                 lstm_1[17][0]                    \n",
            "                                                                 lstm_1[18][0]                    \n",
            "                                                                 lstm_1[19][0]                    \n",
            "==================================================================================================\n",
            "Total params: 52,461\n",
            "Trainable params: 52,461\n",
            "Non-trainable params: 0\n",
            "__________________________________________________________________________________________________\n"
          ],
          "name": "stdout"
        }
      ]
    },
    {
      "cell_type": "code",
      "metadata": {
        "colab": {
          "base_uri": "https://localhost:8080/"
        },
        "id": "Yq_mPzYMDblt",
        "outputId": "e09c98fb-ac24-4128-f1bd-ed43782129bd"
      },
      "source": [
        "modelPlt.summary()"
      ],
      "execution_count": null,
      "outputs": [
        {
          "output_type": "stream",
          "text": [
            "Model: \"model_1\"\n",
            "__________________________________________________________________________________________________\n",
            "Layer (type)                    Output Shape         Param #     Connected to                     \n",
            "==================================================================================================\n",
            "input_1 (InputLayer)            [(None, 20, 65)]     0                                            \n",
            "__________________________________________________________________________________________________\n",
            "bidirectional (Bidirectional)   (None, 20, 64)       25088       input_1[0][0]                    \n",
            "__________________________________________________________________________________________________\n",
            "s0 (InputLayer)                 [(None, 64)]         0                                            \n",
            "__________________________________________________________________________________________________\n",
            "lambda (Lambda)                 [(None, 20, 32), (No 0           bidirectional[0][0]              \n",
            "                                                                 bidirectional[0][0]              \n",
            "                                                                 bidirectional[0][0]              \n",
            "                                                                 bidirectional[0][0]              \n",
            "                                                                 bidirectional[0][0]              \n",
            "                                                                 bidirectional[0][0]              \n",
            "                                                                 bidirectional[0][0]              \n",
            "                                                                 bidirectional[0][0]              \n",
            "                                                                 bidirectional[0][0]              \n",
            "                                                                 bidirectional[0][0]              \n",
            "                                                                 bidirectional[0][0]              \n",
            "                                                                 bidirectional[0][0]              \n",
            "                                                                 bidirectional[0][0]              \n",
            "                                                                 bidirectional[0][0]              \n",
            "                                                                 bidirectional[0][0]              \n",
            "                                                                 bidirectional[0][0]              \n",
            "                                                                 bidirectional[0][0]              \n",
            "                                                                 bidirectional[0][0]              \n",
            "                                                                 bidirectional[0][0]              \n",
            "                                                                 bidirectional[0][0]              \n",
            "__________________________________________________________________________________________________\n",
            "repeat_vector (RepeatVector)    (None, 20, 64)       0           s0[0][0]                         \n",
            "                                                                 lstm_1[0][0]                     \n",
            "                                                                 lstm_1[1][0]                     \n",
            "                                                                 lstm_1[2][0]                     \n",
            "                                                                 lstm_1[3][0]                     \n",
            "                                                                 lstm_1[4][0]                     \n",
            "                                                                 lstm_1[5][0]                     \n",
            "                                                                 lstm_1[6][0]                     \n",
            "                                                                 lstm_1[7][0]                     \n",
            "                                                                 lstm_1[8][0]                     \n",
            "                                                                 lstm_1[9][0]                     \n",
            "                                                                 lstm_1[10][0]                    \n",
            "                                                                 lstm_1[11][0]                    \n",
            "                                                                 lstm_1[12][0]                    \n",
            "                                                                 lstm_1[13][0]                    \n",
            "                                                                 lstm_1[14][0]                    \n",
            "                                                                 lstm_1[15][0]                    \n",
            "                                                                 lstm_1[16][0]                    \n",
            "                                                                 lstm_1[17][0]                    \n",
            "                                                                 lstm_1[18][0]                    \n",
            "__________________________________________________________________________________________________\n",
            "concatenate (Concatenate)       (None, 20, 96)       0           lambda[0][0]                     \n",
            "                                                                 repeat_vector[0][0]              \n",
            "                                                                 lambda[1][0]                     \n",
            "                                                                 repeat_vector[1][0]              \n",
            "                                                                 lambda[2][0]                     \n",
            "                                                                 repeat_vector[2][0]              \n",
            "                                                                 lambda[3][0]                     \n",
            "                                                                 repeat_vector[3][0]              \n",
            "                                                                 lambda[4][0]                     \n",
            "                                                                 repeat_vector[4][0]              \n",
            "                                                                 lambda[5][0]                     \n",
            "                                                                 repeat_vector[5][0]              \n",
            "                                                                 lambda[6][0]                     \n",
            "                                                                 repeat_vector[6][0]              \n",
            "                                                                 lambda[7][0]                     \n",
            "                                                                 repeat_vector[7][0]              \n",
            "                                                                 lambda[8][0]                     \n",
            "                                                                 repeat_vector[8][0]              \n",
            "                                                                 lambda[9][0]                     \n",
            "                                                                 repeat_vector[9][0]              \n",
            "                                                                 lambda[10][0]                    \n",
            "                                                                 repeat_vector[10][0]             \n",
            "                                                                 lambda[11][0]                    \n",
            "                                                                 repeat_vector[11][0]             \n",
            "                                                                 lambda[12][0]                    \n",
            "                                                                 repeat_vector[12][0]             \n",
            "                                                                 lambda[13][0]                    \n",
            "                                                                 repeat_vector[13][0]             \n",
            "                                                                 lambda[14][0]                    \n",
            "                                                                 repeat_vector[14][0]             \n",
            "                                                                 lambda[15][0]                    \n",
            "                                                                 repeat_vector[15][0]             \n",
            "                                                                 lambda[16][0]                    \n",
            "                                                                 repeat_vector[16][0]             \n",
            "                                                                 lambda[17][0]                    \n",
            "                                                                 repeat_vector[17][0]             \n",
            "                                                                 lambda[18][0]                    \n",
            "                                                                 repeat_vector[18][0]             \n",
            "                                                                 lambda[19][0]                    \n",
            "                                                                 repeat_vector[19][0]             \n",
            "__________________________________________________________________________________________________\n",
            "dense (Dense)                   (None, 20, 10)       970         concatenate[0][0]                \n",
            "                                                                 concatenate[1][0]                \n",
            "                                                                 concatenate[2][0]                \n",
            "                                                                 concatenate[3][0]                \n",
            "                                                                 concatenate[4][0]                \n",
            "                                                                 concatenate[5][0]                \n",
            "                                                                 concatenate[6][0]                \n",
            "                                                                 concatenate[7][0]                \n",
            "                                                                 concatenate[8][0]                \n",
            "                                                                 concatenate[9][0]                \n",
            "                                                                 concatenate[10][0]               \n",
            "                                                                 concatenate[11][0]               \n",
            "                                                                 concatenate[12][0]               \n",
            "                                                                 concatenate[13][0]               \n",
            "                                                                 concatenate[14][0]               \n",
            "                                                                 concatenate[15][0]               \n",
            "                                                                 concatenate[16][0]               \n",
            "                                                                 concatenate[17][0]               \n",
            "                                                                 concatenate[18][0]               \n",
            "                                                                 concatenate[19][0]               \n",
            "__________________________________________________________________________________________________\n",
            "dense_1 (Dense)                 (None, 20, 1)        11          dense[0][0]                      \n",
            "                                                                 dense[1][0]                      \n",
            "                                                                 dense[2][0]                      \n",
            "                                                                 dense[3][0]                      \n",
            "                                                                 dense[4][0]                      \n",
            "                                                                 dense[5][0]                      \n",
            "                                                                 dense[6][0]                      \n",
            "                                                                 dense[7][0]                      \n",
            "                                                                 dense[8][0]                      \n",
            "                                                                 dense[9][0]                      \n",
            "                                                                 dense[10][0]                     \n",
            "                                                                 dense[11][0]                     \n",
            "                                                                 dense[12][0]                     \n",
            "                                                                 dense[13][0]                     \n",
            "                                                                 dense[14][0]                     \n",
            "                                                                 dense[15][0]                     \n",
            "                                                                 dense[16][0]                     \n",
            "                                                                 dense[17][0]                     \n",
            "                                                                 dense[18][0]                     \n",
            "                                                                 dense[19][0]                     \n",
            "__________________________________________________________________________________________________\n",
            "attention_scores (Activation)   (None, 20, 1)        0           dense_1[0][0]                    \n",
            "                                                                 dense_1[1][0]                    \n",
            "                                                                 dense_1[2][0]                    \n",
            "                                                                 dense_1[3][0]                    \n",
            "                                                                 dense_1[4][0]                    \n",
            "                                                                 dense_1[5][0]                    \n",
            "                                                                 dense_1[6][0]                    \n",
            "                                                                 dense_1[7][0]                    \n",
            "                                                                 dense_1[8][0]                    \n",
            "                                                                 dense_1[9][0]                    \n",
            "                                                                 dense_1[10][0]                   \n",
            "                                                                 dense_1[11][0]                   \n",
            "                                                                 dense_1[12][0]                   \n",
            "                                                                 dense_1[13][0]                   \n",
            "                                                                 dense_1[14][0]                   \n",
            "                                                                 dense_1[15][0]                   \n",
            "                                                                 dense_1[16][0]                   \n",
            "                                                                 dense_1[17][0]                   \n",
            "                                                                 dense_1[18][0]                   \n",
            "                                                                 dense_1[19][0]                   \n",
            "__________________________________________________________________________________________________\n",
            "dot (Dot)                       (None, 1, 32)        0           attention_scores[0][0]           \n",
            "                                                                 lambda[0][1]                     \n",
            "                                                                 attention_scores[1][0]           \n",
            "                                                                 lambda[1][1]                     \n",
            "                                                                 attention_scores[2][0]           \n",
            "                                                                 lambda[2][1]                     \n",
            "                                                                 attention_scores[3][0]           \n",
            "                                                                 lambda[3][1]                     \n",
            "                                                                 attention_scores[4][0]           \n",
            "                                                                 lambda[4][1]                     \n",
            "                                                                 attention_scores[5][0]           \n",
            "                                                                 lambda[5][1]                     \n",
            "                                                                 attention_scores[6][0]           \n",
            "                                                                 lambda[6][1]                     \n",
            "                                                                 attention_scores[7][0]           \n",
            "                                                                 lambda[7][1]                     \n",
            "                                                                 attention_scores[8][0]           \n",
            "                                                                 lambda[8][1]                     \n",
            "                                                                 attention_scores[9][0]           \n",
            "                                                                 lambda[9][1]                     \n",
            "                                                                 attention_scores[10][0]          \n",
            "                                                                 lambda[10][1]                    \n",
            "                                                                 attention_scores[11][0]          \n",
            "                                                                 lambda[11][1]                    \n",
            "                                                                 attention_scores[12][0]          \n",
            "                                                                 lambda[12][1]                    \n",
            "                                                                 attention_scores[13][0]          \n",
            "                                                                 lambda[13][1]                    \n",
            "                                                                 attention_scores[14][0]          \n",
            "                                                                 lambda[14][1]                    \n",
            "                                                                 attention_scores[15][0]          \n",
            "                                                                 lambda[15][1]                    \n",
            "                                                                 attention_scores[16][0]          \n",
            "                                                                 lambda[16][1]                    \n",
            "                                                                 attention_scores[17][0]          \n",
            "                                                                 lambda[17][1]                    \n",
            "                                                                 attention_scores[18][0]          \n",
            "                                                                 lambda[18][1]                    \n",
            "                                                                 attention_scores[19][0]          \n",
            "                                                                 lambda[19][1]                    \n",
            "__________________________________________________________________________________________________\n",
            "c0 (InputLayer)                 [(None, 64)]         0                                            \n",
            "__________________________________________________________________________________________________\n",
            "lstm_1 (LSTM)                   [(None, 64), (None,  24832       dot[0][0]                        \n",
            "                                                                 s0[0][0]                         \n",
            "                                                                 c0[0][0]                         \n",
            "                                                                 dot[1][0]                        \n",
            "                                                                 lstm_1[0][0]                     \n",
            "                                                                 lstm_1[0][2]                     \n",
            "                                                                 dot[2][0]                        \n",
            "                                                                 lstm_1[1][0]                     \n",
            "                                                                 lstm_1[1][2]                     \n",
            "                                                                 dot[3][0]                        \n",
            "                                                                 lstm_1[2][0]                     \n",
            "                                                                 lstm_1[2][2]                     \n",
            "                                                                 dot[4][0]                        \n",
            "                                                                 lstm_1[3][0]                     \n",
            "                                                                 lstm_1[3][2]                     \n",
            "                                                                 dot[5][0]                        \n",
            "                                                                 lstm_1[4][0]                     \n",
            "                                                                 lstm_1[4][2]                     \n",
            "                                                                 dot[6][0]                        \n",
            "                                                                 lstm_1[5][0]                     \n",
            "                                                                 lstm_1[5][2]                     \n",
            "                                                                 dot[7][0]                        \n",
            "                                                                 lstm_1[6][0]                     \n",
            "                                                                 lstm_1[6][2]                     \n",
            "                                                                 dot[8][0]                        \n",
            "                                                                 lstm_1[7][0]                     \n",
            "                                                                 lstm_1[7][2]                     \n",
            "                                                                 dot[9][0]                        \n",
            "                                                                 lstm_1[8][0]                     \n",
            "                                                                 lstm_1[8][2]                     \n",
            "                                                                 dot[10][0]                       \n",
            "                                                                 lstm_1[9][0]                     \n",
            "                                                                 lstm_1[9][2]                     \n",
            "                                                                 dot[11][0]                       \n",
            "                                                                 lstm_1[10][0]                    \n",
            "                                                                 lstm_1[10][2]                    \n",
            "                                                                 dot[12][0]                       \n",
            "                                                                 lstm_1[11][0]                    \n",
            "                                                                 lstm_1[11][2]                    \n",
            "                                                                 dot[13][0]                       \n",
            "                                                                 lstm_1[12][0]                    \n",
            "                                                                 lstm_1[12][2]                    \n",
            "                                                                 dot[14][0]                       \n",
            "                                                                 lstm_1[13][0]                    \n",
            "                                                                 lstm_1[13][2]                    \n",
            "                                                                 dot[15][0]                       \n",
            "                                                                 lstm_1[14][0]                    \n",
            "                                                                 lstm_1[14][2]                    \n",
            "                                                                 dot[16][0]                       \n",
            "                                                                 lstm_1[15][0]                    \n",
            "                                                                 lstm_1[15][2]                    \n",
            "                                                                 dot[17][0]                       \n",
            "                                                                 lstm_1[16][0]                    \n",
            "                                                                 lstm_1[16][2]                    \n",
            "                                                                 dot[18][0]                       \n",
            "                                                                 lstm_1[17][0]                    \n",
            "                                                                 lstm_1[17][2]                    \n",
            "                                                                 dot[19][0]                       \n",
            "                                                                 lstm_1[18][0]                    \n",
            "                                                                 lstm_1[18][2]                    \n",
            "__________________________________________________________________________________________________\n",
            "dense_2 (Dense)                 (None, 24)           1560        lstm_1[0][0]                     \n",
            "                                                                 lstm_1[1][0]                     \n",
            "                                                                 lstm_1[2][0]                     \n",
            "                                                                 lstm_1[3][0]                     \n",
            "                                                                 lstm_1[4][0]                     \n",
            "                                                                 lstm_1[5][0]                     \n",
            "                                                                 lstm_1[6][0]                     \n",
            "                                                                 lstm_1[7][0]                     \n",
            "                                                                 lstm_1[8][0]                     \n",
            "                                                                 lstm_1[9][0]                     \n",
            "                                                                 lstm_1[10][0]                    \n",
            "                                                                 lstm_1[11][0]                    \n",
            "                                                                 lstm_1[12][0]                    \n",
            "                                                                 lstm_1[13][0]                    \n",
            "                                                                 lstm_1[14][0]                    \n",
            "                                                                 lstm_1[15][0]                    \n",
            "                                                                 lstm_1[16][0]                    \n",
            "                                                                 lstm_1[17][0]                    \n",
            "                                                                 lstm_1[18][0]                    \n",
            "                                                                 lstm_1[19][0]                    \n",
            "==================================================================================================\n",
            "Total params: 52,461\n",
            "Trainable params: 52,461\n",
            "Non-trainable params: 0\n",
            "__________________________________________________________________________________________________\n"
          ],
          "name": "stdout"
        }
      ]
    },
    {
      "cell_type": "code",
      "metadata": {
        "id": "oiD3E4sYzIbl"
      },
      "source": [
        "opt = Adam(lr= 0.01, clipvalue=0.5)\n",
        "model.compile(loss='categorical_crossentropy',optimizer=opt,metrics=['accuracy'])"
      ],
      "execution_count": null,
      "outputs": []
    },
    {
      "cell_type": "markdown",
      "metadata": {
        "id": "3C2RET9GwXDh"
      },
      "source": [
        "# Thai-Script to Roman-Script Translation\n",
        "* Task 4: Test your model on 5 examples of your choice including your name! (1 point)\n",
        "* Task 5: Show your visualization of attention scores on one of your example (1 point)"
      ]
    },
    {
      "cell_type": "code",
      "metadata": {
        "id": "gON7T2xVwXDk"
      },
      "source": [
        "#task 4\n",
        "#fill your code here\n",
        "s0 = np.zeros((len(name_th), n_s))\n",
        "c0 = np.zeros((len(name_th), n_s))\n",
        "outputs = list(Y.swapaxes(0,1))"
      ],
      "execution_count": null,
      "outputs": []
    },
    {
      "cell_type": "code",
      "metadata": {
        "colab": {
          "base_uri": "https://localhost:8080/"
        },
        "id": "WCAy68qE3HfT",
        "outputId": "348d2548-bf60-43d5-f9fb-dd27ea9090f1"
      },
      "source": [
        "np.array(outputs).shape"
      ],
      "execution_count": null,
      "outputs": [
        {
          "output_type": "execute_result",
          "data": {
            "text/plain": [
              "(20, 10887, 24)"
            ]
          },
          "metadata": {
            "tags": []
          },
          "execution_count": 18
        }
      ]
    },
    {
      "cell_type": "code",
      "metadata": {
        "colab": {
          "base_uri": "https://localhost:8080/"
        },
        "id": "RIuVnbF_1JGe",
        "outputId": "cef6f77e-bce4-4d54-8d01-bcd06df84882"
      },
      "source": [
        "model.fit([X, s0, c0], outputs, epochs=20, batch_size=120)"
      ],
      "execution_count": null,
      "outputs": [
        {
          "output_type": "stream",
          "text": [
            "Epoch 1/20\n",
            "91/91 [==============================] - 50s 110ms/step - loss: 31.9710 - dense_2_loss: 3.1490 - dense_2_1_loss: 2.9823 - dense_2_2_loss: 3.0735 - dense_2_3_loss: 3.1446 - dense_2_4_loss: 3.1080 - dense_2_5_loss: 2.9945 - dense_2_6_loss: 2.7229 - dense_2_7_loss: 2.2235 - dense_2_8_loss: 1.6880 - dense_2_9_loss: 1.2582 - dense_2_10_loss: 0.9449 - dense_2_11_loss: 0.7216 - dense_2_12_loss: 0.6008 - dense_2_13_loss: 0.5377 - dense_2_14_loss: 0.5004 - dense_2_15_loss: 0.4755 - dense_2_16_loss: 0.4687 - dense_2_17_loss: 0.4629 - dense_2_18_loss: 0.4579 - dense_2_19_loss: 0.4558 - dense_2_accuracy: 0.0436 - dense_2_1_accuracy: 0.1409 - dense_2_2_accuracy: 0.1112 - dense_2_3_accuracy: 0.0722 - dense_2_4_accuracy: 0.0901 - dense_2_5_accuracy: 0.1296 - dense_2_6_accuracy: 0.2169 - dense_2_7_accuracy: 0.3832 - dense_2_8_accuracy: 0.5738 - dense_2_9_accuracy: 0.7197 - dense_2_10_accuracy: 0.8133 - dense_2_11_accuracy: 0.8787 - dense_2_12_accuracy: 0.9105 - dense_2_13_accuracy: 0.9273 - dense_2_14_accuracy: 0.9349 - dense_2_15_accuracy: 0.9399 - dense_2_16_accuracy: 0.9413 - dense_2_17_accuracy: 0.9424 - dense_2_18_accuracy: 0.9431 - dense_2_19_accuracy: 0.9432\n",
            "Epoch 2/20\n",
            "91/91 [==============================] - 10s 109ms/step - loss: 22.4021 - dense_2_loss: 2.9208 - dense_2_1_loss: 2.5676 - dense_2_2_loss: 2.7218 - dense_2_3_loss: 2.8095 - dense_2_4_loss: 2.5696 - dense_2_5_loss: 2.3420 - dense_2_6_loss: 2.0494 - dense_2_7_loss: 1.5385 - dense_2_8_loss: 1.1020 - dense_2_9_loss: 0.7242 - dense_2_10_loss: 0.4528 - dense_2_11_loss: 0.2709 - dense_2_12_loss: 0.1497 - dense_2_13_loss: 0.0818 - dense_2_14_loss: 0.0400 - dense_2_15_loss: 0.0247 - dense_2_16_loss: 0.0167 - dense_2_17_loss: 0.0106 - dense_2_18_loss: 0.0057 - dense_2_19_loss: 0.0036 - dense_2_accuracy: 0.0638 - dense_2_1_accuracy: 0.2399 - dense_2_2_accuracy: 0.1941 - dense_2_3_accuracy: 0.1371 - dense_2_4_accuracy: 0.2097 - dense_2_5_accuracy: 0.2898 - dense_2_6_accuracy: 0.3513 - dense_2_7_accuracy: 0.4981 - dense_2_8_accuracy: 0.6382 - dense_2_9_accuracy: 0.7693 - dense_2_10_accuracy: 0.8668 - dense_2_11_accuracy: 0.9228 - dense_2_12_accuracy: 0.9615 - dense_2_13_accuracy: 0.9805 - dense_2_14_accuracy: 0.9904 - dense_2_15_accuracy: 0.9942 - dense_2_16_accuracy: 0.9965 - dense_2_17_accuracy: 0.9975 - dense_2_18_accuracy: 0.9986 - dense_2_19_accuracy: 0.9993\n",
            "Epoch 3/20\n",
            "91/91 [==============================] - 10s 110ms/step - loss: 21.3808 - dense_2_loss: 2.7936 - dense_2_1_loss: 2.3507 - dense_2_2_loss: 2.6212 - dense_2_3_loss: 2.7492 - dense_2_4_loss: 2.4910 - dense_2_5_loss: 2.2448 - dense_2_6_loss: 1.9727 - dense_2_7_loss: 1.4944 - dense_2_8_loss: 1.0717 - dense_2_9_loss: 0.7014 - dense_2_10_loss: 0.4112 - dense_2_11_loss: 0.2334 - dense_2_12_loss: 0.1290 - dense_2_13_loss: 0.0642 - dense_2_14_loss: 0.0289 - dense_2_15_loss: 0.0114 - dense_2_16_loss: 0.0054 - dense_2_17_loss: 0.0028 - dense_2_18_loss: 0.0022 - dense_2_19_loss: 0.0015 - dense_2_accuracy: 0.1006 - dense_2_1_accuracy: 0.2781 - dense_2_2_accuracy: 0.1840 - dense_2_3_accuracy: 0.1513 - dense_2_4_accuracy: 0.2185 - dense_2_5_accuracy: 0.3176 - dense_2_6_accuracy: 0.3721 - dense_2_7_accuracy: 0.5178 - dense_2_8_accuracy: 0.6370 - dense_2_9_accuracy: 0.7689 - dense_2_10_accuracy: 0.8736 - dense_2_11_accuracy: 0.9352 - dense_2_12_accuracy: 0.9652 - dense_2_13_accuracy: 0.9850 - dense_2_14_accuracy: 0.9928 - dense_2_15_accuracy: 0.9977 - dense_2_16_accuracy: 0.9987 - dense_2_17_accuracy: 0.9997 - dense_2_18_accuracy: 0.9996 - dense_2_19_accuracy: 0.9996\n",
            "Epoch 4/20\n",
            "91/91 [==============================] - 10s 110ms/step - loss: 19.6927 - dense_2_loss: 2.5433 - dense_2_1_loss: 1.9932 - dense_2_2_loss: 2.4267 - dense_2_3_loss: 2.5125 - dense_2_4_loss: 2.3332 - dense_2_5_loss: 2.1156 - dense_2_6_loss: 1.8529 - dense_2_7_loss: 1.3976 - dense_2_8_loss: 0.9979 - dense_2_9_loss: 0.6524 - dense_2_10_loss: 0.4006 - dense_2_11_loss: 0.2214 - dense_2_12_loss: 0.1222 - dense_2_13_loss: 0.0618 - dense_2_14_loss: 0.0297 - dense_2_15_loss: 0.0142 - dense_2_16_loss: 0.0094 - dense_2_17_loss: 0.0047 - dense_2_18_loss: 0.0019 - dense_2_19_loss: 0.0014 - dense_2_accuracy: 0.2741 - dense_2_1_accuracy: 0.3522 - dense_2_2_accuracy: 0.2302 - dense_2_3_accuracy: 0.2186 - dense_2_4_accuracy: 0.2556 - dense_2_5_accuracy: 0.3320 - dense_2_6_accuracy: 0.4066 - dense_2_7_accuracy: 0.5505 - dense_2_8_accuracy: 0.6675 - dense_2_9_accuracy: 0.7826 - dense_2_10_accuracy: 0.8755 - dense_2_11_accuracy: 0.9352 - dense_2_12_accuracy: 0.9647 - dense_2_13_accuracy: 0.9838 - dense_2_14_accuracy: 0.9925 - dense_2_15_accuracy: 0.9967 - dense_2_16_accuracy: 0.9978 - dense_2_17_accuracy: 0.9988 - dense_2_18_accuracy: 0.9997 - dense_2_19_accuracy: 0.9996\n",
            "Epoch 5/20\n",
            "91/91 [==============================] - 10s 108ms/step - loss: 17.8184 - dense_2_loss: 2.1109 - dense_2_1_loss: 1.6913 - dense_2_2_loss: 2.2462 - dense_2_3_loss: 2.3001 - dense_2_4_loss: 2.1457 - dense_2_5_loss: 1.9213 - dense_2_6_loss: 1.7091 - dense_2_7_loss: 1.3259 - dense_2_8_loss: 0.9476 - dense_2_9_loss: 0.6283 - dense_2_10_loss: 0.3790 - dense_2_11_loss: 0.1985 - dense_2_12_loss: 0.1053 - dense_2_13_loss: 0.0545 - dense_2_14_loss: 0.0264 - dense_2_15_loss: 0.0132 - dense_2_16_loss: 0.0067 - dense_2_17_loss: 0.0043 - dense_2_18_loss: 0.0023 - dense_2_19_loss: 0.0017 - dense_2_accuracy: 0.3520 - dense_2_1_accuracy: 0.4168 - dense_2_2_accuracy: 0.2839 - dense_2_3_accuracy: 0.2740 - dense_2_4_accuracy: 0.2958 - dense_2_5_accuracy: 0.3926 - dense_2_6_accuracy: 0.4266 - dense_2_7_accuracy: 0.5572 - dense_2_8_accuracy: 0.6719 - dense_2_9_accuracy: 0.7911 - dense_2_10_accuracy: 0.8789 - dense_2_11_accuracy: 0.9393 - dense_2_12_accuracy: 0.9697 - dense_2_13_accuracy: 0.9850 - dense_2_14_accuracy: 0.9928 - dense_2_15_accuracy: 0.9971 - dense_2_16_accuracy: 0.9985 - dense_2_17_accuracy: 0.9989 - dense_2_18_accuracy: 0.9996 - dense_2_19_accuracy: 0.9997\n",
            "Epoch 6/20\n",
            "91/91 [==============================] - 10s 110ms/step - loss: 16.1286 - dense_2_loss: 1.7281 - dense_2_1_loss: 1.3362 - dense_2_2_loss: 2.0033 - dense_2_3_loss: 2.1719 - dense_2_4_loss: 2.0375 - dense_2_5_loss: 1.8263 - dense_2_6_loss: 1.5890 - dense_2_7_loss: 1.2095 - dense_2_8_loss: 0.8718 - dense_2_9_loss: 0.5652 - dense_2_10_loss: 0.3577 - dense_2_11_loss: 0.1945 - dense_2_12_loss: 0.1102 - dense_2_13_loss: 0.0588 - dense_2_14_loss: 0.0320 - dense_2_15_loss: 0.0172 - dense_2_16_loss: 0.0109 - dense_2_17_loss: 0.0049 - dense_2_18_loss: 0.0022 - dense_2_19_loss: 0.0014 - dense_2_accuracy: 0.4664 - dense_2_1_accuracy: 0.5292 - dense_2_2_accuracy: 0.3462 - dense_2_3_accuracy: 0.3088 - dense_2_4_accuracy: 0.3236 - dense_2_5_accuracy: 0.4206 - dense_2_6_accuracy: 0.4696 - dense_2_7_accuracy: 0.5930 - dense_2_8_accuracy: 0.6957 - dense_2_9_accuracy: 0.8070 - dense_2_10_accuracy: 0.8809 - dense_2_11_accuracy: 0.9330 - dense_2_12_accuracy: 0.9669 - dense_2_13_accuracy: 0.9816 - dense_2_14_accuracy: 0.9910 - dense_2_15_accuracy: 0.9954 - dense_2_16_accuracy: 0.9967 - dense_2_17_accuracy: 0.9983 - dense_2_18_accuracy: 0.9996 - dense_2_19_accuracy: 0.9997\n",
            "Epoch 7/20\n",
            "91/91 [==============================] - 10s 111ms/step - loss: 14.4334 - dense_2_loss: 1.3537 - dense_2_1_loss: 0.9976 - dense_2_2_loss: 1.6865 - dense_2_3_loss: 1.9946 - dense_2_4_loss: 1.8843 - dense_2_5_loss: 1.7148 - dense_2_6_loss: 1.5088 - dense_2_7_loss: 1.1530 - dense_2_8_loss: 0.8395 - dense_2_9_loss: 0.5529 - dense_2_10_loss: 0.3430 - dense_2_11_loss: 0.1893 - dense_2_12_loss: 0.1035 - dense_2_13_loss: 0.0593 - dense_2_14_loss: 0.0267 - dense_2_15_loss: 0.0121 - dense_2_16_loss: 0.0073 - dense_2_17_loss: 0.0037 - dense_2_18_loss: 0.0016 - dense_2_19_loss: 9.3811e-04 - dense_2_accuracy: 0.5711 - dense_2_1_accuracy: 0.6539 - dense_2_2_accuracy: 0.4299 - dense_2_3_accuracy: 0.3534 - dense_2_4_accuracy: 0.3859 - dense_2_5_accuracy: 0.4472 - dense_2_6_accuracy: 0.5009 - dense_2_7_accuracy: 0.6002 - dense_2_8_accuracy: 0.7144 - dense_2_9_accuracy: 0.8161 - dense_2_10_accuracy: 0.8854 - dense_2_11_accuracy: 0.9385 - dense_2_12_accuracy: 0.9658 - dense_2_13_accuracy: 0.9846 - dense_2_14_accuracy: 0.9919 - dense_2_15_accuracy: 0.9971 - dense_2_16_accuracy: 0.9982 - dense_2_17_accuracy: 0.9990 - dense_2_18_accuracy: 0.9996 - dense_2_19_accuracy: 0.9998\n",
            "Epoch 8/20\n",
            "91/91 [==============================] - 10s 109ms/step - loss: 13.1371 - dense_2_loss: 1.0281 - dense_2_1_loss: 0.8038 - dense_2_2_loss: 1.4898 - dense_2_3_loss: 1.7738 - dense_2_4_loss: 1.7787 - dense_2_5_loss: 1.6248 - dense_2_6_loss: 1.4663 - dense_2_7_loss: 1.1188 - dense_2_8_loss: 0.8206 - dense_2_9_loss: 0.5302 - dense_2_10_loss: 0.3211 - dense_2_11_loss: 0.1713 - dense_2_12_loss: 0.0880 - dense_2_13_loss: 0.0506 - dense_2_14_loss: 0.0311 - dense_2_15_loss: 0.0181 - dense_2_16_loss: 0.0122 - dense_2_17_loss: 0.0057 - dense_2_18_loss: 0.0025 - dense_2_19_loss: 0.0016 - dense_2_accuracy: 0.7018 - dense_2_1_accuracy: 0.7287 - dense_2_2_accuracy: 0.5097 - dense_2_3_accuracy: 0.4415 - dense_2_4_accuracy: 0.4352 - dense_2_5_accuracy: 0.4769 - dense_2_6_accuracy: 0.5213 - dense_2_7_accuracy: 0.6161 - dense_2_8_accuracy: 0.7150 - dense_2_9_accuracy: 0.8163 - dense_2_10_accuracy: 0.8874 - dense_2_11_accuracy: 0.9393 - dense_2_12_accuracy: 0.9697 - dense_2_13_accuracy: 0.9857 - dense_2_14_accuracy: 0.9910 - dense_2_15_accuracy: 0.9955 - dense_2_16_accuracy: 0.9968 - dense_2_17_accuracy: 0.9985 - dense_2_18_accuracy: 0.9995 - dense_2_19_accuracy: 0.9999\n",
            "Epoch 9/20\n",
            "91/91 [==============================] - 10s 111ms/step - loss: 11.8201 - dense_2_loss: 0.7456 - dense_2_1_loss: 0.6732 - dense_2_2_loss: 1.3227 - dense_2_3_loss: 1.5904 - dense_2_4_loss: 1.6190 - dense_2_5_loss: 1.5088 - dense_2_6_loss: 1.3508 - dense_2_7_loss: 1.0357 - dense_2_8_loss: 0.7762 - dense_2_9_loss: 0.5112 - dense_2_10_loss: 0.3166 - dense_2_11_loss: 0.1740 - dense_2_12_loss: 0.0928 - dense_2_13_loss: 0.0520 - dense_2_14_loss: 0.0264 - dense_2_15_loss: 0.0121 - dense_2_16_loss: 0.0070 - dense_2_17_loss: 0.0033 - dense_2_18_loss: 0.0016 - dense_2_19_loss: 9.4317e-04 - dense_2_accuracy: 0.8079 - dense_2_1_accuracy: 0.7744 - dense_2_2_accuracy: 0.5836 - dense_2_3_accuracy: 0.4986 - dense_2_4_accuracy: 0.4771 - dense_2_5_accuracy: 0.5180 - dense_2_6_accuracy: 0.5564 - dense_2_7_accuracy: 0.6514 - dense_2_8_accuracy: 0.7317 - dense_2_9_accuracy: 0.8267 - dense_2_10_accuracy: 0.8950 - dense_2_11_accuracy: 0.9440 - dense_2_12_accuracy: 0.9704 - dense_2_13_accuracy: 0.9842 - dense_2_14_accuracy: 0.9921 - dense_2_15_accuracy: 0.9967 - dense_2_16_accuracy: 0.9981 - dense_2_17_accuracy: 0.9991 - dense_2_18_accuracy: 0.9997 - dense_2_19_accuracy: 0.9999\n",
            "Epoch 10/20\n",
            "91/91 [==============================] - 10s 111ms/step - loss: 10.4146 - dense_2_loss: 0.5552 - dense_2_1_loss: 0.5751 - dense_2_2_loss: 1.1335 - dense_2_3_loss: 1.4264 - dense_2_4_loss: 1.4167 - dense_2_5_loss: 1.3522 - dense_2_6_loss: 1.2148 - dense_2_7_loss: 0.9576 - dense_2_8_loss: 0.7008 - dense_2_9_loss: 0.4697 - dense_2_10_loss: 0.2818 - dense_2_11_loss: 0.1580 - dense_2_12_loss: 0.0848 - dense_2_13_loss: 0.0463 - dense_2_14_loss: 0.0215 - dense_2_15_loss: 0.0106 - dense_2_16_loss: 0.0055 - dense_2_17_loss: 0.0024 - dense_2_18_loss: 0.0011 - dense_2_19_loss: 7.1850e-04 - dense_2_accuracy: 0.8631 - dense_2_1_accuracy: 0.8156 - dense_2_2_accuracy: 0.6349 - dense_2_3_accuracy: 0.5562 - dense_2_4_accuracy: 0.5479 - dense_2_5_accuracy: 0.5711 - dense_2_6_accuracy: 0.6088 - dense_2_7_accuracy: 0.6846 - dense_2_8_accuracy: 0.7619 - dense_2_9_accuracy: 0.8409 - dense_2_10_accuracy: 0.9071 - dense_2_11_accuracy: 0.9468 - dense_2_12_accuracy: 0.9713 - dense_2_13_accuracy: 0.9840 - dense_2_14_accuracy: 0.9931 - dense_2_15_accuracy: 0.9974 - dense_2_16_accuracy: 0.9986 - dense_2_17_accuracy: 0.9991 - dense_2_18_accuracy: 0.9999 - dense_2_19_accuracy: 0.9999\n",
            "Epoch 11/20\n",
            "91/91 [==============================] - 10s 111ms/step - loss: 9.6939 - dense_2_loss: 0.4693 - dense_2_1_loss: 0.5164 - dense_2_2_loss: 1.0233 - dense_2_3_loss: 1.3115 - dense_2_4_loss: 1.3263 - dense_2_5_loss: 1.2617 - dense_2_6_loss: 1.1421 - dense_2_7_loss: 0.9011 - dense_2_8_loss: 0.6776 - dense_2_9_loss: 0.4634 - dense_2_10_loss: 0.2784 - dense_2_11_loss: 0.1551 - dense_2_12_loss: 0.0857 - dense_2_13_loss: 0.0440 - dense_2_14_loss: 0.0200 - dense_2_15_loss: 0.0092 - dense_2_16_loss: 0.0050 - dense_2_17_loss: 0.0022 - dense_2_18_loss: 0.0012 - dense_2_19_loss: 5.7369e-04 - dense_2_accuracy: 0.8761 - dense_2_1_accuracy: 0.8262 - dense_2_2_accuracy: 0.6783 - dense_2_3_accuracy: 0.5948 - dense_2_4_accuracy: 0.5796 - dense_2_5_accuracy: 0.5964 - dense_2_6_accuracy: 0.6360 - dense_2_7_accuracy: 0.7036 - dense_2_8_accuracy: 0.7699 - dense_2_9_accuracy: 0.8410 - dense_2_10_accuracy: 0.9048 - dense_2_11_accuracy: 0.9462 - dense_2_12_accuracy: 0.9703 - dense_2_13_accuracy: 0.9847 - dense_2_14_accuracy: 0.9937 - dense_2_15_accuracy: 0.9973 - dense_2_16_accuracy: 0.9983 - dense_2_17_accuracy: 0.9993 - dense_2_18_accuracy: 0.9998 - dense_2_19_accuracy: 0.9999\n",
            "Epoch 12/20\n",
            "91/91 [==============================] - 10s 110ms/step - loss: 8.8236 - dense_2_loss: 0.3978 - dense_2_1_loss: 0.4744 - dense_2_2_loss: 0.9291 - dense_2_3_loss: 1.1917 - dense_2_4_loss: 1.2254 - dense_2_5_loss: 1.1657 - dense_2_6_loss: 1.0270 - dense_2_7_loss: 0.8183 - dense_2_8_loss: 0.6186 - dense_2_9_loss: 0.4048 - dense_2_10_loss: 0.2494 - dense_2_11_loss: 0.1490 - dense_2_12_loss: 0.0824 - dense_2_13_loss: 0.0428 - dense_2_14_loss: 0.0223 - dense_2_15_loss: 0.0126 - dense_2_16_loss: 0.0057 - dense_2_17_loss: 0.0039 - dense_2_18_loss: 0.0022 - dense_2_19_loss: 6.9347e-04 - dense_2_accuracy: 0.8956 - dense_2_1_accuracy: 0.8413 - dense_2_2_accuracy: 0.7131 - dense_2_3_accuracy: 0.6413 - dense_2_4_accuracy: 0.6082 - dense_2_5_accuracy: 0.6284 - dense_2_6_accuracy: 0.6746 - dense_2_7_accuracy: 0.7331 - dense_2_8_accuracy: 0.7927 - dense_2_9_accuracy: 0.8663 - dense_2_10_accuracy: 0.9192 - dense_2_11_accuracy: 0.9487 - dense_2_12_accuracy: 0.9723 - dense_2_13_accuracy: 0.9849 - dense_2_14_accuracy: 0.9920 - dense_2_15_accuracy: 0.9957 - dense_2_16_accuracy: 0.9985 - dense_2_17_accuracy: 0.9989 - dense_2_18_accuracy: 0.9995 - dense_2_19_accuracy: 0.9998\n",
            "Epoch 13/20\n",
            "91/91 [==============================] - 10s 111ms/step - loss: 8.2211 - dense_2_loss: 0.3478 - dense_2_1_loss: 0.4391 - dense_2_2_loss: 0.8329 - dense_2_3_loss: 1.0965 - dense_2_4_loss: 1.1118 - dense_2_5_loss: 1.0612 - dense_2_6_loss: 0.9610 - dense_2_7_loss: 0.7800 - dense_2_8_loss: 0.5896 - dense_2_9_loss: 0.4044 - dense_2_10_loss: 0.2645 - dense_2_11_loss: 0.1567 - dense_2_12_loss: 0.0836 - dense_2_13_loss: 0.0439 - dense_2_14_loss: 0.0229 - dense_2_15_loss: 0.0117 - dense_2_16_loss: 0.0059 - dense_2_17_loss: 0.0039 - dense_2_18_loss: 0.0024 - dense_2_19_loss: 0.0014 - dense_2_accuracy: 0.9106 - dense_2_1_accuracy: 0.8539 - dense_2_2_accuracy: 0.7456 - dense_2_3_accuracy: 0.6677 - dense_2_4_accuracy: 0.6496 - dense_2_5_accuracy: 0.6616 - dense_2_6_accuracy: 0.6843 - dense_2_7_accuracy: 0.7443 - dense_2_8_accuracy: 0.8014 - dense_2_9_accuracy: 0.8642 - dense_2_10_accuracy: 0.9118 - dense_2_11_accuracy: 0.9448 - dense_2_12_accuracy: 0.9707 - dense_2_13_accuracy: 0.9863 - dense_2_14_accuracy: 0.9919 - dense_2_15_accuracy: 0.9960 - dense_2_16_accuracy: 0.9978 - dense_2_17_accuracy: 0.9986 - dense_2_18_accuracy: 0.9992 - dense_2_19_accuracy: 0.9996\n",
            "Epoch 14/20\n",
            "91/91 [==============================] - 10s 113ms/step - loss: 7.3251 - dense_2_loss: 0.2879 - dense_2_1_loss: 0.3706 - dense_2_2_loss: 0.7287 - dense_2_3_loss: 0.9973 - dense_2_4_loss: 1.0238 - dense_2_5_loss: 0.9598 - dense_2_6_loss: 0.8452 - dense_2_7_loss: 0.6968 - dense_2_8_loss: 0.5330 - dense_2_9_loss: 0.3665 - dense_2_10_loss: 0.2272 - dense_2_11_loss: 0.1380 - dense_2_12_loss: 0.0735 - dense_2_13_loss: 0.0354 - dense_2_14_loss: 0.0177 - dense_2_15_loss: 0.0097 - dense_2_16_loss: 0.0067 - dense_2_17_loss: 0.0038 - dense_2_18_loss: 0.0021 - dense_2_19_loss: 0.0013 - dense_2_accuracy: 0.9206 - dense_2_1_accuracy: 0.8750 - dense_2_2_accuracy: 0.7829 - dense_2_3_accuracy: 0.7018 - dense_2_4_accuracy: 0.6776 - dense_2_5_accuracy: 0.6938 - dense_2_6_accuracy: 0.7316 - dense_2_7_accuracy: 0.7749 - dense_2_8_accuracy: 0.8234 - dense_2_9_accuracy: 0.8781 - dense_2_10_accuracy: 0.9290 - dense_2_11_accuracy: 0.9546 - dense_2_12_accuracy: 0.9743 - dense_2_13_accuracy: 0.9875 - dense_2_14_accuracy: 0.9933 - dense_2_15_accuracy: 0.9968 - dense_2_16_accuracy: 0.9981 - dense_2_17_accuracy: 0.9988 - dense_2_18_accuracy: 0.9992 - dense_2_19_accuracy: 0.9998\n",
            "Epoch 15/20\n",
            "91/91 [==============================] - 10s 112ms/step - loss: 6.5731 - dense_2_loss: 0.2308 - dense_2_1_loss: 0.3463 - dense_2_2_loss: 0.6866 - dense_2_3_loss: 0.8593 - dense_2_4_loss: 0.9053 - dense_2_5_loss: 0.8478 - dense_2_6_loss: 0.7611 - dense_2_7_loss: 0.6448 - dense_2_8_loss: 0.4786 - dense_2_9_loss: 0.3341 - dense_2_10_loss: 0.2067 - dense_2_11_loss: 0.1210 - dense_2_12_loss: 0.0720 - dense_2_13_loss: 0.0401 - dense_2_14_loss: 0.0180 - dense_2_15_loss: 0.0102 - dense_2_16_loss: 0.0062 - dense_2_17_loss: 0.0025 - dense_2_18_loss: 0.0010 - dense_2_19_loss: 6.0677e-04 - dense_2_accuracy: 0.9367 - dense_2_1_accuracy: 0.8880 - dense_2_2_accuracy: 0.7920 - dense_2_3_accuracy: 0.7412 - dense_2_4_accuracy: 0.7212 - dense_2_5_accuracy: 0.7327 - dense_2_6_accuracy: 0.7626 - dense_2_7_accuracy: 0.7943 - dense_2_8_accuracy: 0.8420 - dense_2_9_accuracy: 0.8885 - dense_2_10_accuracy: 0.9317 - dense_2_11_accuracy: 0.9565 - dense_2_12_accuracy: 0.9733 - dense_2_13_accuracy: 0.9860 - dense_2_14_accuracy: 0.9940 - dense_2_15_accuracy: 0.9969 - dense_2_16_accuracy: 0.9982 - dense_2_17_accuracy: 0.9992 - dense_2_18_accuracy: 0.9998 - dense_2_19_accuracy: 0.9998\n",
            "Epoch 16/20\n",
            "91/91 [==============================] - 10s 112ms/step - loss: 5.7976 - dense_2_loss: 0.2058 - dense_2_1_loss: 0.2924 - dense_2_2_loss: 0.5898 - dense_2_3_loss: 0.7316 - dense_2_4_loss: 0.7804 - dense_2_5_loss: 0.7509 - dense_2_6_loss: 0.6713 - dense_2_7_loss: 0.5677 - dense_2_8_loss: 0.4328 - dense_2_9_loss: 0.3126 - dense_2_10_loss: 0.1980 - dense_2_11_loss: 0.1184 - dense_2_12_loss: 0.0702 - dense_2_13_loss: 0.0373 - dense_2_14_loss: 0.0187 - dense_2_15_loss: 0.0100 - dense_2_16_loss: 0.0055 - dense_2_17_loss: 0.0025 - dense_2_18_loss: 0.0015 - dense_2_19_loss: 2.9265e-04 - dense_2_accuracy: 0.9443 - dense_2_1_accuracy: 0.9029 - dense_2_2_accuracy: 0.8297 - dense_2_3_accuracy: 0.7878 - dense_2_4_accuracy: 0.7646 - dense_2_5_accuracy: 0.7622 - dense_2_6_accuracy: 0.7935 - dense_2_7_accuracy: 0.8174 - dense_2_8_accuracy: 0.8579 - dense_2_9_accuracy: 0.8944 - dense_2_10_accuracy: 0.9362 - dense_2_11_accuracy: 0.9608 - dense_2_12_accuracy: 0.9770 - dense_2_13_accuracy: 0.9877 - dense_2_14_accuracy: 0.9935 - dense_2_15_accuracy: 0.9971 - dense_2_16_accuracy: 0.9988 - dense_2_17_accuracy: 0.9994 - dense_2_18_accuracy: 0.9997 - dense_2_19_accuracy: 0.9999\n",
            "Epoch 17/20\n",
            "91/91 [==============================] - 10s 112ms/step - loss: 5.0838 - dense_2_loss: 0.1760 - dense_2_1_loss: 0.2711 - dense_2_2_loss: 0.5294 - dense_2_3_loss: 0.6369 - dense_2_4_loss: 0.6631 - dense_2_5_loss: 0.6380 - dense_2_6_loss: 0.5710 - dense_2_7_loss: 0.4899 - dense_2_8_loss: 0.3928 - dense_2_9_loss: 0.2841 - dense_2_10_loss: 0.1782 - dense_2_11_loss: 0.1107 - dense_2_12_loss: 0.0661 - dense_2_13_loss: 0.0376 - dense_2_14_loss: 0.0200 - dense_2_15_loss: 0.0104 - dense_2_16_loss: 0.0050 - dense_2_17_loss: 0.0022 - dense_2_18_loss: 7.6623e-04 - dense_2_19_loss: 4.2620e-04 - dense_2_accuracy: 0.9536 - dense_2_1_accuracy: 0.9085 - dense_2_2_accuracy: 0.8423 - dense_2_3_accuracy: 0.8220 - dense_2_4_accuracy: 0.8000 - dense_2_5_accuracy: 0.8083 - dense_2_6_accuracy: 0.8282 - dense_2_7_accuracy: 0.8464 - dense_2_8_accuracy: 0.8744 - dense_2_9_accuracy: 0.9056 - dense_2_10_accuracy: 0.9425 - dense_2_11_accuracy: 0.9628 - dense_2_12_accuracy: 0.9778 - dense_2_13_accuracy: 0.9861 - dense_2_14_accuracy: 0.9938 - dense_2_15_accuracy: 0.9966 - dense_2_16_accuracy: 0.9987 - dense_2_17_accuracy: 0.9993 - dense_2_18_accuracy: 0.9999 - dense_2_19_accuracy: 0.9999\n",
            "Epoch 18/20\n",
            "91/91 [==============================] - 10s 113ms/step - loss: 4.4508 - dense_2_loss: 0.1502 - dense_2_1_loss: 0.2381 - dense_2_2_loss: 0.4528 - dense_2_3_loss: 0.5360 - dense_2_4_loss: 0.5632 - dense_2_5_loss: 0.5603 - dense_2_6_loss: 0.5048 - dense_2_7_loss: 0.4431 - dense_2_8_loss: 0.3532 - dense_2_9_loss: 0.2553 - dense_2_10_loss: 0.1649 - dense_2_11_loss: 0.1037 - dense_2_12_loss: 0.0579 - dense_2_13_loss: 0.0317 - dense_2_14_loss: 0.0168 - dense_2_15_loss: 0.0088 - dense_2_16_loss: 0.0048 - dense_2_17_loss: 0.0027 - dense_2_18_loss: 0.0018 - dense_2_19_loss: 5.8767e-04 - dense_2_accuracy: 0.9638 - dense_2_1_accuracy: 0.9208 - dense_2_2_accuracy: 0.8660 - dense_2_3_accuracy: 0.8471 - dense_2_4_accuracy: 0.8324 - dense_2_5_accuracy: 0.8301 - dense_2_6_accuracy: 0.8514 - dense_2_7_accuracy: 0.8636 - dense_2_8_accuracy: 0.8908 - dense_2_9_accuracy: 0.9176 - dense_2_10_accuracy: 0.9469 - dense_2_11_accuracy: 0.9647 - dense_2_12_accuracy: 0.9792 - dense_2_13_accuracy: 0.9885 - dense_2_14_accuracy: 0.9943 - dense_2_15_accuracy: 0.9970 - dense_2_16_accuracy: 0.9987 - dense_2_17_accuracy: 0.9991 - dense_2_18_accuracy: 0.9994 - dense_2_19_accuracy: 0.9998\n",
            "Epoch 19/20\n",
            "91/91 [==============================] - 11s 117ms/step - loss: 4.2628 - dense_2_loss: 0.1470 - dense_2_1_loss: 0.2326 - dense_2_2_loss: 0.4159 - dense_2_3_loss: 0.4755 - dense_2_4_loss: 0.5187 - dense_2_5_loss: 0.5281 - dense_2_6_loss: 0.4770 - dense_2_7_loss: 0.4261 - dense_2_8_loss: 0.3503 - dense_2_9_loss: 0.2612 - dense_2_10_loss: 0.1674 - dense_2_11_loss: 0.1123 - dense_2_12_loss: 0.0629 - dense_2_13_loss: 0.0419 - dense_2_14_loss: 0.0236 - dense_2_15_loss: 0.0109 - dense_2_16_loss: 0.0063 - dense_2_17_loss: 0.0029 - dense_2_18_loss: 0.0014 - dense_2_19_loss: 8.4804e-04 - dense_2_accuracy: 0.9646 - dense_2_1_accuracy: 0.9309 - dense_2_2_accuracy: 0.8768 - dense_2_3_accuracy: 0.8627 - dense_2_4_accuracy: 0.8459 - dense_2_5_accuracy: 0.8409 - dense_2_6_accuracy: 0.8593 - dense_2_7_accuracy: 0.8662 - dense_2_8_accuracy: 0.8884 - dense_2_9_accuracy: 0.9168 - dense_2_10_accuracy: 0.9437 - dense_2_11_accuracy: 0.9615 - dense_2_12_accuracy: 0.9800 - dense_2_13_accuracy: 0.9869 - dense_2_14_accuracy: 0.9923 - dense_2_15_accuracy: 0.9964 - dense_2_16_accuracy: 0.9980 - dense_2_17_accuracy: 0.9988 - dense_2_18_accuracy: 0.9999 - dense_2_19_accuracy: 0.9997\n",
            "Epoch 20/20\n",
            "91/91 [==============================] - 10s 113ms/step - loss: 3.4928 - dense_2_loss: 0.1138 - dense_2_1_loss: 0.1941 - dense_2_2_loss: 0.3316 - dense_2_3_loss: 0.3793 - dense_2_4_loss: 0.4210 - dense_2_5_loss: 0.4299 - dense_2_6_loss: 0.4030 - dense_2_7_loss: 0.3565 - dense_2_8_loss: 0.2927 - dense_2_9_loss: 0.2149 - dense_2_10_loss: 0.1438 - dense_2_11_loss: 0.0925 - dense_2_12_loss: 0.0553 - dense_2_13_loss: 0.0304 - dense_2_14_loss: 0.0161 - dense_2_15_loss: 0.0095 - dense_2_16_loss: 0.0053 - dense_2_17_loss: 0.0023 - dense_2_18_loss: 6.3728e-04 - dense_2_19_loss: 2.6708e-04 - dense_2_accuracy: 0.9743 - dense_2_1_accuracy: 0.9427 - dense_2_2_accuracy: 0.9022 - dense_2_3_accuracy: 0.8913 - dense_2_4_accuracy: 0.8782 - dense_2_5_accuracy: 0.8677 - dense_2_6_accuracy: 0.8771 - dense_2_7_accuracy: 0.8911 - dense_2_8_accuracy: 0.9081 - dense_2_9_accuracy: 0.9301 - dense_2_10_accuracy: 0.9532 - dense_2_11_accuracy: 0.9677 - dense_2_12_accuracy: 0.9794 - dense_2_13_accuracy: 0.9883 - dense_2_14_accuracy: 0.9950 - dense_2_15_accuracy: 0.9968 - dense_2_16_accuracy: 0.9980 - dense_2_17_accuracy: 0.9991 - dense_2_18_accuracy: 0.9998 - dense_2_19_accuracy: 1.0000\n"
          ],
          "name": "stdout"
        },
        {
          "output_type": "execute_result",
          "data": {
            "text/plain": [
              "<tensorflow.python.keras.callbacks.History at 0x7fd693ec5290>"
            ]
          },
          "metadata": {
            "tags": []
          },
          "execution_count": 19
        }
      ]
    },
    {
      "cell_type": "code",
      "metadata": {
        "colab": {
          "base_uri": "https://localhost:8080/"
        },
        "id": "GeHkcBXX51ZI",
        "outputId": "79abc923-8db8-4165-ed42-173ec92119b5"
      },
      "source": [
        "def prep_input(input_list):\n",
        "   X = []\n",
        "   for line in input_list:\n",
        "      temp=[]\n",
        "      for char in line:\n",
        "          temp.append(input_char_to_ix[char])\n",
        "      X.append(temp)\n",
        "   X = pad_sequences(X, maxlen=maxIN, padding='pre')\n",
        "   X = to_categorical(X,len(input_char_to_ix))\n",
        "   X = X.reshape(len(input_list),maxIN ,len(input_char_to_ix))\n",
        "    \n",
        "   return X\n",
        "\n",
        "EXAMPLES = ['พลวัต', 'วุฒิกร', 'ศุภกิจ','ชวกร', 'สมชาย']\n",
        "s0 = np.zeros((len(EXAMPLES), n_s))\n",
        "c0 = np.zeros((len(EXAMPLES), n_s))\n",
        "EXAMPLES = prep_input(EXAMPLES)\n",
        "\n",
        "prediction = model.predict([EXAMPLES , s0, c0])\n",
        "prediction = np.swapaxes(prediction,0,1)\n",
        "prediction = np.argmax(prediction, axis = -1)\n",
        "\n",
        "\n",
        "#Y = pad_sequences(Y, maxlen=maxOUT+1, padding='post')\n",
        "for j in range(len(prediction)):\n",
        "    output = \"\".join([ix_to_output_char[int(i)] for i in prediction[j]])\n",
        "    for k in range(len(output)):\n",
        "      if output[k] == \"<\":\n",
        "        break\n",
        "    print(output[:k])"
      ],
      "execution_count": null,
      "outputs": [
        {
          "output_type": "stream",
          "text": [
            "phonwat\n",
            "wutthikon\n",
            "supphakit\n",
            "chawakon\n",
            "somchai\n"
          ],
          "name": "stdout"
        }
      ]
    },
    {
      "cell_type": "code",
      "metadata": {
        "colab": {
          "base_uri": "https://localhost:8080/"
        },
        "id": "h4Tkqgc7HBkk",
        "outputId": "9342ab9d-a85b-4a05-bb09-2cd1d8fdf524"
      },
      "source": [
        "EXAMPLES = ['พลวัต', 'วุฒิกร', 'ศุภกิจ','ชวกร', 'สมชาย']\n",
        "s0 = np.zeros((len(EXAMPLES), n_s))\n",
        "c0 = np.zeros((len(EXAMPLES), n_s))\n",
        "EXAMPLES = prep_input(EXAMPLES)\n",
        "\n",
        "prediction2 = modelPlt.predict([EXAMPLES , s0, c0])\n",
        "prediction2[0] = np.swapaxes(prediction2[0],0,1)\n",
        "prediction2[0] = np.argmax(prediction2[0], axis = -1)\n",
        "print(np.array(prediction2[0]).shape)\n",
        "\n",
        "prediction2[1] = np.swapaxes(prediction2[1],0,1)\n",
        "print(np.array(prediction2[1]).shape)"
      ],
      "execution_count": null,
      "outputs": [
        {
          "output_type": "stream",
          "text": [
            "(5, 20)\n",
            "(5, 20, 20, 1)\n"
          ],
          "name": "stdout"
        }
      ]
    },
    {
      "cell_type": "markdown",
      "metadata": {
        "id": "r9-mxbsKwXDp"
      },
      "source": [
        "### Plot the attention map\n",
        "* If you need to install thai font: sudo apt install xfonts-thai\n",
        "* this is what your visualization might look like:\n",
        "<img src=\"https://raw.githubusercontent.com/ekapolc/nlp_2019/master/HW8/images/attn_viz_sample.png\"  style=\"width: 350px;\"/>"
      ]
    },
    {
      "cell_type": "code",
      "metadata": {
        "id": "SRL8hHaLwXDq"
      },
      "source": [
        "#task 5\n",
        "%matplotlib inline\n",
        "import seaborn as sns\n",
        "import matplotlib.pyplot as plt\n",
        "plt.rcParams['font.family']='TH Sarabun New'  #you can change to other font that works for you\n",
        "#fill your code here\n",
        "\n",
        "def pltAtt(word):\n",
        "    pltatt = prediction2[1][word].reshape(20,20)\n",
        "    x_axis = [ix_to_input_char[int(np.argmax(i))] for i in EXAMPLES[word]]\n",
        "    y_axis = [ix_to_output_char[int(i)] for i in prediction2[0][word]]\n",
        "    for i in range(len(y_axis)):\n",
        "      if y_axis[i]==\"</S>\":\n",
        "        y_axis = y_axis[:i]\n",
        "        pltatt = pltatt[:i,:]\n",
        "        break\n",
        "    return sns.heatmap(np.array(pltatt),vmin =0., vmax=1. ,xticklabels = x_axis, yticklabels = y_axis , linewidths=.1)\n",
        "\n"
      ],
      "execution_count": null,
      "outputs": []
    },
    {
      "cell_type": "code",
      "metadata": {
        "colab": {
          "base_uri": "https://localhost:8080/",
          "height": 307
        },
        "id": "8W0GdwkwbMfM",
        "outputId": "b11ea634-afdb-48a6-fa6b-0d7e45a0345c"
      },
      "source": [
        "pltAtt(0)"
      ],
      "execution_count": null,
      "outputs": [
        {
          "output_type": "execute_result",
          "data": {
            "text/plain": [
              "<matplotlib.axes._subplots.AxesSubplot at 0x7fd672c29610>"
            ]
          },
          "metadata": {
            "tags": []
          },
          "execution_count": 116
        },
        {
          "output_type": "display_data",
          "data": {
            "image/png": "[encoded data removed]",
            "text/plain": [
              "<Figure size 432x288 with 2 Axes>"
            ]
          },
          "metadata": {
            "tags": [],
            "needs_background": "light"
          }
        }
      ]
    },
    {
      "cell_type": "code",
      "metadata": {
        "colab": {
          "base_uri": "https://localhost:8080/",
          "height": 307
        },
        "id": "7UqwsUl3bEST",
        "outputId": "6f0b156a-e51e-499b-f2f2-033adf34f56a"
      },
      "source": [
        "pltAtt(4)"
      ],
      "execution_count": null,
      "outputs": [
        {
          "output_type": "execute_result",
          "data": {
            "text/plain": [
              "<matplotlib.axes._subplots.AxesSubplot at 0x7fd67be14450>"
            ]
          },
          "metadata": {
            "tags": []
          },
          "execution_count": 114
        },
        {
          "output_type": "display_data",
          "data": {
            "image/png": "[encoded data removed]",
            "text/plain": [
              "<Figure size 432x288 with 2 Axes>"
            ]
          },
          "metadata": {
            "tags": [],
            "needs_background": "light"
          }
        }
      ]
    }
  ]
}