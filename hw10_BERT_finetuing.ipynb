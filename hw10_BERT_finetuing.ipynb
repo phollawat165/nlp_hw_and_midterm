{
  "nbformat": 4,
  "nbformat_minor": 0,
  "metadata": {
    "accelerator": "GPU",
    "colab": {
      "name": "HW10_BERT_finetuing.ipynb",
      "provenance": [],
      "collapsed_sections": [],
      "toc_visible": true
    },
    "kernelspec": {
      "display_name": "Python 3",
      "name": "python3"
    },
    "language_info": {
      "name": "python"
    },
    "widgets": {
      "application/vnd.jupyter.widget-state+json": {
        "83b9058a9dd448fc9041a543663615ac": {
          "model_module": "@jupyter-widgets/controls",
          "model_name": "HBoxModel",
          "state": {
            "_view_name": "HBoxView",
            "_dom_classes": [],
            "_model_name": "HBoxModel",
            "_view_module": "@jupyter-widgets/controls",
            "_model_module_version": "1.5.0",
            "_view_count": null,
            "_view_module_version": "1.5.0",
            "box_style": "",
            "layout": "IPY_MODEL_61da3a37e10243118f878d609a9ecccb",
            "_model_module": "@jupyter-widgets/controls",
            "children": [
              "IPY_MODEL_da3fdfa0ba3f4c17a8858d5b7bf654e2",
              "IPY_MODEL_0a556cf0381246eea4b386b86543b4d1"
            ]
          },
          "model_module_version": "1.5.0"
        },
        "61da3a37e10243118f878d609a9ecccb": {
          "model_module": "@jupyter-widgets/base",
          "model_name": "LayoutModel",
          "state": {
            "_view_name": "LayoutView",
            "grid_template_rows": null,
            "right": null,
            "justify_content": null,
            "_view_module": "@jupyter-widgets/base",
            "overflow": null,
            "_model_module_version": "1.2.0",
            "_view_count": null,
            "flex_flow": null,
            "width": null,
            "min_width": null,
            "border": null,
            "align_items": null,
            "bottom": null,
            "_model_module": "@jupyter-widgets/base",
            "top": null,
            "grid_column": null,
            "overflow_y": null,
            "overflow_x": null,
            "grid_auto_flow": null,
            "grid_area": null,
            "grid_template_columns": null,
            "flex": null,
            "_model_name": "LayoutModel",
            "justify_items": null,
            "grid_row": null,
            "max_height": null,
            "align_content": null,
            "visibility": null,
            "align_self": null,
            "height": null,
            "min_height": null,
            "padding": null,
            "grid_auto_rows": null,
            "grid_gap": null,
            "max_width": null,
            "order": null,
            "_view_module_version": "1.2.0",
            "grid_template_areas": null,
            "object_position": null,
            "object_fit": null,
            "grid_auto_columns": null,
            "margin": null,
            "display": null,
            "left": null
          },
          "model_module_version": "1.2.0"
        },
        "da3fdfa0ba3f4c17a8858d5b7bf654e2": {
          "model_module": "@jupyter-widgets/controls",
          "model_name": "FloatProgressModel",
          "state": {
            "_view_name": "ProgressView",
            "style": "IPY_MODEL_80a10e4264f44e86a337a55e55224292",
            "_dom_classes": [],
            "description": "Downloading: 100%",
            "_model_name": "FloatProgressModel",
            "bar_style": "success",
            "max": 231508,
            "_view_module": "@jupyter-widgets/controls",
            "_model_module_version": "1.5.0",
            "value": 231508,
            "_view_count": null,
            "_view_module_version": "1.5.0",
            "orientation": "horizontal",
            "min": 0,
            "description_tooltip": null,
            "_model_module": "@jupyter-widgets/controls",
            "layout": "IPY_MODEL_3cf41fd9447943c9ba42ab73b448dbc2"
          },
          "model_module_version": "1.5.0"
        },
        "0a556cf0381246eea4b386b86543b4d1": {
          "model_module": "@jupyter-widgets/controls",
          "model_name": "HTMLModel",
          "state": {
            "_view_name": "HTMLView",
            "style": "IPY_MODEL_c6fd904d21344299bd2326256e0ab7d2",
            "_dom_classes": [],
            "description": "",
            "_model_name": "HTMLModel",
            "placeholder": "​",
            "_view_module": "@jupyter-widgets/controls",
            "_model_module_version": "1.5.0",
            "value": " 232k/232k [00:00&lt;00:00, 828kB/s]",
            "_view_count": null,
            "_view_module_version": "1.5.0",
            "description_tooltip": null,
            "_model_module": "@jupyter-widgets/controls",
            "layout": "IPY_MODEL_36276454c5d046b19e8b941a4ea0bfe6"
          },
          "model_module_version": "1.5.0"
        },
        "80a10e4264f44e86a337a55e55224292": {
          "model_module": "@jupyter-widgets/controls",
          "model_name": "ProgressStyleModel",
          "state": {
            "_view_name": "StyleView",
            "_model_name": "ProgressStyleModel",
            "description_width": "initial",
            "_view_module": "@jupyter-widgets/base",
            "_model_module_version": "1.5.0",
            "_view_count": null,
            "_view_module_version": "1.2.0",
            "bar_color": null,
            "_model_module": "@jupyter-widgets/controls"
          },
          "model_module_version": "1.5.0"
        },
        "3cf41fd9447943c9ba42ab73b448dbc2": {
          "model_module": "@jupyter-widgets/base",
          "model_name": "LayoutModel",
          "state": {
            "_view_name": "LayoutView",
            "grid_template_rows": null,
            "right": null,
            "justify_content": null,
            "_view_module": "@jupyter-widgets/base",
            "overflow": null,
            "_model_module_version": "1.2.0",
            "_view_count": null,
            "flex_flow": null,
            "width": null,
            "min_width": null,
            "border": null,
            "align_items": null,
            "bottom": null,
            "_model_module": "@jupyter-widgets/base",
            "top": null,
            "grid_column": null,
            "overflow_y": null,
            "overflow_x": null,
            "grid_auto_flow": null,
            "grid_area": null,
            "grid_template_columns": null,
            "flex": null,
            "_model_name": "LayoutModel",
            "justify_items": null,
            "grid_row": null,
            "max_height": null,
            "align_content": null,
            "visibility": null,
            "align_self": null,
            "height": null,
            "min_height": null,
            "padding": null,
            "grid_auto_rows": null,
            "grid_gap": null,
            "max_width": null,
            "order": null,
            "_view_module_version": "1.2.0",
            "grid_template_areas": null,
            "object_position": null,
            "object_fit": null,
            "grid_auto_columns": null,
            "margin": null,
            "display": null,
            "left": null
          },
          "model_module_version": "1.2.0"
        },
        "c6fd904d21344299bd2326256e0ab7d2": {
          "model_module": "@jupyter-widgets/controls",
          "model_name": "DescriptionStyleModel",
          "state": {
            "_view_name": "StyleView",
            "_model_name": "DescriptionStyleModel",
            "description_width": "",
            "_view_module": "@jupyter-widgets/base",
            "_model_module_version": "1.5.0",
            "_view_count": null,
            "_view_module_version": "1.2.0",
            "_model_module": "@jupyter-widgets/controls"
          },
          "model_module_version": "1.5.0"
        },
        "36276454c5d046b19e8b941a4ea0bfe6": {
          "model_module": "@jupyter-widgets/base",
          "model_name": "LayoutModel",
          "state": {
            "_view_name": "LayoutView",
            "grid_template_rows": null,
            "right": null,
            "justify_content": null,
            "_view_module": "@jupyter-widgets/base",
            "overflow": null,
            "_model_module_version": "1.2.0",
            "_view_count": null,
            "flex_flow": null,
            "width": null,
            "min_width": null,
            "border": null,
            "align_items": null,
            "bottom": null,
            "_model_module": "@jupyter-widgets/base",
            "top": null,
            "grid_column": null,
            "overflow_y": null,
            "overflow_x": null,
            "grid_auto_flow": null,
            "grid_area": null,
            "grid_template_columns": null,
            "flex": null,
            "_model_name": "LayoutModel",
            "justify_items": null,
            "grid_row": null,
            "max_height": null,
            "align_content": null,
            "visibility": null,
            "align_self": null,
            "height": null,
            "min_height": null,
            "padding": null,
            "grid_auto_rows": null,
            "grid_gap": null,
            "max_width": null,
            "order": null,
            "_view_module_version": "1.2.0",
            "grid_template_areas": null,
            "object_position": null,
            "object_fit": null,
            "grid_auto_columns": null,
            "margin": null,
            "display": null,
            "left": null
          },
          "model_module_version": "1.2.0"
        },
        "9bfc5e1215e641cc82a314e1490eb364": {
          "model_module": "@jupyter-widgets/controls",
          "model_name": "HBoxModel",
          "state": {
            "_view_name": "HBoxView",
            "_dom_classes": [],
            "_model_name": "HBoxModel",
            "_view_module": "@jupyter-widgets/controls",
            "_model_module_version": "1.5.0",
            "_view_count": null,
            "_view_module_version": "1.5.0",
            "box_style": "",
            "layout": "IPY_MODEL_0916ab0c3cbf48b2962728a825c64e4a",
            "_model_module": "@jupyter-widgets/controls",
            "children": [
              "IPY_MODEL_ef9cfc452241424dbbd7f009bbb707c2",
              "IPY_MODEL_d27bcae835794e2aa471612c53ae5905"
            ]
          },
          "model_module_version": "1.5.0"
        },
        "0916ab0c3cbf48b2962728a825c64e4a": {
          "model_module": "@jupyter-widgets/base",
          "model_name": "LayoutModel",
          "state": {
            "_view_name": "LayoutView",
            "grid_template_rows": null,
            "right": null,
            "justify_content": null,
            "_view_module": "@jupyter-widgets/base",
            "overflow": null,
            "_model_module_version": "1.2.0",
            "_view_count": null,
            "flex_flow": null,
            "width": null,
            "min_width": null,
            "border": null,
            "align_items": null,
            "bottom": null,
            "_model_module": "@jupyter-widgets/base",
            "top": null,
            "grid_column": null,
            "overflow_y": null,
            "overflow_x": null,
            "grid_auto_flow": null,
            "grid_area": null,
            "grid_template_columns": null,
            "flex": null,
            "_model_name": "LayoutModel",
            "justify_items": null,
            "grid_row": null,
            "max_height": null,
            "align_content": null,
            "visibility": null,
            "align_self": null,
            "height": null,
            "min_height": null,
            "padding": null,
            "grid_auto_rows": null,
            "grid_gap": null,
            "max_width": null,
            "order": null,
            "_view_module_version": "1.2.0",
            "grid_template_areas": null,
            "object_position": null,
            "object_fit": null,
            "grid_auto_columns": null,
            "margin": null,
            "display": null,
            "left": null
          },
          "model_module_version": "1.2.0"
        },
        "ef9cfc452241424dbbd7f009bbb707c2": {
          "model_module": "@jupyter-widgets/controls",
          "model_name": "FloatProgressModel",
          "state": {
            "_view_name": "ProgressView",
            "style": "IPY_MODEL_67348189959b44138624a573a18cda0f",
            "_dom_classes": [],
            "description": "Downloading: 100%",
            "_model_name": "FloatProgressModel",
            "bar_style": "success",
            "max": 466062,
            "_view_module": "@jupyter-widgets/controls",
            "_model_module_version": "1.5.0",
            "value": 466062,
            "_view_count": null,
            "_view_module_version": "1.5.0",
            "orientation": "horizontal",
            "min": 0,
            "description_tooltip": null,
            "_model_module": "@jupyter-widgets/controls",
            "layout": "IPY_MODEL_c69614f021934fbe87532361b7d04ef4"
          },
          "model_module_version": "1.5.0"
        },
        "d27bcae835794e2aa471612c53ae5905": {
          "model_module": "@jupyter-widgets/controls",
          "model_name": "HTMLModel",
          "state": {
            "_view_name": "HTMLView",
            "style": "IPY_MODEL_e44bc13b23d64f4f9cfd032060c841f8",
            "_dom_classes": [],
            "description": "",
            "_model_name": "HTMLModel",
            "placeholder": "​",
            "_view_module": "@jupyter-widgets/controls",
            "_model_module_version": "1.5.0",
            "value": " 466k/466k [00:00&lt;00:00, 2.40MB/s]",
            "_view_count": null,
            "_view_module_version": "1.5.0",
            "description_tooltip": null,
            "_model_module": "@jupyter-widgets/controls",
            "layout": "IPY_MODEL_57e3e46964e74549a7304b9e984bfbf8"
          },
          "model_module_version": "1.5.0"
        },
        "67348189959b44138624a573a18cda0f": {
          "model_module": "@jupyter-widgets/controls",
          "model_name": "ProgressStyleModel",
          "state": {
            "_view_name": "StyleView",
            "_model_name": "ProgressStyleModel",
            "description_width": "initial",
            "_view_module": "@jupyter-widgets/base",
            "_model_module_version": "1.5.0",
            "_view_count": null,
            "_view_module_version": "1.2.0",
            "bar_color": null,
            "_model_module": "@jupyter-widgets/controls"
          },
          "model_module_version": "1.5.0"
        },
        "c69614f021934fbe87532361b7d04ef4": {
          "model_module": "@jupyter-widgets/base",
          "model_name": "LayoutModel",
          "state": {
            "_view_name": "LayoutView",
            "grid_template_rows": null,
            "right": null,
            "justify_content": null,
            "_view_module": "@jupyter-widgets/base",
            "overflow": null,
            "_model_module_version": "1.2.0",
            "_view_count": null,
            "flex_flow": null,
            "width": null,
            "min_width": null,
            "border": null,
            "align_items": null,
            "bottom": null,
            "_model_module": "@jupyter-widgets/base",
            "top": null,
            "grid_column": null,
            "overflow_y": null,
            "overflow_x": null,
            "grid_auto_flow": null,
            "grid_area": null,
            "grid_template_columns": null,
            "flex": null,
            "_model_name": "LayoutModel",
            "justify_items": null,
            "grid_row": null,
            "max_height": null,
            "align_content": null,
            "visibility": null,
            "align_self": null,
            "height": null,
            "min_height": null,
            "padding": null,
            "grid_auto_rows": null,
            "grid_gap": null,
            "max_width": null,
            "order": null,
            "_view_module_version": "1.2.0",
            "grid_template_areas": null,
            "object_position": null,
            "object_fit": null,
            "grid_auto_columns": null,
            "margin": null,
            "display": null,
            "left": null
          },
          "model_module_version": "1.2.0"
        },
        "e44bc13b23d64f4f9cfd032060c841f8": {
          "model_module": "@jupyter-widgets/controls",
          "model_name": "DescriptionStyleModel",
          "state": {
            "_view_name": "StyleView",
            "_model_name": "DescriptionStyleModel",
            "description_width": "",
            "_view_module": "@jupyter-widgets/base",
            "_model_module_version": "1.5.0",
            "_view_count": null,
            "_view_module_version": "1.2.0",
            "_model_module": "@jupyter-widgets/controls"
          },
          "model_module_version": "1.5.0"
        },
        "57e3e46964e74549a7304b9e984bfbf8": {
          "model_module": "@jupyter-widgets/base",
          "model_name": "LayoutModel",
          "state": {
            "_view_name": "LayoutView",
            "grid_template_rows": null,
            "right": null,
            "justify_content": null,
            "_view_module": "@jupyter-widgets/base",
            "overflow": null,
            "_model_module_version": "1.2.0",
            "_view_count": null,
            "flex_flow": null,
            "width": null,
            "min_width": null,
            "border": null,
            "align_items": null,
            "bottom": null,
            "_model_module": "@jupyter-widgets/base",
            "top": null,
            "grid_column": null,
            "overflow_y": null,
            "overflow_x": null,
            "grid_auto_flow": null,
            "grid_area": null,
            "grid_template_columns": null,
            "flex": null,
            "_model_name": "LayoutModel",
            "justify_items": null,
            "grid_row": null,
            "max_height": null,
            "align_content": null,
            "visibility": null,
            "align_self": null,
            "height": null,
            "min_height": null,
            "padding": null,
            "grid_auto_rows": null,
            "grid_gap": null,
            "max_width": null,
            "order": null,
            "_view_module_version": "1.2.0",
            "grid_template_areas": null,
            "object_position": null,
            "object_fit": null,
            "grid_auto_columns": null,
            "margin": null,
            "display": null,
            "left": null
          },
          "model_module_version": "1.2.0"
        },
        "015c3ebc38a64b1d9f1c8e49fac0b849": {
          "model_module": "@jupyter-widgets/controls",
          "model_name": "HBoxModel",
          "state": {
            "_view_name": "HBoxView",
            "_dom_classes": [],
            "_model_name": "HBoxModel",
            "_view_module": "@jupyter-widgets/controls",
            "_model_module_version": "1.5.0",
            "_view_count": null,
            "_view_module_version": "1.5.0",
            "box_style": "",
            "layout": "IPY_MODEL_0c5cb910890c43c2bebd0e43766fe509",
            "_model_module": "@jupyter-widgets/controls",
            "children": [
              "IPY_MODEL_6ae9b3915cf04a4b8ce9194524c5085a",
              "IPY_MODEL_801df22de18045989b2c528efdaa7e18"
            ]
          },
          "model_module_version": "1.5.0"
        },
        "0c5cb910890c43c2bebd0e43766fe509": {
          "model_module": "@jupyter-widgets/base",
          "model_name": "LayoutModel",
          "state": {
            "_view_name": "LayoutView",
            "grid_template_rows": null,
            "right": null,
            "justify_content": null,
            "_view_module": "@jupyter-widgets/base",
            "overflow": null,
            "_model_module_version": "1.2.0",
            "_view_count": null,
            "flex_flow": null,
            "width": null,
            "min_width": null,
            "border": null,
            "align_items": null,
            "bottom": null,
            "_model_module": "@jupyter-widgets/base",
            "top": null,
            "grid_column": null,
            "overflow_y": null,
            "overflow_x": null,
            "grid_auto_flow": null,
            "grid_area": null,
            "grid_template_columns": null,
            "flex": null,
            "_model_name": "LayoutModel",
            "justify_items": null,
            "grid_row": null,
            "max_height": null,
            "align_content": null,
            "visibility": null,
            "align_self": null,
            "height": null,
            "min_height": null,
            "padding": null,
            "grid_auto_rows": null,
            "grid_gap": null,
            "max_width": null,
            "order": null,
            "_view_module_version": "1.2.0",
            "grid_template_areas": null,
            "object_position": null,
            "object_fit": null,
            "grid_auto_columns": null,
            "margin": null,
            "display": null,
            "left": null
          },
          "model_module_version": "1.2.0"
        },
        "6ae9b3915cf04a4b8ce9194524c5085a": {
          "model_module": "@jupyter-widgets/controls",
          "model_name": "FloatProgressModel",
          "state": {
            "_view_name": "ProgressView",
            "style": "IPY_MODEL_7db50640f81a43cca14d0bcd65e6ec81",
            "_dom_classes": [],
            "description": "Downloading: 100%",
            "_model_name": "FloatProgressModel",
            "bar_style": "success",
            "max": 28,
            "_view_module": "@jupyter-widgets/controls",
            "_model_module_version": "1.5.0",
            "value": 28,
            "_view_count": null,
            "_view_module_version": "1.5.0",
            "orientation": "horizontal",
            "min": 0,
            "description_tooltip": null,
            "_model_module": "@jupyter-widgets/controls",
            "layout": "IPY_MODEL_07fd4e0f3b7e43298333b88a913ae2a7"
          },
          "model_module_version": "1.5.0"
        },
        "801df22de18045989b2c528efdaa7e18": {
          "model_module": "@jupyter-widgets/controls",
          "model_name": "HTMLModel",
          "state": {
            "_view_name": "HTMLView",
            "style": "IPY_MODEL_32ec911aee694cc5bb655d21f110cf90",
            "_dom_classes": [],
            "description": "",
            "_model_name": "HTMLModel",
            "placeholder": "​",
            "_view_module": "@jupyter-widgets/controls",
            "_model_module_version": "1.5.0",
            "value": " 28.0/28.0 [00:12&lt;00:00, 2.17B/s]",
            "_view_count": null,
            "_view_module_version": "1.5.0",
            "description_tooltip": null,
            "_model_module": "@jupyter-widgets/controls",
            "layout": "IPY_MODEL_78f750824a974703a0378890b641f840"
          },
          "model_module_version": "1.5.0"
        },
        "7db50640f81a43cca14d0bcd65e6ec81": {
          "model_module": "@jupyter-widgets/controls",
          "model_name": "ProgressStyleModel",
          "state": {
            "_view_name": "StyleView",
            "_model_name": "ProgressStyleModel",
            "description_width": "initial",
            "_view_module": "@jupyter-widgets/base",
            "_model_module_version": "1.5.0",
            "_view_count": null,
            "_view_module_version": "1.2.0",
            "bar_color": null,
            "_model_module": "@jupyter-widgets/controls"
          },
          "model_module_version": "1.5.0"
        },
        "07fd4e0f3b7e43298333b88a913ae2a7": {
          "model_module": "@jupyter-widgets/base",
          "model_name": "LayoutModel",
          "state": {
            "_view_name": "LayoutView",
            "grid_template_rows": null,
            "right": null,
            "justify_content": null,
            "_view_module": "@jupyter-widgets/base",
            "overflow": null,
            "_model_module_version": "1.2.0",
            "_view_count": null,
            "flex_flow": null,
            "width": null,
            "min_width": null,
            "border": null,
            "align_items": null,
            "bottom": null,
            "_model_module": "@jupyter-widgets/base",
            "top": null,
            "grid_column": null,
            "overflow_y": null,
            "overflow_x": null,
            "grid_auto_flow": null,
            "grid_area": null,
            "grid_template_columns": null,
            "flex": null,
            "_model_name": "LayoutModel",
            "justify_items": null,
            "grid_row": null,
            "max_height": null,
            "align_content": null,
            "visibility": null,
            "align_self": null,
            "height": null,
            "min_height": null,
            "padding": null,
            "grid_auto_rows": null,
            "grid_gap": null,
            "max_width": null,
            "order": null,
            "_view_module_version": "1.2.0",
            "grid_template_areas": null,
            "object_position": null,
            "object_fit": null,
            "grid_auto_columns": null,
            "margin": null,
            "display": null,
            "left": null
          },
          "model_module_version": "1.2.0"
        },
        "32ec911aee694cc5bb655d21f110cf90": {
          "model_module": "@jupyter-widgets/controls",
          "model_name": "DescriptionStyleModel",
          "state": {
            "_view_name": "StyleView",
            "_model_name": "DescriptionStyleModel",
            "description_width": "",
            "_view_module": "@jupyter-widgets/base",
            "_model_module_version": "1.5.0",
            "_view_count": null,
            "_view_module_version": "1.2.0",
            "_model_module": "@jupyter-widgets/controls"
          },
          "model_module_version": "1.5.0"
        },
        "78f750824a974703a0378890b641f840": {
          "model_module": "@jupyter-widgets/base",
          "model_name": "LayoutModel",
          "state": {
            "_view_name": "LayoutView",
            "grid_template_rows": null,
            "right": null,
            "justify_content": null,
            "_view_module": "@jupyter-widgets/base",
            "overflow": null,
            "_model_module_version": "1.2.0",
            "_view_count": null,
            "flex_flow": null,
            "width": null,
            "min_width": null,
            "border": null,
            "align_items": null,
            "bottom": null,
            "_model_module": "@jupyter-widgets/base",
            "top": null,
            "grid_column": null,
            "overflow_y": null,
            "overflow_x": null,
            "grid_auto_flow": null,
            "grid_area": null,
            "grid_template_columns": null,
            "flex": null,
            "_model_name": "LayoutModel",
            "justify_items": null,
            "grid_row": null,
            "max_height": null,
            "align_content": null,
            "visibility": null,
            "align_self": null,
            "height": null,
            "min_height": null,
            "padding": null,
            "grid_auto_rows": null,
            "grid_gap": null,
            "max_width": null,
            "order": null,
            "_view_module_version": "1.2.0",
            "grid_template_areas": null,
            "object_position": null,
            "object_fit": null,
            "grid_auto_columns": null,
            "margin": null,
            "display": null,
            "left": null
          },
          "model_module_version": "1.2.0"
        },
        "31cdadf5e7024ad2844be26246c9e549": {
          "model_module": "@jupyter-widgets/controls",
          "model_name": "HBoxModel",
          "state": {
            "_view_name": "HBoxView",
            "_dom_classes": [],
            "_model_name": "HBoxModel",
            "_view_module": "@jupyter-widgets/controls",
            "_model_module_version": "1.5.0",
            "_view_count": null,
            "_view_module_version": "1.5.0",
            "box_style": "",
            "layout": "IPY_MODEL_9babed80dca349c0b564ead547505b1a",
            "_model_module": "@jupyter-widgets/controls",
            "children": [
              "IPY_MODEL_aace9bbc442a4b8bbd4ca6398dee3464",
              "IPY_MODEL_6fc3bbca9f0a4a77b31bf5894a9ebda1"
            ]
          },
          "model_module_version": "1.5.0"
        },
        "9babed80dca349c0b564ead547505b1a": {
          "model_module": "@jupyter-widgets/base",
          "model_name": "LayoutModel",
          "state": {
            "_view_name": "LayoutView",
            "grid_template_rows": null,
            "right": null,
            "justify_content": null,
            "_view_module": "@jupyter-widgets/base",
            "overflow": null,
            "_model_module_version": "1.2.0",
            "_view_count": null,
            "flex_flow": null,
            "width": null,
            "min_width": null,
            "border": null,
            "align_items": null,
            "bottom": null,
            "_model_module": "@jupyter-widgets/base",
            "top": null,
            "grid_column": null,
            "overflow_y": null,
            "overflow_x": null,
            "grid_auto_flow": null,
            "grid_area": null,
            "grid_template_columns": null,
            "flex": null,
            "_model_name": "LayoutModel",
            "justify_items": null,
            "grid_row": null,
            "max_height": null,
            "align_content": null,
            "visibility": null,
            "align_self": null,
            "height": null,
            "min_height": null,
            "padding": null,
            "grid_auto_rows": null,
            "grid_gap": null,
            "max_width": null,
            "order": null,
            "_view_module_version": "1.2.0",
            "grid_template_areas": null,
            "object_position": null,
            "object_fit": null,
            "grid_auto_columns": null,
            "margin": null,
            "display": null,
            "left": null
          },
          "model_module_version": "1.2.0"
        },
        "aace9bbc442a4b8bbd4ca6398dee3464": {
          "model_module": "@jupyter-widgets/controls",
          "model_name": "FloatProgressModel",
          "state": {
            "_view_name": "ProgressView",
            "style": "IPY_MODEL_1ad08ad55a8b4d20964a370e316da40d",
            "_dom_classes": [],
            "description": "Downloading: 100%",
            "_model_name": "FloatProgressModel",
            "bar_style": "success",
            "max": 442,
            "_view_module": "@jupyter-widgets/controls",
            "_model_module_version": "1.5.0",
            "value": 442,
            "_view_count": null,
            "_view_module_version": "1.5.0",
            "orientation": "horizontal",
            "min": 0,
            "description_tooltip": null,
            "_model_module": "@jupyter-widgets/controls",
            "layout": "IPY_MODEL_f79c115f350f4bb3ad6c23ab4cf0c755"
          },
          "model_module_version": "1.5.0"
        },
        "6fc3bbca9f0a4a77b31bf5894a9ebda1": {
          "model_module": "@jupyter-widgets/controls",
          "model_name": "HTMLModel",
          "state": {
            "_view_name": "HTMLView",
            "style": "IPY_MODEL_bfd70445bdb44d458d4a4e0c3e09e618",
            "_dom_classes": [],
            "description": "",
            "_model_name": "HTMLModel",
            "placeholder": "​",
            "_view_module": "@jupyter-widgets/controls",
            "_model_module_version": "1.5.0",
            "value": " 442/442 [00:00&lt;00:00, 6.07kB/s]",
            "_view_count": null,
            "_view_module_version": "1.5.0",
            "description_tooltip": null,
            "_model_module": "@jupyter-widgets/controls",
            "layout": "IPY_MODEL_0e0910c413e14e24a5844e18829650e1"
          },
          "model_module_version": "1.5.0"
        },
        "1ad08ad55a8b4d20964a370e316da40d": {
          "model_module": "@jupyter-widgets/controls",
          "model_name": "ProgressStyleModel",
          "state": {
            "_view_name": "StyleView",
            "_model_name": "ProgressStyleModel",
            "description_width": "initial",
            "_view_module": "@jupyter-widgets/base",
            "_model_module_version": "1.5.0",
            "_view_count": null,
            "_view_module_version": "1.2.0",
            "bar_color": null,
            "_model_module": "@jupyter-widgets/controls"
          },
          "model_module_version": "1.5.0"
        },
        "f79c115f350f4bb3ad6c23ab4cf0c755": {
          "model_module": "@jupyter-widgets/base",
          "model_name": "LayoutModel",
          "state": {
            "_view_name": "LayoutView",
            "grid_template_rows": null,
            "right": null,
            "justify_content": null,
            "_view_module": "@jupyter-widgets/base",
            "overflow": null,
            "_model_module_version": "1.2.0",
            "_view_count": null,
            "flex_flow": null,
            "width": null,
            "min_width": null,
            "border": null,
            "align_items": null,
            "bottom": null,
            "_model_module": "@jupyter-widgets/base",
            "top": null,
            "grid_column": null,
            "overflow_y": null,
            "overflow_x": null,
            "grid_auto_flow": null,
            "grid_area": null,
            "grid_template_columns": null,
            "flex": null,
            "_model_name": "LayoutModel",
            "justify_items": null,
            "grid_row": null,
            "max_height": null,
            "align_content": null,
            "visibility": null,
            "align_self": null,
            "height": null,
            "min_height": null,
            "padding": null,
            "grid_auto_rows": null,
            "grid_gap": null,
            "max_width": null,
            "order": null,
            "_view_module_version": "1.2.0",
            "grid_template_areas": null,
            "object_position": null,
            "object_fit": null,
            "grid_auto_columns": null,
            "margin": null,
            "display": null,
            "left": null
          },
          "model_module_version": "1.2.0"
        },
        "bfd70445bdb44d458d4a4e0c3e09e618": {
          "model_module": "@jupyter-widgets/controls",
          "model_name": "DescriptionStyleModel",
          "state": {
            "_view_name": "StyleView",
            "_model_name": "DescriptionStyleModel",
            "description_width": "",
            "_view_module": "@jupyter-widgets/base",
            "_model_module_version": "1.5.0",
            "_view_count": null,
            "_view_module_version": "1.2.0",
            "_model_module": "@jupyter-widgets/controls"
          },
          "model_module_version": "1.5.0"
        },
        "0e0910c413e14e24a5844e18829650e1": {
          "model_module": "@jupyter-widgets/base",
          "model_name": "LayoutModel",
          "state": {
            "_view_name": "LayoutView",
            "grid_template_rows": null,
            "right": null,
            "justify_content": null,
            "_view_module": "@jupyter-widgets/base",
            "overflow": null,
            "_model_module_version": "1.2.0",
            "_view_count": null,
            "flex_flow": null,
            "width": null,
            "min_width": null,
            "border": null,
            "align_items": null,
            "bottom": null,
            "_model_module": "@jupyter-widgets/base",
            "top": null,
            "grid_column": null,
            "overflow_y": null,
            "overflow_x": null,
            "grid_auto_flow": null,
            "grid_area": null,
            "grid_template_columns": null,
            "flex": null,
            "_model_name": "LayoutModel",
            "justify_items": null,
            "grid_row": null,
            "max_height": null,
            "align_content": null,
            "visibility": null,
            "align_self": null,
            "height": null,
            "min_height": null,
            "padding": null,
            "grid_auto_rows": null,
            "grid_gap": null,
            "max_width": null,
            "order": null,
            "_view_module_version": "1.2.0",
            "grid_template_areas": null,
            "object_position": null,
            "object_fit": null,
            "grid_auto_columns": null,
            "margin": null,
            "display": null,
            "left": null
          },
          "model_module_version": "1.2.0"
        },
        "abc4690fb2aa4523a2717c9b90162d9c": {
          "model_module": "@jupyter-widgets/controls",
          "model_name": "HBoxModel",
          "state": {
            "_view_name": "HBoxView",
            "_dom_classes": [],
            "_model_name": "HBoxModel",
            "_view_module": "@jupyter-widgets/controls",
            "_model_module_version": "1.5.0",
            "_view_count": null,
            "_view_module_version": "1.5.0",
            "box_style": "",
            "layout": "IPY_MODEL_8c12e43dfd9d40c1b18e3d2947b2851a",
            "_model_module": "@jupyter-widgets/controls",
            "children": [
              "IPY_MODEL_78e92374bd4148c9ae79e106e87c94b1",
              "IPY_MODEL_9b43b0facf2f4648956c3d2cde1628d0"
            ]
          },
          "model_module_version": "1.5.0"
        },
        "8c12e43dfd9d40c1b18e3d2947b2851a": {
          "model_module": "@jupyter-widgets/base",
          "model_name": "LayoutModel",
          "state": {
            "_view_name": "LayoutView",
            "grid_template_rows": null,
            "right": null,
            "justify_content": null,
            "_view_module": "@jupyter-widgets/base",
            "overflow": null,
            "_model_module_version": "1.2.0",
            "_view_count": null,
            "flex_flow": null,
            "width": null,
            "min_width": null,
            "border": null,
            "align_items": null,
            "bottom": null,
            "_model_module": "@jupyter-widgets/base",
            "top": null,
            "grid_column": null,
            "overflow_y": null,
            "overflow_x": null,
            "grid_auto_flow": null,
            "grid_area": null,
            "grid_template_columns": null,
            "flex": null,
            "_model_name": "LayoutModel",
            "justify_items": null,
            "grid_row": null,
            "max_height": null,
            "align_content": null,
            "visibility": null,
            "align_self": null,
            "height": null,
            "min_height": null,
            "padding": null,
            "grid_auto_rows": null,
            "grid_gap": null,
            "max_width": null,
            "order": null,
            "_view_module_version": "1.2.0",
            "grid_template_areas": null,
            "object_position": null,
            "object_fit": null,
            "grid_auto_columns": null,
            "margin": null,
            "display": null,
            "left": null
          },
          "model_module_version": "1.2.0"
        },
        "78e92374bd4148c9ae79e106e87c94b1": {
          "model_module": "@jupyter-widgets/controls",
          "model_name": "FloatProgressModel",
          "state": {
            "_view_name": "ProgressView",
            "style": "IPY_MODEL_82d55e6208f243b9843bef6d00d9461a",
            "_dom_classes": [],
            "description": "Downloading: 100%",
            "_model_name": "FloatProgressModel",
            "bar_style": "success",
            "max": 267967963,
            "_view_module": "@jupyter-widgets/controls",
            "_model_module_version": "1.5.0",
            "value": 267967963,
            "_view_count": null,
            "_view_module_version": "1.5.0",
            "orientation": "horizontal",
            "min": 0,
            "description_tooltip": null,
            "_model_module": "@jupyter-widgets/controls",
            "layout": "IPY_MODEL_5a646a9305104895bcf7f9b0a8e67e2e"
          },
          "model_module_version": "1.5.0"
        },
        "9b43b0facf2f4648956c3d2cde1628d0": {
          "model_module": "@jupyter-widgets/controls",
          "model_name": "HTMLModel",
          "state": {
            "_view_name": "HTMLView",
            "style": "IPY_MODEL_aab4975090da4239bb5488e3d77e47e4",
            "_dom_classes": [],
            "description": "",
            "_model_name": "HTMLModel",
            "placeholder": "​",
            "_view_module": "@jupyter-widgets/controls",
            "_model_module_version": "1.5.0",
            "value": " 268M/268M [00:05&lt;00:00, 52.8MB/s]",
            "_view_count": null,
            "_view_module_version": "1.5.0",
            "description_tooltip": null,
            "_model_module": "@jupyter-widgets/controls",
            "layout": "IPY_MODEL_7c4c7296f1e8426f9f50e8baa3b7d7cd"
          },
          "model_module_version": "1.5.0"
        },
        "82d55e6208f243b9843bef6d00d9461a": {
          "model_module": "@jupyter-widgets/controls",
          "model_name": "ProgressStyleModel",
          "state": {
            "_view_name": "StyleView",
            "_model_name": "ProgressStyleModel",
            "description_width": "initial",
            "_view_module": "@jupyter-widgets/base",
            "_model_module_version": "1.5.0",
            "_view_count": null,
            "_view_module_version": "1.2.0",
            "bar_color": null,
            "_model_module": "@jupyter-widgets/controls"
          },
          "model_module_version": "1.5.0"
        },
        "5a646a9305104895bcf7f9b0a8e67e2e": {
          "model_module": "@jupyter-widgets/base",
          "model_name": "LayoutModel",
          "state": {
            "_view_name": "LayoutView",
            "grid_template_rows": null,
            "right": null,
            "justify_content": null,
            "_view_module": "@jupyter-widgets/base",
            "overflow": null,
            "_model_module_version": "1.2.0",
            "_view_count": null,
            "flex_flow": null,
            "width": null,
            "min_width": null,
            "border": null,
            "align_items": null,
            "bottom": null,
            "_model_module": "@jupyter-widgets/base",
            "top": null,
            "grid_column": null,
            "overflow_y": null,
            "overflow_x": null,
            "grid_auto_flow": null,
            "grid_area": null,
            "grid_template_columns": null,
            "flex": null,
            "_model_name": "LayoutModel",
            "justify_items": null,
            "grid_row": null,
            "max_height": null,
            "align_content": null,
            "visibility": null,
            "align_self": null,
            "height": null,
            "min_height": null,
            "padding": null,
            "grid_auto_rows": null,
            "grid_gap": null,
            "max_width": null,
            "order": null,
            "_view_module_version": "1.2.0",
            "grid_template_areas": null,
            "object_position": null,
            "object_fit": null,
            "grid_auto_columns": null,
            "margin": null,
            "display": null,
            "left": null
          },
          "model_module_version": "1.2.0"
        },
        "aab4975090da4239bb5488e3d77e47e4": {
          "model_module": "@jupyter-widgets/controls",
          "model_name": "DescriptionStyleModel",
          "state": {
            "_view_name": "StyleView",
            "_model_name": "DescriptionStyleModel",
            "description_width": "",
            "_view_module": "@jupyter-widgets/base",
            "_model_module_version": "1.5.0",
            "_view_count": null,
            "_view_module_version": "1.2.0",
            "_model_module": "@jupyter-widgets/controls"
          },
          "model_module_version": "1.5.0"
        },
        "7c4c7296f1e8426f9f50e8baa3b7d7cd": {
          "model_module": "@jupyter-widgets/base",
          "model_name": "LayoutModel",
          "state": {
            "_view_name": "LayoutView",
            "grid_template_rows": null,
            "right": null,
            "justify_content": null,
            "_view_module": "@jupyter-widgets/base",
            "overflow": null,
            "_model_module_version": "1.2.0",
            "_view_count": null,
            "flex_flow": null,
            "width": null,
            "min_width": null,
            "border": null,
            "align_items": null,
            "bottom": null,
            "_model_module": "@jupyter-widgets/base",
            "top": null,
            "grid_column": null,
            "overflow_y": null,
            "overflow_x": null,
            "grid_auto_flow": null,
            "grid_area": null,
            "grid_template_columns": null,
            "flex": null,
            "_model_name": "LayoutModel",
            "justify_items": null,
            "grid_row": null,
            "max_height": null,
            "align_content": null,
            "visibility": null,
            "align_self": null,
            "height": null,
            "min_height": null,
            "padding": null,
            "grid_auto_rows": null,
            "grid_gap": null,
            "max_width": null,
            "order": null,
            "_view_module_version": "1.2.0",
            "grid_template_areas": null,
            "object_position": null,
            "object_fit": null,
            "grid_auto_columns": null,
            "margin": null,
            "display": null,
            "left": null
          },
          "model_module_version": "1.2.0"
        },
        "8614213306ab4a8fb597304650e9caa8": {
          "model_module": "@jupyter-widgets/controls",
          "model_name": "HBoxModel",
          "state": {
            "_view_name": "HBoxView",
            "_dom_classes": [],
            "_model_name": "HBoxModel",
            "_view_module": "@jupyter-widgets/controls",
            "_model_module_version": "1.5.0",
            "_view_count": null,
            "_view_module_version": "1.5.0",
            "box_style": "",
            "layout": "IPY_MODEL_463bcf79d8ad4fa5a6a8d2c8f46366dc",
            "_model_module": "@jupyter-widgets/controls",
            "children": [
              "IPY_MODEL_4eb25ca0c41041cc8db14547e391f91e",
              "IPY_MODEL_7fd002ee61f74b9f8fe6f3a2ecd0ddd9"
            ]
          },
          "model_module_version": "1.5.0"
        },
        "463bcf79d8ad4fa5a6a8d2c8f46366dc": {
          "model_module": "@jupyter-widgets/base",
          "model_name": "LayoutModel",
          "state": {
            "_view_name": "LayoutView",
            "grid_template_rows": null,
            "right": null,
            "justify_content": null,
            "_view_module": "@jupyter-widgets/base",
            "overflow": null,
            "_model_module_version": "1.2.0",
            "_view_count": null,
            "flex_flow": null,
            "width": null,
            "min_width": null,
            "border": null,
            "align_items": null,
            "bottom": null,
            "_model_module": "@jupyter-widgets/base",
            "top": null,
            "grid_column": null,
            "overflow_y": null,
            "overflow_x": null,
            "grid_auto_flow": null,
            "grid_area": null,
            "grid_template_columns": null,
            "flex": null,
            "_model_name": "LayoutModel",
            "justify_items": null,
            "grid_row": null,
            "max_height": null,
            "align_content": null,
            "visibility": null,
            "align_self": null,
            "height": null,
            "min_height": null,
            "padding": null,
            "grid_auto_rows": null,
            "grid_gap": null,
            "max_width": null,
            "order": null,
            "_view_module_version": "1.2.0",
            "grid_template_areas": null,
            "object_position": null,
            "object_fit": null,
            "grid_auto_columns": null,
            "margin": null,
            "display": null,
            "left": null
          },
          "model_module_version": "1.2.0"
        },
        "4eb25ca0c41041cc8db14547e391f91e": {
          "model_module": "@jupyter-widgets/controls",
          "model_name": "FloatProgressModel",
          "state": {
            "_view_name": "ProgressView",
            "style": "IPY_MODEL_5e0e36bd8e6542a291e696e185c71062",
            "_dom_classes": [],
            "description": "100%",
            "_model_name": "FloatProgressModel",
            "bar_style": "success",
            "max": 1000,
            "_view_module": "@jupyter-widgets/controls",
            "_model_module_version": "1.5.0",
            "value": 1000,
            "_view_count": null,
            "_view_module_version": "1.5.0",
            "orientation": "horizontal",
            "min": 0,
            "description_tooltip": null,
            "_model_module": "@jupyter-widgets/controls",
            "layout": "IPY_MODEL_bf667a112a984d07927544588e70e5b2"
          },
          "model_module_version": "1.5.0"
        },
        "7fd002ee61f74b9f8fe6f3a2ecd0ddd9": {
          "model_module": "@jupyter-widgets/controls",
          "model_name": "HTMLModel",
          "state": {
            "_view_name": "HTMLView",
            "style": "IPY_MODEL_b2d1346320584028a6cc569d4e4d2c63",
            "_dom_classes": [],
            "description": "",
            "_model_name": "HTMLModel",
            "placeholder": "​",
            "_view_module": "@jupyter-widgets/controls",
            "_model_module_version": "1.5.0",
            "value": " 1000/1000 [18:06&lt;00:00,  1.09s/it]",
            "_view_count": null,
            "_view_module_version": "1.5.0",
            "description_tooltip": null,
            "_model_module": "@jupyter-widgets/controls",
            "layout": "IPY_MODEL_a0075e491843418bab231f17569ca125"
          },
          "model_module_version": "1.5.0"
        },
        "5e0e36bd8e6542a291e696e185c71062": {
          "model_module": "@jupyter-widgets/controls",
          "model_name": "ProgressStyleModel",
          "state": {
            "_view_name": "StyleView",
            "_model_name": "ProgressStyleModel",
            "description_width": "initial",
            "_view_module": "@jupyter-widgets/base",
            "_model_module_version": "1.5.0",
            "_view_count": null,
            "_view_module_version": "1.2.0",
            "bar_color": null,
            "_model_module": "@jupyter-widgets/controls"
          },
          "model_module_version": "1.5.0"
        },
        "bf667a112a984d07927544588e70e5b2": {
          "model_module": "@jupyter-widgets/base",
          "model_name": "LayoutModel",
          "state": {
            "_view_name": "LayoutView",
            "grid_template_rows": null,
            "right": null,
            "justify_content": null,
            "_view_module": "@jupyter-widgets/base",
            "overflow": null,
            "_model_module_version": "1.2.0",
            "_view_count": null,
            "flex_flow": null,
            "width": null,
            "min_width": null,
            "border": null,
            "align_items": null,
            "bottom": null,
            "_model_module": "@jupyter-widgets/base",
            "top": null,
            "grid_column": null,
            "overflow_y": null,
            "overflow_x": null,
            "grid_auto_flow": null,
            "grid_area": null,
            "grid_template_columns": null,
            "flex": null,
            "_model_name": "LayoutModel",
            "justify_items": null,
            "grid_row": null,
            "max_height": null,
            "align_content": null,
            "visibility": null,
            "align_self": null,
            "height": null,
            "min_height": null,
            "padding": null,
            "grid_auto_rows": null,
            "grid_gap": null,
            "max_width": null,
            "order": null,
            "_view_module_version": "1.2.0",
            "grid_template_areas": null,
            "object_position": null,
            "object_fit": null,
            "grid_auto_columns": null,
            "margin": null,
            "display": null,
            "left": null
          },
          "model_module_version": "1.2.0"
        },
        "b2d1346320584028a6cc569d4e4d2c63": {
          "model_module": "@jupyter-widgets/controls",
          "model_name": "DescriptionStyleModel",
          "state": {
            "_view_name": "StyleView",
            "_model_name": "DescriptionStyleModel",
            "description_width": "",
            "_view_module": "@jupyter-widgets/base",
            "_model_module_version": "1.5.0",
            "_view_count": null,
            "_view_module_version": "1.2.0",
            "_model_module": "@jupyter-widgets/controls"
          },
          "model_module_version": "1.5.0"
        },
        "a0075e491843418bab231f17569ca125": {
          "model_module": "@jupyter-widgets/base",
          "model_name": "LayoutModel",
          "state": {
            "_view_name": "LayoutView",
            "grid_template_rows": null,
            "right": null,
            "justify_content": null,
            "_view_module": "@jupyter-widgets/base",
            "overflow": null,
            "_model_module_version": "1.2.0",
            "_view_count": null,
            "flex_flow": null,
            "width": null,
            "min_width": null,
            "border": null,
            "align_items": null,
            "bottom": null,
            "_model_module": "@jupyter-widgets/base",
            "top": null,
            "grid_column": null,
            "overflow_y": null,
            "overflow_x": null,
            "grid_auto_flow": null,
            "grid_area": null,
            "grid_template_columns": null,
            "flex": null,
            "_model_name": "LayoutModel",
            "justify_items": null,
            "grid_row": null,
            "max_height": null,
            "align_content": null,
            "visibility": null,
            "align_self": null,
            "height": null,
            "min_height": null,
            "padding": null,
            "grid_auto_rows": null,
            "grid_gap": null,
            "max_width": null,
            "order": null,
            "_view_module_version": "1.2.0",
            "grid_template_areas": null,
            "object_position": null,
            "object_fit": null,
            "grid_auto_columns": null,
            "margin": null,
            "display": null,
            "left": null
          },
          "model_module_version": "1.2.0"
        },
        "c1dd099ca8a04b309d1b15841040798b": {
          "model_module": "@jupyter-widgets/controls",
          "model_name": "HBoxModel",
          "state": {
            "_view_name": "HBoxView",
            "_dom_classes": [],
            "_model_name": "HBoxModel",
            "_view_module": "@jupyter-widgets/controls",
            "_model_module_version": "1.5.0",
            "_view_count": null,
            "_view_module_version": "1.5.0",
            "box_style": "",
            "layout": "IPY_MODEL_98b93a37a13d4adf9d88bf86efa8ae1b",
            "_model_module": "@jupyter-widgets/controls",
            "children": [
              "IPY_MODEL_ba1a9e005ee246f2a827ee31936402bd",
              "IPY_MODEL_3aee51430abd46d2907c01dc95b4f8c6"
            ]
          },
          "model_module_version": "1.5.0"
        },
        "98b93a37a13d4adf9d88bf86efa8ae1b": {
          "model_module": "@jupyter-widgets/base",
          "model_name": "LayoutModel",
          "state": {
            "_view_name": "LayoutView",
            "grid_template_rows": null,
            "right": null,
            "justify_content": null,
            "_view_module": "@jupyter-widgets/base",
            "overflow": null,
            "_model_module_version": "1.2.0",
            "_view_count": null,
            "flex_flow": null,
            "width": null,
            "min_width": null,
            "border": null,
            "align_items": null,
            "bottom": null,
            "_model_module": "@jupyter-widgets/base",
            "top": null,
            "grid_column": null,
            "overflow_y": null,
            "overflow_x": null,
            "grid_auto_flow": null,
            "grid_area": null,
            "grid_template_columns": null,
            "flex": null,
            "_model_name": "LayoutModel",
            "justify_items": null,
            "grid_row": null,
            "max_height": null,
            "align_content": null,
            "visibility": null,
            "align_self": null,
            "height": null,
            "min_height": null,
            "padding": null,
            "grid_auto_rows": null,
            "grid_gap": null,
            "max_width": null,
            "order": null,
            "_view_module_version": "1.2.0",
            "grid_template_areas": null,
            "object_position": null,
            "object_fit": null,
            "grid_auto_columns": null,
            "margin": null,
            "display": null,
            "left": null
          },
          "model_module_version": "1.2.0"
        },
        "ba1a9e005ee246f2a827ee31936402bd": {
          "model_module": "@jupyter-widgets/controls",
          "model_name": "FloatProgressModel",
          "state": {
            "_view_name": "ProgressView",
            "style": "IPY_MODEL_909155b909394f0f851b48142ebb2b68",
            "_dom_classes": [],
            "description": "100%",
            "_model_name": "FloatProgressModel",
            "bar_style": "success",
            "max": 4000,
            "_view_module": "@jupyter-widgets/controls",
            "_model_module_version": "1.5.0",
            "value": 4000,
            "_view_count": null,
            "_view_module_version": "1.5.0",
            "orientation": "horizontal",
            "min": 0,
            "description_tooltip": null,
            "_model_module": "@jupyter-widgets/controls",
            "layout": "IPY_MODEL_149327818c2e41419eda554961e1e257"
          },
          "model_module_version": "1.5.0"
        },
        "3aee51430abd46d2907c01dc95b4f8c6": {
          "model_module": "@jupyter-widgets/controls",
          "model_name": "HTMLModel",
          "state": {
            "_view_name": "HTMLView",
            "style": "IPY_MODEL_b43137b1d76644dc94d64040d6f59b7f",
            "_dom_classes": [],
            "description": "",
            "_model_name": "HTMLModel",
            "placeholder": "​",
            "_view_module": "@jupyter-widgets/controls",
            "_model_module_version": "1.5.0",
            "value": " 4000/4000 [1:03:58&lt;00:00,  1.04it/s]",
            "_view_count": null,
            "_view_module_version": "1.5.0",
            "description_tooltip": null,
            "_model_module": "@jupyter-widgets/controls",
            "layout": "IPY_MODEL_c3217165a4d34e1dac9fb538a872ffca"
          },
          "model_module_version": "1.5.0"
        },
        "909155b909394f0f851b48142ebb2b68": {
          "model_module": "@jupyter-widgets/controls",
          "model_name": "ProgressStyleModel",
          "state": {
            "_view_name": "StyleView",
            "_model_name": "ProgressStyleModel",
            "description_width": "initial",
            "_view_module": "@jupyter-widgets/base",
            "_model_module_version": "1.5.0",
            "_view_count": null,
            "_view_module_version": "1.2.0",
            "bar_color": null,
            "_model_module": "@jupyter-widgets/controls"
          },
          "model_module_version": "1.5.0"
        },
        "149327818c2e41419eda554961e1e257": {
          "model_module": "@jupyter-widgets/base",
          "model_name": "LayoutModel",
          "state": {
            "_view_name": "LayoutView",
            "grid_template_rows": null,
            "right": null,
            "justify_content": null,
            "_view_module": "@jupyter-widgets/base",
            "overflow": null,
            "_model_module_version": "1.2.0",
            "_view_count": null,
            "flex_flow": null,
            "width": null,
            "min_width": null,
            "border": null,
            "align_items": null,
            "bottom": null,
            "_model_module": "@jupyter-widgets/base",
            "top": null,
            "grid_column": null,
            "overflow_y": null,
            "overflow_x": null,
            "grid_auto_flow": null,
            "grid_area": null,
            "grid_template_columns": null,
            "flex": null,
            "_model_name": "LayoutModel",
            "justify_items": null,
            "grid_row": null,
            "max_height": null,
            "align_content": null,
            "visibility": null,
            "align_self": null,
            "height": null,
            "min_height": null,
            "padding": null,
            "grid_auto_rows": null,
            "grid_gap": null,
            "max_width": null,
            "order": null,
            "_view_module_version": "1.2.0",
            "grid_template_areas": null,
            "object_position": null,
            "object_fit": null,
            "grid_auto_columns": null,
            "margin": null,
            "display": null,
            "left": null
          },
          "model_module_version": "1.2.0"
        },
        "b43137b1d76644dc94d64040d6f59b7f": {
          "model_module": "@jupyter-widgets/controls",
          "model_name": "DescriptionStyleModel",
          "state": {
            "_view_name": "StyleView",
            "_model_name": "DescriptionStyleModel",
            "description_width": "",
            "_view_module": "@jupyter-widgets/base",
            "_model_module_version": "1.5.0",
            "_view_count": null,
            "_view_module_version": "1.2.0",
            "_model_module": "@jupyter-widgets/controls"
          },
          "model_module_version": "1.5.0"
        },
        "c3217165a4d34e1dac9fb538a872ffca": {
          "model_module": "@jupyter-widgets/base",
          "model_name": "LayoutModel",
          "state": {
            "_view_name": "LayoutView",
            "grid_template_rows": null,
            "right": null,
            "justify_content": null,
            "_view_module": "@jupyter-widgets/base",
            "overflow": null,
            "_model_module_version": "1.2.0",
            "_view_count": null,
            "flex_flow": null,
            "width": null,
            "min_width": null,
            "border": null,
            "align_items": null,
            "bottom": null,
            "_model_module": "@jupyter-widgets/base",
            "top": null,
            "grid_column": null,
            "overflow_y": null,
            "overflow_x": null,
            "grid_auto_flow": null,
            "grid_area": null,
            "grid_template_columns": null,
            "flex": null,
            "_model_name": "LayoutModel",
            "justify_items": null,
            "grid_row": null,
            "max_height": null,
            "align_content": null,
            "visibility": null,
            "align_self": null,
            "height": null,
            "min_height": null,
            "padding": null,
            "grid_auto_rows": null,
            "grid_gap": null,
            "max_width": null,
            "order": null,
            "_view_module_version": "1.2.0",
            "grid_template_areas": null,
            "object_position": null,
            "object_fit": null,
            "grid_auto_columns": null,
            "margin": null,
            "display": null,
            "left": null
          },
          "model_module_version": "1.2.0"
        }
      }
    }
  },
  "cells": [
    {
      "cell_type": "markdown",
      "metadata": {
        "id": "DazlADInMRhZ"
      },
      "source": [
        "##  HW10: BERT fintuning. \n",
        "\n",
        "In this exercise, you are going to learn how to perform fine-tuning on a transformer-based model. First, we will provide a tutorial on fine-tuning the Large Movie Review Dataset (IMDB dataset) using distilBERT (https://arxiv.org/abs/1910.01108). After that, you have to complete the exercise by fine-tuning on the TRUE call-center dataset (HW5). This homework is based on the Hugging Face tutorial (https://huggingface.co/transformers/custom_datasets.html)."
      ]
    },
    {
      "cell_type": "markdown",
      "metadata": {
        "id": "tRu2NjxvOSzu"
      },
      "source": [
        "### 1. Install transformers library form Hugging Face"
      ]
    },
    {
      "cell_type": "code",
      "metadata": {
        "colab": {
          "base_uri": "https://localhost:8080/"
        },
        "id": "AItukECo4Yyz",
        "outputId": "da16402a-6646-4292-cd86-d17699eb15de"
      },
      "source": [
        "# !pip install torch==1.4.0\n",
        "!pip install transformers\n",
        "!pip install pythainlp\n",
        "!pip install sentencepiece"
      ],
      "execution_count": null,
      "outputs": [
        {
          "output_type": "stream",
          "text": [
            "Requirement already satisfied: transformers in /usr/local/lib/python3.7/dist-packages (4.4.2)\n",
            "Requirement already satisfied: packaging in /usr/local/lib/python3.7/dist-packages (from transformers) (20.9)\n",
            "Requirement already satisfied: sacremoses in /usr/local/lib/python3.7/dist-packages (from transformers) (0.0.44)\n",
            "Requirement already satisfied: importlib-metadata; python_version < \"3.8\" in /usr/local/lib/python3.7/dist-packages (from transformers) (3.8.1)\n",
            "Requirement already satisfied: regex!=2019.12.17 in /usr/local/lib/python3.7/dist-packages (from transformers) (2019.12.20)\n",
            "Requirement already satisfied: numpy>=1.17 in /usr/local/lib/python3.7/dist-packages (from transformers) (1.19.5)\n",
            "Requirement already satisfied: tokenizers<0.11,>=0.10.1 in /usr/local/lib/python3.7/dist-packages (from transformers) (0.10.1)\n",
            "Requirement already satisfied: tqdm>=4.27 in /usr/local/lib/python3.7/dist-packages (from transformers) (4.41.1)\n",
            "Requirement already satisfied: requests in /usr/local/lib/python3.7/dist-packages (from transformers) (2.23.0)\n",
            "Requirement already satisfied: filelock in /usr/local/lib/python3.7/dist-packages (from transformers) (3.0.12)\n",
            "Requirement already satisfied: pyparsing>=2.0.2 in /usr/local/lib/python3.7/dist-packages (from packaging->transformers) (2.4.7)\n",
            "Requirement already satisfied: joblib in /usr/local/lib/python3.7/dist-packages (from sacremoses->transformers) (1.0.1)\n",
            "Requirement already satisfied: six in /usr/local/lib/python3.7/dist-packages (from sacremoses->transformers) (1.15.0)\n",
            "Requirement already satisfied: click in /usr/local/lib/python3.7/dist-packages (from sacremoses->transformers) (7.1.2)\n",
            "Requirement already satisfied: zipp>=0.5 in /usr/local/lib/python3.7/dist-packages (from importlib-metadata; python_version < \"3.8\"->transformers) (3.4.1)\n",
            "Requirement already satisfied: typing-extensions>=3.6.4; python_version < \"3.8\" in /usr/local/lib/python3.7/dist-packages (from importlib-metadata; python_version < \"3.8\"->transformers) (3.7.4.3)\n",
            "Requirement already satisfied: urllib3!=1.25.0,!=1.25.1,<1.26,>=1.21.1 in /usr/local/lib/python3.7/dist-packages (from requests->transformers) (1.24.3)\n",
            "Requirement already satisfied: chardet<4,>=3.0.2 in /usr/local/lib/python3.7/dist-packages (from requests->transformers) (3.0.4)\n",
            "Requirement already satisfied: idna<3,>=2.5 in /usr/local/lib/python3.7/dist-packages (from requests->transformers) (2.10)\n",
            "Requirement already satisfied: certifi>=2017.4.17 in /usr/local/lib/python3.7/dist-packages (from requests->transformers) (2020.12.5)\n",
            "Requirement already satisfied: pythainlp in /usr/local/lib/python3.7/dist-packages (2.3.0)\n",
            "Requirement already satisfied: python-crfsuite>=0.9.6 in /usr/local/lib/python3.7/dist-packages (from pythainlp) (0.9.7)\n",
            "Requirement already satisfied: requests>=2.22.0 in /usr/local/lib/python3.7/dist-packages (from pythainlp) (2.23.0)\n",
            "Requirement already satisfied: tinydb>=3.0 in /usr/local/lib/python3.7/dist-packages (from pythainlp) (4.4.0)\n",
            "Requirement already satisfied: idna<3,>=2.5 in /usr/local/lib/python3.7/dist-packages (from requests>=2.22.0->pythainlp) (2.10)\n",
            "Requirement already satisfied: chardet<4,>=3.0.2 in /usr/local/lib/python3.7/dist-packages (from requests>=2.22.0->pythainlp) (3.0.4)\n",
            "Requirement already satisfied: urllib3!=1.25.0,!=1.25.1,<1.26,>=1.21.1 in /usr/local/lib/python3.7/dist-packages (from requests>=2.22.0->pythainlp) (1.24.3)\n",
            "Requirement already satisfied: certifi>=2017.4.17 in /usr/local/lib/python3.7/dist-packages (from requests>=2.22.0->pythainlp) (2020.12.5)\n",
            "Requirement already satisfied: sentencepiece in /usr/local/lib/python3.7/dist-packages (0.1.95)\n"
          ],
          "name": "stdout"
        }
      ]
    },
    {
      "cell_type": "markdown",
      "metadata": {
        "id": "XeeinFe5O52s"
      },
      "source": [
        "### 2. Download Large Movie Review Dataset "
      ]
    },
    {
      "cell_type": "code",
      "metadata": {
        "colab": {
          "base_uri": "https://localhost:8080/"
        },
        "id": "MZx3kKjoBVcH",
        "outputId": "7b81ea9d-2c40-4d3d-a5a7-e6612fdfcee8"
      },
      "source": [
        "!wget http://ai.stanford.edu/~amaas/data/sentiment/aclImdb_v1.tar.gz\n",
        "!tar -xf aclImdb_v1.tar.gz"
      ],
      "execution_count": null,
      "outputs": [
        {
          "output_type": "stream",
          "text": [
            "--2021-04-04 08:28:01--  http://ai.stanford.edu/~amaas/data/sentiment/aclImdb_v1.tar.gz\n",
            "Resolving ai.stanford.edu (ai.stanford.edu)... 171.64.68.10\n",
            "Connecting to ai.stanford.edu (ai.stanford.edu)|171.64.68.10|:80... connected.\n",
            "HTTP request sent, awaiting response... 200 OK\n",
            "Length: 84125825 (80M) [application/x-gzip]\n",
            "Saving to: ‘aclImdb_v1.tar.gz’\n",
            "\n",
            "aclImdb_v1.tar.gz   100%[===================>]  80.23M  24.9MB/s    in 3.7s    \n",
            "\n",
            "2021-04-04 08:28:04 (22.0 MB/s) - ‘aclImdb_v1.tar.gz’ saved [84125825/84125825]\n",
            "\n"
          ],
          "name": "stdout"
        }
      ]
    },
    {
      "cell_type": "markdown",
      "metadata": {
        "id": "rLN_6EslN8F0"
      },
      "source": [
        "### 3. Preprocess the dataset  \n",
        "Large Movie Review Dataset  is a dataset for binary sentiment classification. The input of this dataset is a movie review with its sentiment as a ground truth"
      ]
    },
    {
      "cell_type": "code",
      "metadata": {
        "id": "a1rgQw7nBXcH"
      },
      "source": [
        "from pathlib import Path\n",
        "from sklearn.model_selection import train_test_split\n",
        "import numpy as np\n",
        "\n",
        "def read_imdb_split(split_dir):\n",
        "    split_dir = Path(split_dir)\n",
        "    texts = []\n",
        "    labels = []\n",
        "    for label_dir in [\"pos\", \"neg\"]:\n",
        "        for text_file in (split_dir/label_dir).iterdir():\n",
        "            texts.append(text_file.read_text())\n",
        "            labels.append(0 if label_dir is \"neg\" else 1)\n",
        "\n",
        "    return texts, labels\n",
        "\n",
        "train_texts, train_labels = read_imdb_split('aclImdb/train')\n",
        "test_texts, test_labels = read_imdb_split('aclImdb/test')\n",
        "train_texts, val_texts, train_labels, val_labels = train_test_split(train_texts, train_labels, test_size=.2)"
      ],
      "execution_count": null,
      "outputs": []
    },
    {
      "cell_type": "code",
      "metadata": {
        "colab": {
          "base_uri": "https://localhost:8080/"
        },
        "id": "h3RUR7lrBb8g",
        "outputId": "2187fc00-b448-4324-e7a5-f960ee962f61"
      },
      "source": [
        "print(\"Unique label is {}, nb. of train data = {}, test_data = {}\".format(np.unique(train_labels), len(train_texts), len(test_texts)))\n",
        "for i in range(5):\n",
        "  print(\"Data = {}\".format(train_texts[i]))\n",
        "  print(\"Label = {}\".format(train_labels[i]))"
      ],
      "execution_count": null,
      "outputs": [
        {
          "output_type": "stream",
          "text": [
            "Unique label is [0 1], nb. of train data = 20000, test_data = 25000\n",
            "Data = In addition to his \"Tarzan\" series, the prolific Edgar Rice Burroughs did write many other books, although, aside from the popular \"At the Earth's Core\", few of these have been filmed. One exception is the novel entitled \"The Lad and the Lion\", brought to the screen as \"The Lion Man\" (1936), an over-talkative, static, old-hat, slow-moving and rather dull movie, despite being filmed on real desert locations. Actually \"movie\" is the wrong word. The narrative doesn't move but proceeds at a snail's pace in an abrupt series of jerks. For instance, at least five characters are given elaborate opening scenes and then just disappear. Even more frustrating for the keen movie fan, are the characters who make an impression of sorts (like the lass who plies Hall with drugged wine) but are enacted by players who are not credited! The credited thespians generally come off worse than the unknowns. One exception is Australian actress Finis Barton who gives a good account of the kidnapped harem girl who rescues young Master Fairy. Admittedly, most of the cast are saddled with atrocious King James dialogue which has to be heard to be believed! But the way to play this rubbish is tongue-in-cheek, a stratagem which does not seem to have occurred to a single one of the film's roster of no-talent players. Maybe director J.P. McCarthy scotched that idea. Anyway, it's sad to see the lovely Kathleen Burke forced to trade lines with the likes of Richard Carlyle (her dad) and Jon Hall (her suitor). Admittedly, Mr Hall delivers his lines with marginally more conviction than Mr Carlyle, but that is no recommendation.\n",
            "Label = 0\n",
            "Data = Cinderella was one of the first movies I ever saw, and to me it is timeless. It is a lovely looking film, with gorgeous animation. My favourite animation scene was the dress scene- I just love those mice. The songs are also lovely, not as good as Snow White's, but they are a delight to sing, and are reminiscent of Tchaikovsky. A dream is a Wish and So this is love? are standouts. The characters are also a delight. Cinderella is idealistic and strong, and the mice provided great comic relief. The stepsisters were also well done, as well as Lucifer. But I loved the stepmother the best, she was really evil, in comparison to a great character in the name of the Fairy Godmother. It is true, the movie drags slightly, with the antics of the mice, but they were genuinely funny, so I don't care. I don't think it is overrated, underrated don't you mean? It rarely plays on television, but the really bad sequel does on Cinemagic on a regular basis. if you want a great Cinderella adaptation, try the wonderful Ever After, or the lavish Slipper and the Rose, which isn't as good. But whatever you do, avoid the sequel, which I have the mistake of owning, because you'll thank me. 9/10. Bethany Cox\n",
            "Label = 1\n",
            "Data = Virile, but naive, big Joe Buck leaves his home in Big Spring, Texas, and hustles off to the Big Apple in search of women and big bucks. In NYC, JB meets up with frustration, and with \"Ratso\" Rizzo, a scruffy but cordial con artist. Somehow, this mismatched pair manage to survive each other which in turn helps both of them cope with a gritty, sometimes brutal, urban America, en route to a poignant ending.<br /><br />Both funny and depressing, our \"Midnight Cowboy\" rides head-on into the vortex of cyclonic cultural change, and thus confirms to 1969 viewers that they, themselves, have been swept away from the 1950's age of innocence, and dropped, Dorothy and Toto like, into the 1960's Age of Aquarius.<br /><br />The film's direction is masterful; the casting is perfect; the acting is top notch; the script is crisp and cogent; the cinematography is engaging; and the music enhances all of the above. Deservedly, it won the best picture Oscar of 1969, and I would vote it as one of the best films of that cyclonic decade.\n",
            "Label = 1\n",
            "Data = ...and you can look at that statement in different ways, by the way. First of all, it's a mess because of all the gruesome and extremely violent scenes. Your wildest imagination doesn't even come close to some of the explicitly shown scenes here. Entire parts of this movie are just plain sick, disgusting, offensive, brutal and they bring you close to puking your guts out. Now, I love horror movies and I am very 'pro-violence', but I do think that it has to lead somewhere !! Is that too much to ask ? Cradle of Fear is just a series of utterly sick and twisted thoughts. The \"movie\" contains out of four separate chapters connected by a wraparound story. This results in endless showing of torture, murder and sickness only to find out that the victims have something in common. Not very informative, if you ask me. And yet - it has to be said - the basic plot idea surely HAS potential. It's about a cannibalistic hypnotist who made a deal with the devil himself to avenge himself and cause misery and death to everyone who was involved in his trial. Personally, I think that is an interesting topic, so they should have focused on that a little more instead of wanting to create the most disgusting movie ever.<br /><br />Secondly, the whole production of this movie was a mess. They didn't have much of a budget and they spent it all on fake blood and guts...Tons of it !! The acting performances are a joke and some of the worst I've ever seen. Any other special effects besides the make-up looks very amateurish ( Like that attempt to a realistic car crash, for example ). There's no tension or atmosphere to detect anywhere...not even an attempt to build up one.<br /><br />Cradle of Fear is a failure and a missed opportunity to say the least. With the presence of death-metal icon Danni Filth ( from the band Cradle of filth..get the link ? ) this movie is obviously only meant for the eyes of twisted teenagers who try to be controversial. Troubled girls and boys who take pleasure in worrying their parents by watching crap like this. And then people keep complaining that the amount of suicides and juvenile delinquency is increasing...Bah. I can imagine that this movie can cause a lot of damage when you're easily influenced or dispose of an unstable mind. For every self-respecting horror fan, this movie is an insult.\n",
            "Label = 0\n",
            "Data = Honestly,the concept behind \"Masters of Horror\" had something going for it. Big-time horror directors that are now left aside by the industry being given a chance to direct horror again, I was all for it from the start. That is, until I watched some episodes... Oh boy, it's really bad TV. Not only does it seem like the directors are being given very little budgets to direct their skits, but there seems to be guidelines as well, like shooting in HD for example. To make a long story short, it's bad both for artistic and reasons financial reasons. I cannot help but compare to the \"Tales From The Crypt\", and the M.o.H. episodes really don't stand the comparison. TFTC was good, MOH is bad; according to me here are a few keys to explain it: TFTC was shorter (around 25 minutes for each episode) than MOH (50 minutes per episode), I believe it allowed denser screenplays, with good ideas reoccurring more often, better overview of an episode, less chances to let the plot be confusing or boring. Duration might have been also the reason why the budget was better spent on TFTC: directors got to have REAL film music composers (composers on MOH are if inexistent, very bad), REAL actors (whereas on MOH it's nothing but unknown actor after unknown actor!), REAL directors of photography and, it can help sometimes, REAL film cameras (while MOH is shot on HD cameras with very wrongly chosen lens-pieces), the result of which being that the episodes of TFTC looked and felt \"cinematographic\" in the sense that there was real actors being casted, ranging from Michael J. Fox to Tim Roth to Kyle McLachlan to Kirk Douglas, but there were also film composers behind it, of the range of Alan Silvestri, great directors of photography like Dean Cundey, high-end screenplay writers, and in that sense each \"Tale\" was a little movie of its own true kind. Compared to TFTC, the \"Masters of Horrors\" is quite a lame approach to TV horror. It's very hard to stand looking at it if your standards regarding cinematography are just a little above average, because it looks the same as any ugly TV serial, if not worse. It gets boring and even annoying incredibly fast, within the first 10 minutes usually. The actors are never-heard before wannabes (except for Fairuza Balk, Robert Englund, Angela Bettis and a few, but even there, they are the only famous actors of their episodes). The director base for MoH was good in the beginning, but it's getting worst and worst with every episode: now if even the directors are unknown to the world, what remains? Nothing! And it's funny how they are starting to have complete unknown directors while they haven't even had, say, Stan Winston, Dick Maas, William Lustig, Sam Raimi, Eric Red, Robert Harmon, William Friedkin, Jim Muro, Stuart Gordon, Russell Mulcahy... If even \"Masters of Horror\" cannot bring dead directors back to life, who will? Maybe a rerun of Tales from the Crypt will.\n",
            "Label = 0\n"
          ],
          "name": "stdout"
        }
      ]
    },
    {
      "cell_type": "markdown",
      "metadata": {
        "id": "zKff_Vz4QDcs"
      },
      "source": [
        "After the dataset is processed, we tokenize each input sentence. This tokenizer has a start token of '[CLS'] (id 101) and a seperator token '[SEP]' (id 102) at the end of each sentence. If the word is an Out-of-vocabulary word (OOV), the token id is 100. The tokenized output has the following format :\n",
        "\n",
        "```python\n",
        "{\n",
        "  'input_ids': List[List[Int]]. List of tokenized input sentence.\n",
        "  'attention_mask' : List[List[Int]].  List of masked token. See cell [7] for example.\n",
        "}\n",
        "```"
      ]
    },
    {
      "cell_type": "code",
      "metadata": {
        "id": "lNhdSFz0CjxY",
        "colab": {
          "base_uri": "https://localhost:8080/",
          "height": 166,
          "referenced_widgets": [
            "83b9058a9dd448fc9041a543663615ac",
            "61da3a37e10243118f878d609a9ecccb",
            "da3fdfa0ba3f4c17a8858d5b7bf654e2",
            "0a556cf0381246eea4b386b86543b4d1",
            "80a10e4264f44e86a337a55e55224292",
            "3cf41fd9447943c9ba42ab73b448dbc2",
            "c6fd904d21344299bd2326256e0ab7d2",
            "36276454c5d046b19e8b941a4ea0bfe6",
            "9bfc5e1215e641cc82a314e1490eb364",
            "0916ab0c3cbf48b2962728a825c64e4a",
            "ef9cfc452241424dbbd7f009bbb707c2",
            "d27bcae835794e2aa471612c53ae5905",
            "67348189959b44138624a573a18cda0f",
            "c69614f021934fbe87532361b7d04ef4",
            "e44bc13b23d64f4f9cfd032060c841f8",
            "57e3e46964e74549a7304b9e984bfbf8",
            "015c3ebc38a64b1d9f1c8e49fac0b849",
            "0c5cb910890c43c2bebd0e43766fe509",
            "6ae9b3915cf04a4b8ce9194524c5085a",
            "801df22de18045989b2c528efdaa7e18",
            "7db50640f81a43cca14d0bcd65e6ec81",
            "07fd4e0f3b7e43298333b88a913ae2a7",
            "32ec911aee694cc5bb655d21f110cf90",
            "78f750824a974703a0378890b641f840"
          ]
        },
        "outputId": "0a7c6b41-4370-4f51-8df6-a1abaf225ccf"
      },
      "source": [
        "from transformers import DistilBertTokenizerFast\n",
        "tokenizer = DistilBertTokenizerFast.from_pretrained('distilbert-base-uncased')"
      ],
      "execution_count": null,
      "outputs": [
        {
          "output_type": "display_data",
          "data": {
            "application/vnd.jupyter.widget-view+json": {
              "model_id": "83b9058a9dd448fc9041a543663615ac",
              "version_minor": 0,
              "version_major": 2
            },
            "text/plain": [
              "HBox(children=(FloatProgress(value=0.0, description='Downloading', max=231508.0, style=ProgressStyle(descripti…"
            ]
          },
          "metadata": {
            "tags": []
          }
        },
        {
          "output_type": "stream",
          "text": [
            "\n"
          ],
          "name": "stdout"
        },
        {
          "output_type": "display_data",
          "data": {
            "application/vnd.jupyter.widget-view+json": {
              "model_id": "9bfc5e1215e641cc82a314e1490eb364",
              "version_minor": 0,
              "version_major": 2
            },
            "text/plain": [
              "HBox(children=(FloatProgress(value=0.0, description='Downloading', max=466062.0, style=ProgressStyle(descripti…"
            ]
          },
          "metadata": {
            "tags": []
          }
        },
        {
          "output_type": "stream",
          "text": [
            "\n"
          ],
          "name": "stdout"
        },
        {
          "output_type": "display_data",
          "data": {
            "application/vnd.jupyter.widget-view+json": {
              "model_id": "015c3ebc38a64b1d9f1c8e49fac0b849",
              "version_minor": 0,
              "version_major": 2
            },
            "text/plain": [
              "HBox(children=(FloatProgress(value=0.0, description='Downloading', max=28.0, style=ProgressStyle(description_w…"
            ]
          },
          "metadata": {
            "tags": []
          }
        },
        {
          "output_type": "stream",
          "text": [
            "\n"
          ],
          "name": "stdout"
        }
      ]
    },
    {
      "cell_type": "code",
      "metadata": {
        "colab": {
          "base_uri": "https://localhost:8080/"
        },
        "id": "Eg0h4BDsDx9J",
        "outputId": "d2fc31fc-70c5-4de5-c129-3b1f637909d8"
      },
      "source": [
        "tokenizer([ '[CLS] a' ], truncation=True, padding=True)"
      ],
      "execution_count": null,
      "outputs": [
        {
          "output_type": "execute_result",
          "data": {
            "text/plain": [
              "{'input_ids': [[101, 101, 1037, 102]], 'attention_mask': [[1, 1, 1, 1]]}"
            ]
          },
          "metadata": {
            "tags": []
          },
          "execution_count": 7
        }
      ]
    },
    {
      "cell_type": "code",
      "metadata": {
        "colab": {
          "base_uri": "https://localhost:8080/"
        },
        "id": "M5rrUE91E_Ke",
        "outputId": "f00b4076-1b9f-48f3-c0a0-ebaec62e5627"
      },
      "source": [
        "tokenizer( ['Pine apple apple pen  หมา ไก่', 'a b'], truncation=True, padding=True)"
      ],
      "execution_count": null,
      "outputs": [
        {
          "output_type": "execute_result",
          "data": {
            "text/plain": [
              "{'input_ids': [[101, 7222, 6207, 6207, 7279, 100, 100, 102], [101, 1037, 1038, 102, 0, 0, 0, 0]], 'attention_mask': [[1, 1, 1, 1, 1, 1, 1, 1], [1, 1, 1, 1, 0, 0, 0, 0]]}"
            ]
          },
          "metadata": {
            "tags": []
          },
          "execution_count": 8
        }
      ]
    },
    {
      "cell_type": "code",
      "metadata": {
        "colab": {
          "base_uri": "https://localhost:8080/"
        },
        "id": "kGGxJLmdFcFB",
        "outputId": "6047f00f-f1a9-4f05-b1e9-8e402b67c80f"
      },
      "source": [
        "a = tokenizer(train_texts[:2], truncation=True, padding=True)\n",
        "print(a)"
      ],
      "execution_count": null,
      "outputs": [
        {
          "output_type": "stream",
          "text": [
            "{'input_ids': [[101, 1999, 2804, 2000, 2010, 1000, 24566, 1000, 2186, 1010, 1996, 12807, 9586, 5785, 25991, 2106, 4339, 2116, 2060, 2808, 1010, 2348, 1010, 4998, 2013, 1996, 2759, 1000, 2012, 1996, 3011, 1005, 1055, 4563, 1000, 1010, 2261, 1997, 2122, 2031, 2042, 6361, 1012, 2028, 6453, 2003, 1996, 3117, 4709, 1000, 1996, 14804, 1998, 1996, 7006, 1000, 1010, 2716, 2000, 1996, 3898, 2004, 1000, 1996, 7006, 2158, 1000, 1006, 4266, 1007, 1010, 2019, 2058, 1011, 2831, 8082, 1010, 10763, 1010, 2214, 1011, 6045, 1010, 4030, 1011, 3048, 1998, 2738, 10634, 3185, 1010, 2750, 2108, 6361, 2006, 2613, 5532, 5269, 1012, 2941, 1000, 3185, 1000, 2003, 1996, 3308, 2773, 1012, 1996, 7984, 2987, 1005, 1056, 2693, 2021, 10951, 2012, 1037, 10879, 1005, 1055, 6393, 1999, 2019, 18772, 2186, 1997, 12181, 2015, 1012, 2005, 6013, 1010, 2012, 2560, 2274, 3494, 2024, 2445, 9603, 3098, 5019, 1998, 2059, 2074, 10436, 1012, 2130, 2062, 25198, 2005, 1996, 10326, 3185, 5470, 1010, 2024, 1996, 3494, 2040, 2191, 2019, 8605, 1997, 11901, 1006, 2066, 1996, 27333, 2040, 20228, 3111, 2534, 2007, 25483, 4511, 1007, 2021, 2024, 11955, 2011, 2867, 2040, 2024, 2025, 5827, 999, 1996, 5827, 1996, 13102, 7066, 3227, 2272, 2125, 4788, 2084, 1996, 4242, 2015, 1012, 2028, 6453, 2003, 2827, 3883, 10346, 2483, 12975, 2040, 3957, 1037, 2204, 4070, 1997, 1996, 11364, 14263, 2213, 2611, 2040, 26001, 2402, 3040, 8867, 1012, 4914, 2135, 1010, 2087, 1997, 1996, 3459, 2024, 12279, 2094, 2007, 2012, 3217, 18436, 2332, 2508, 7982, 2029, 2038, 2000, 2022, 2657, 2000, 2022, 3373, 999, 2021, 1996, 2126, 2000, 2377, 2023, 29132, 2003, 4416, 1011, 1999, 1011, 5048, 1010, 1037, 22913, 3351, 2213, 2029, 2515, 2025, 4025, 2000, 2031, 4158, 2000, 1037, 2309, 2028, 1997, 1996, 2143, 1005, 1055, 9238, 1997, 2053, 1011, 5848, 2867, 1012, 2672, 2472, 1046, 1012, 1052, 1012, 12584, 18937, 2098, 2008, 2801, 1012, 4312, 1010, 2009, 1005, 1055, 6517, 2000, 2156, 1996, 8403, 14559, 9894, 3140, 2000, 3119, 3210, 2007, 1996, 7777, 1997, 2957, 18431, 2571, 1006, 2014, 3611, 1007, 1998, 6285, 2534, 1006, 2014, 4848, 2953, 1007, 1012, 4914, 2135, 1010, 2720, 2534, 18058, 2010, 3210, 2007, 14785, 2135, 2062, 10652, 2084, 2720, 18431, 2571, 1010, 2021, 2008, 2003, 2053, 12832, 1012, 102], [101, 21686, 2001, 2028, 1997, 1996, 2034, 5691, 1045, 2412, 2387, 1010, 1998, 2000, 2033, 2009, 2003, 27768, 1012, 2009, 2003, 1037, 8403, 2559, 2143, 1010, 2007, 9882, 7284, 1012, 2026, 8837, 7284, 3496, 2001, 1996, 4377, 3496, 1011, 1045, 2074, 2293, 2216, 12328, 1012, 1996, 2774, 2024, 2036, 8403, 1010, 2025, 2004, 2204, 2004, 4586, 2317, 1005, 1055, 1010, 2021, 2027, 2024, 1037, 12208, 2000, 6170, 1010, 1998, 2024, 14563, 1997, 25900, 1012, 1037, 3959, 2003, 1037, 4299, 1998, 2061, 2023, 2003, 2293, 1029, 2024, 3233, 12166, 1012, 1996, 3494, 2024, 2036, 1037, 12208, 1012, 21686, 2003, 7812, 6553, 1998, 2844, 1010, 1998, 1996, 12328, 3024, 2307, 5021, 4335, 1012, 1996, 4084, 12911, 2015, 2020, 2036, 2092, 2589, 1010, 2004, 2092, 2004, 24184, 1012, 2021, 1045, 3866, 1996, 26959, 1996, 2190, 1010, 2016, 2001, 2428, 4763, 1010, 1999, 7831, 2000, 1037, 2307, 2839, 1999, 1996, 2171, 1997, 1996, 8867, 2643, 18938, 5886, 1012, 2009, 2003, 2995, 1010, 1996, 3185, 8011, 2015, 3621, 1010, 2007, 1996, 27440, 1997, 1996, 12328, 1010, 2021, 2027, 2020, 15958, 6057, 1010, 2061, 1045, 2123, 1005, 1056, 2729, 1012, 1045, 2123, 1005, 1056, 2228, 2009, 2003, 2058, 9250, 1010, 2104, 9250, 2123, 1005, 1056, 2017, 2812, 1029, 2009, 6524, 3248, 2006, 2547, 1010, 2021, 1996, 2428, 2919, 8297, 2515, 2006, 5988, 12863, 2006, 1037, 3180, 3978, 1012, 2065, 2017, 2215, 1037, 2307, 21686, 6789, 1010, 3046, 1996, 6919, 2412, 2044, 1010, 2030, 1996, 22689, 7540, 4842, 1998, 1996, 3123, 1010, 2029, 3475, 1005, 1056, 2004, 2204, 1012, 2021, 3649, 2017, 2079, 1010, 4468, 1996, 8297, 1010, 2029, 1045, 2031, 1996, 6707, 1997, 19273, 1010, 2138, 2017, 1005, 2222, 4067, 2033, 1012, 1023, 1013, 2184, 1012, 16559, 9574, 102, 0, 0, 0, 0, 0, 0, 0, 0, 0, 0, 0, 0, 0, 0, 0, 0, 0, 0, 0, 0, 0, 0, 0, 0, 0, 0, 0, 0, 0, 0, 0, 0, 0, 0, 0, 0, 0, 0, 0, 0, 0, 0, 0, 0, 0, 0, 0, 0, 0, 0, 0, 0, 0, 0, 0, 0, 0, 0, 0, 0, 0, 0, 0, 0, 0, 0, 0, 0, 0, 0, 0, 0, 0, 0, 0, 0, 0, 0, 0, 0, 0, 0, 0]], 'attention_mask': [[1, 1, 1, 1, 1, 1, 1, 1, 1, 1, 1, 1, 1, 1, 1, 1, 1, 1, 1, 1, 1, 1, 1, 1, 1, 1, 1, 1, 1, 1, 1, 1, 1, 1, 1, 1, 1, 1, 1, 1, 1, 1, 1, 1, 1, 1, 1, 1, 1, 1, 1, 1, 1, 1, 1, 1, 1, 1, 1, 1, 1, 1, 1, 1, 1, 1, 1, 1, 1, 1, 1, 1, 1, 1, 1, 1, 1, 1, 1, 1, 1, 1, 1, 1, 1, 1, 1, 1, 1, 1, 1, 1, 1, 1, 1, 1, 1, 1, 1, 1, 1, 1, 1, 1, 1, 1, 1, 1, 1, 1, 1, 1, 1, 1, 1, 1, 1, 1, 1, 1, 1, 1, 1, 1, 1, 1, 1, 1, 1, 1, 1, 1, 1, 1, 1, 1, 1, 1, 1, 1, 1, 1, 1, 1, 1, 1, 1, 1, 1, 1, 1, 1, 1, 1, 1, 1, 1, 1, 1, 1, 1, 1, 1, 1, 1, 1, 1, 1, 1, 1, 1, 1, 1, 1, 1, 1, 1, 1, 1, 1, 1, 1, 1, 1, 1, 1, 1, 1, 1, 1, 1, 1, 1, 1, 1, 1, 1, 1, 1, 1, 1, 1, 1, 1, 1, 1, 1, 1, 1, 1, 1, 1, 1, 1, 1, 1, 1, 1, 1, 1, 1, 1, 1, 1, 1, 1, 1, 1, 1, 1, 1, 1, 1, 1, 1, 1, 1, 1, 1, 1, 1, 1, 1, 1, 1, 1, 1, 1, 1, 1, 1, 1, 1, 1, 1, 1, 1, 1, 1, 1, 1, 1, 1, 1, 1, 1, 1, 1, 1, 1, 1, 1, 1, 1, 1, 1, 1, 1, 1, 1, 1, 1, 1, 1, 1, 1, 1, 1, 1, 1, 1, 1, 1, 1, 1, 1, 1, 1, 1, 1, 1, 1, 1, 1, 1, 1, 1, 1, 1, 1, 1, 1, 1, 1, 1, 1, 1, 1, 1, 1, 1, 1, 1, 1, 1, 1, 1, 1, 1, 1, 1, 1, 1, 1, 1, 1, 1, 1, 1, 1, 1, 1, 1, 1, 1, 1, 1, 1, 1, 1, 1, 1, 1, 1, 1, 1, 1, 1, 1, 1, 1, 1, 1, 1, 1, 1], [1, 1, 1, 1, 1, 1, 1, 1, 1, 1, 1, 1, 1, 1, 1, 1, 1, 1, 1, 1, 1, 1, 1, 1, 1, 1, 1, 1, 1, 1, 1, 1, 1, 1, 1, 1, 1, 1, 1, 1, 1, 1, 1, 1, 1, 1, 1, 1, 1, 1, 1, 1, 1, 1, 1, 1, 1, 1, 1, 1, 1, 1, 1, 1, 1, 1, 1, 1, 1, 1, 1, 1, 1, 1, 1, 1, 1, 1, 1, 1, 1, 1, 1, 1, 1, 1, 1, 1, 1, 1, 1, 1, 1, 1, 1, 1, 1, 1, 1, 1, 1, 1, 1, 1, 1, 1, 1, 1, 1, 1, 1, 1, 1, 1, 1, 1, 1, 1, 1, 1, 1, 1, 1, 1, 1, 1, 1, 1, 1, 1, 1, 1, 1, 1, 1, 1, 1, 1, 1, 1, 1, 1, 1, 1, 1, 1, 1, 1, 1, 1, 1, 1, 1, 1, 1, 1, 1, 1, 1, 1, 1, 1, 1, 1, 1, 1, 1, 1, 1, 1, 1, 1, 1, 1, 1, 1, 1, 1, 1, 1, 1, 1, 1, 1, 1, 1, 1, 1, 1, 1, 1, 1, 1, 1, 1, 1, 1, 1, 1, 1, 1, 1, 1, 1, 1, 1, 1, 1, 1, 1, 1, 1, 1, 1, 1, 1, 1, 1, 1, 1, 1, 1, 1, 1, 1, 1, 1, 1, 1, 1, 1, 1, 1, 1, 1, 1, 1, 1, 1, 1, 1, 1, 1, 1, 1, 1, 1, 1, 1, 1, 1, 1, 1, 1, 1, 1, 1, 1, 1, 1, 1, 1, 1, 1, 1, 1, 1, 1, 1, 1, 1, 1, 1, 1, 1, 1, 1, 1, 1, 1, 1, 1, 1, 0, 0, 0, 0, 0, 0, 0, 0, 0, 0, 0, 0, 0, 0, 0, 0, 0, 0, 0, 0, 0, 0, 0, 0, 0, 0, 0, 0, 0, 0, 0, 0, 0, 0, 0, 0, 0, 0, 0, 0, 0, 0, 0, 0, 0, 0, 0, 0, 0, 0, 0, 0, 0, 0, 0, 0, 0, 0, 0, 0, 0, 0, 0, 0, 0, 0, 0, 0, 0, 0, 0, 0, 0, 0, 0, 0, 0, 0, 0, 0, 0, 0, 0]]}\n"
          ],
          "name": "stdout"
        }
      ]
    },
    {
      "cell_type": "code",
      "metadata": {
        "id": "Sr_2xxBDCu0K",
        "colab": {
          "base_uri": "https://localhost:8080/"
        },
        "outputId": "c4a9cfc3-3033-43c5-e638-b4e9a6af5868"
      },
      "source": [
        "train_encodings = tokenizer(train_texts, add_special_tokens=True,\n",
        "            max_length=512,\n",
        "            pad_to_max_length=True,\n",
        "            return_token_type_ids=True,truncation=True\n",
        "        )\n",
        "val_encodings = tokenizer(val_texts, add_special_tokens=True,\n",
        "            max_length=512,\n",
        "            pad_to_max_length=True,\n",
        "            return_token_type_ids=True,truncation=True\n",
        "        )\n",
        "test_encodings = tokenizer(test_texts, add_special_tokens=True,\n",
        "            max_length=512,\n",
        "            pad_to_max_length=True,\n",
        "            return_token_type_ids=True,truncation=True\n",
        "        )"
      ],
      "execution_count": null,
      "outputs": [
        {
          "output_type": "stream",
          "text": [
            "/usr/local/lib/python3.7/dist-packages/transformers/tokenization_utils_base.py:2074: FutureWarning: The `pad_to_max_length` argument is deprecated and will be removed in a future version, use `padding=True` or `padding='longest'` to pad to the longest sequence in the batch, or use `padding='max_length'` to pad to a max length. In this case, you can give a specific length with `max_length` (e.g. `max_length=45`) or leave max_length to None to pad to the maximal input size of the model (e.g. 512 for Bert).\n",
            "  FutureWarning,\n"
          ],
          "name": "stderr"
        }
      ]
    },
    {
      "cell_type": "markdown",
      "metadata": {
        "id": "H8ZCqfOnYzUl"
      },
      "source": [
        "Convert the dataset into training format. You can see the training input format of distilBERT is in https://huggingface.co/transformers/model_doc/distilbert.html. "
      ]
    },
    {
      "cell_type": "code",
      "metadata": {
        "id": "6-0jjUGXYsil"
      },
      "source": [
        "train_data = [np.array(train_encodings['input_ids']), np.array(train_encodings['attention_mask'])]\n",
        "val_data = [np.array(val_encodings['input_ids']), np.array(val_encodings['attention_mask'])]\n",
        "test_data = [np.array(test_encodings['input_ids']), np.array(test_encodings['attention_mask'])]"
      ],
      "execution_count": null,
      "outputs": []
    },
    {
      "cell_type": "markdown",
      "metadata": {
        "id": "o3yXNHrOTQ0T"
      },
      "source": [
        "### 4. Model fine-tuning\n",
        "The model we used for fine-tuning is distilBERT (https://arxiv.org/abs/1910.01108), which is a smaller model distilled from the original BERT. Knowledge distillation is a well-known trick for improving the performance of a small model by learning an estimated uncertainty from a larger model instead of using a hard-label. If you want to know more about knowledge distillation, read https://arxiv.org/abs/1503.02531."
      ]
    },
    {
      "cell_type": "markdown",
      "metadata": {
        "id": "Ci8UytuJQ_34"
      },
      "source": [
        "#### Model Initialization"
      ]
    },
    {
      "cell_type": "code",
      "metadata": {
        "colab": {
          "base_uri": "https://localhost:8080/",
          "height": 225,
          "referenced_widgets": [
            "31cdadf5e7024ad2844be26246c9e549",
            "9babed80dca349c0b564ead547505b1a",
            "aace9bbc442a4b8bbd4ca6398dee3464",
            "6fc3bbca9f0a4a77b31bf5894a9ebda1",
            "1ad08ad55a8b4d20964a370e316da40d",
            "f79c115f350f4bb3ad6c23ab4cf0c755",
            "bfd70445bdb44d458d4a4e0c3e09e618",
            "0e0910c413e14e24a5844e18829650e1",
            "abc4690fb2aa4523a2717c9b90162d9c",
            "8c12e43dfd9d40c1b18e3d2947b2851a",
            "78e92374bd4148c9ae79e106e87c94b1",
            "9b43b0facf2f4648956c3d2cde1628d0",
            "82d55e6208f243b9843bef6d00d9461a",
            "5a646a9305104895bcf7f9b0a8e67e2e",
            "aab4975090da4239bb5488e3d77e47e4",
            "7c4c7296f1e8426f9f50e8baa3b7d7cd"
          ]
        },
        "id": "jTPTIED3-0wf",
        "outputId": "26b08457-67ac-4716-af15-7ea851b09d8e"
      },
      "source": [
        "from transformers import DistilBertForSequenceClassification\n",
        "import torch\n",
        "\n",
        "model = DistilBertForSequenceClassification.from_pretrained('distilbert-base-uncased', num_labels= 2)\n",
        "model = torch.nn.DataParallel(model.cuda(), device_ids=[0])\n",
        "\n",
        "LEARNING_RATE =  1e-5\n",
        "loss_fn = torch.nn.CrossEntropyLoss()\n",
        "optimizer = torch.optim.Adam(params =  model.parameters(), lr=LEARNING_RATE)\n"
      ],
      "execution_count": null,
      "outputs": [
        {
          "output_type": "display_data",
          "data": {
            "application/vnd.jupyter.widget-view+json": {
              "model_id": "31cdadf5e7024ad2844be26246c9e549",
              "version_minor": 0,
              "version_major": 2
            },
            "text/plain": [
              "HBox(children=(FloatProgress(value=0.0, description='Downloading', max=442.0, style=ProgressStyle(description_…"
            ]
          },
          "metadata": {
            "tags": []
          }
        },
        {
          "output_type": "stream",
          "text": [
            "\n"
          ],
          "name": "stdout"
        },
        {
          "output_type": "display_data",
          "data": {
            "application/vnd.jupyter.widget-view+json": {
              "model_id": "abc4690fb2aa4523a2717c9b90162d9c",
              "version_minor": 0,
              "version_major": 2
            },
            "text/plain": [
              "HBox(children=(FloatProgress(value=0.0, description='Downloading', max=267967963.0, style=ProgressStyle(descri…"
            ]
          },
          "metadata": {
            "tags": []
          }
        },
        {
          "output_type": "stream",
          "text": [
            "\n"
          ],
          "name": "stdout"
        },
        {
          "output_type": "stream",
          "text": [
            "Some weights of the model checkpoint at distilbert-base-uncased were not used when initializing DistilBertForSequenceClassification: ['vocab_transform.weight', 'vocab_transform.bias', 'vocab_layer_norm.weight', 'vocab_layer_norm.bias', 'vocab_projector.weight', 'vocab_projector.bias']\n",
            "- This IS expected if you are initializing DistilBertForSequenceClassification from the checkpoint of a model trained on another task or with another architecture (e.g. initializing a BertForSequenceClassification model from a BertForPreTraining model).\n",
            "- This IS NOT expected if you are initializing DistilBertForSequenceClassification from the checkpoint of a model that you expect to be exactly identical (initializing a BertForSequenceClassification model from a BertForSequenceClassification model).\n",
            "Some weights of DistilBertForSequenceClassification were not initialized from the model checkpoint at distilbert-base-uncased and are newly initialized: ['pre_classifier.weight', 'pre_classifier.bias', 'classifier.weight', 'classifier.bias']\n",
            "You should probably TRAIN this model on a down-stream task to be able to use it for predictions and inference.\n"
          ],
          "name": "stderr"
        }
      ]
    },
    {
      "cell_type": "markdown",
      "metadata": {
        "id": "rXUKnyIaRDAM"
      },
      "source": [
        "#### Set up training generator\n",
        "\n",
        "In contrast to model.fit which you have used in the previous lab. A more common way to feed the data is to use a generator. It is more memory-efficient than model.fit as the data is only quired when the iterator executes. For example, you can set the generator to load the image from the folder when called instead of storing all of them in the RAM. An example below is a way to create a simple generator, which aggregate the data points into a batch. Both PyTorch and TensorFlow also has a utility module for creating a generator (torch.utils.data.DataLoader for Torch and tf.data.Dataset for Tensorflow) "
      ]
    },
    {
      "cell_type": "code",
      "metadata": {
        "id": "-fGIxUdCQ_Mm"
      },
      "source": [
        "def batch_data_generator(data, label, bs = 8, training = True):\n",
        "  while(True):\n",
        "    X1= []\n",
        "    X2 = []\n",
        "    Y = []\n",
        "    from sklearn.utils import shuffle\n",
        "    ids, masks = data[0], data[1]\n",
        "    if(training):\n",
        "      ids, masks, label = shuffle(ids, masks, label, random_state = 42)\n",
        "    for a, b, c in zip(ids, masks, label):\n",
        "      X1.append(a)\n",
        "      X2.append(b)\n",
        "      Y.append(c)\n",
        "      if(len(X1) == bs):\n",
        "        yield [np.array(X1), np.array(X2)], np.array(Y)\n",
        "        X1= []\n",
        "        X2 = []\n",
        "        Y = []\n",
        "    if(len(X1) > 0):\n",
        "      yield [np.array(X1), np.array(X2)], np.array(Y)\n",
        "    if(not training):\n",
        "      yield None\n",
        "      break\n"
      ],
      "execution_count": null,
      "outputs": []
    },
    {
      "cell_type": "code",
      "metadata": {
        "id": "yMADXyexR5Vc"
      },
      "source": [
        "train_generator = batch_data_generator(train_data, np.array(train_labels, dtype = np.int), training = True)"
      ],
      "execution_count": null,
      "outputs": []
    },
    {
      "cell_type": "code",
      "metadata": {
        "colab": {
          "base_uri": "https://localhost:8080/"
        },
        "id": "13zA5yZQi_TI",
        "outputId": "9b8d413e-4bce-4b66-bbfc-68a628137254"
      },
      "source": [
        "dummy_generator = batch_data_generator(train_data, np.array(train_labels, dtype = np.int), training = True)\n",
        "X_dummy, Y_dummy = next(dummy_generator)\n",
        "print(X_dummy[0].shape, X_dummy[1].shape, Y_dummy.shape)"
      ],
      "execution_count": null,
      "outputs": [
        {
          "output_type": "stream",
          "text": [
            "(8, 512) (8, 512) (8,)\n"
          ],
          "name": "stdout"
        }
      ]
    },
    {
      "cell_type": "markdown",
      "metadata": {
        "id": "qVs7aFHDbeQf"
      },
      "source": [
        "#### Start Fine-tuning"
      ]
    },
    {
      "cell_type": "code",
      "metadata": {
        "colab": {
          "base_uri": "https://localhost:8080/",
          "height": 511,
          "referenced_widgets": [
            "8614213306ab4a8fb597304650e9caa8",
            "463bcf79d8ad4fa5a6a8d2c8f46366dc",
            "4eb25ca0c41041cc8db14547e391f91e",
            "7fd002ee61f74b9f8fe6f3a2ecd0ddd9",
            "5e0e36bd8e6542a291e696e185c71062",
            "bf667a112a984d07927544588e70e5b2",
            "b2d1346320584028a6cc569d4e4d2c63",
            "a0075e491843418bab231f17569ca125"
          ]
        },
        "id": "xirCCZ6wR-UZ",
        "outputId": "6c7b0036-dfd4-4af4-d764-9a635f708c56"
      },
      "source": [
        "device = \"cuda:0\"\n",
        "from tqdm import tqdm_notebook\n",
        "from sklearn.metrics import accuracy_score\n",
        "from collections import deque \n",
        "\n",
        "train_acc_stat =  deque(maxlen = 100)\n",
        "train_loss_stat =  deque(maxlen = 100)\n",
        "\n",
        "for step in  tqdm_notebook(range(1000)):\n",
        "    X, Y = next(train_generator)\n",
        "    ids = torch.tensor(X[0], dtype = torch.long, device = device)\n",
        "    mask = torch.tensor(X[1], dtype = torch.long, device = device)\n",
        "    targets = torch.tensor(Y, dtype = torch.long).to(device)\n",
        "\n",
        "    optimizer.zero_grad()\n",
        "    outputs = model(ids, mask)\n",
        "    loss = loss_fn(outputs['logits'], targets)\n",
        "    \n",
        "    loss.backward()\n",
        "    optimizer.step()\n",
        "\n",
        "    with torch.no_grad():\n",
        "      train_acc = accuracy_score(Y, outputs['logits'].argmax(axis = 1).cpu().detach().numpy() )\n",
        "      train_loss = loss.cpu().detach().numpy()\n",
        "      train_acc_stat.append(train_acc)\n",
        "      train_loss_stat.append(train_loss)\n",
        "\n",
        "    if (step + 1) %100==0:\n",
        "      print(\"iter = {} train_acc = {}\".format(step, np.array(train_acc_stat).mean()))\n",
        "      print(\"iter = {} train_loss = {}\".format(step, np.array(train_loss_stat).mean()))\n",
        "\n",
        "\n",
        "    if (step + 1) %500==0:\n",
        "      #validation step\n",
        "      with torch.no_grad():\n",
        "        val_generator = batch_data_generator(val_data, np.array(val_labels, dtype = np.int), training = False)\n",
        "        y_true = []\n",
        "        y_pred = []\n",
        "        while(True):\n",
        "          d = next(val_generator)\n",
        "          if(d is None): break\n",
        "          X, Y = d\n",
        "          ids = torch.tensor(X[0], dtype = torch.long, device = device)\n",
        "          mask = torch.tensor(X[1], dtype = torch.long, device = device)\n",
        "          outputs_cls = model(ids, mask)['logits'].argmax(axis = 1).cpu().detach().numpy()\n",
        "          y_true.append(Y)\n",
        "          y_pred.append(outputs_cls)\n",
        "        y_true = np.concatenate(y_true)\n",
        "        y_pred = np.concatenate(y_pred)\n",
        "        print(\"val acc\", accuracy_score(y_true, y_pred))"
      ],
      "execution_count": null,
      "outputs": [
        {
          "output_type": "stream",
          "text": [
            "/usr/local/lib/python3.7/dist-packages/ipykernel_launcher.py:9: TqdmDeprecationWarning: This function will be removed in tqdm==5.0.0\n",
            "Please use `tqdm.notebook.tqdm` instead of `tqdm.tqdm_notebook`\n",
            "  if __name__ == '__main__':\n"
          ],
          "name": "stderr"
        },
        {
          "output_type": "display_data",
          "data": {
            "application/vnd.jupyter.widget-view+json": {
              "model_id": "8614213306ab4a8fb597304650e9caa8",
              "version_minor": 0,
              "version_major": 2
            },
            "text/plain": [
              "HBox(children=(FloatProgress(value=0.0, max=1000.0), HTML(value='')))"
            ]
          },
          "metadata": {
            "tags": []
          }
        },
        {
          "output_type": "stream",
          "text": [
            "iter = 99 train_acc = 0.73\n",
            "iter = 99 train_loss = 0.570081889629364\n",
            "iter = 199 train_acc = 0.88\n",
            "iter = 199 train_loss = 0.326997309923172\n",
            "iter = 299 train_acc = 0.89375\n",
            "iter = 299 train_loss = 0.28449925780296326\n",
            "iter = 399 train_acc = 0.9\n",
            "iter = 399 train_loss = 0.25818705558776855\n",
            "iter = 499 train_acc = 0.895\n",
            "iter = 499 train_loss = 0.2770956754684448\n",
            "val acc 0.8846\n",
            "iter = 599 train_acc = 0.91125\n",
            "iter = 599 train_loss = 0.23292399942874908\n",
            "iter = 699 train_acc = 0.88375\n",
            "iter = 699 train_loss = 0.2749811112880707\n",
            "iter = 799 train_acc = 0.87375\n",
            "iter = 799 train_loss = 0.28948721289634705\n",
            "iter = 899 train_acc = 0.9025\n",
            "iter = 899 train_loss = 0.2369956523180008\n",
            "iter = 999 train_acc = 0.9\n",
            "iter = 999 train_loss = 0.2622757852077484\n",
            "val acc 0.8996\n",
            "\n"
          ],
          "name": "stdout"
        }
      ]
    },
    {
      "cell_type": "markdown",
      "metadata": {
        "id": "-rPUYXAATqVR"
      },
      "source": [
        "## TODO \n",
        "Compare the classification performance between the non-transformer model and the model fine-tuned using pretrained WangchanBERTa on TRUE call-center dataset (HW5). WangchanBERTa (https://arxiv.org/abs/2101.09635) is RoBERTa (https://arxiv.org/abs/1907.11692) trained on thai texts. RoBERTa is also supported in Hugging Face (https://huggingface.co/transformers/model_doc/roberta.html).\n",
        "\n",
        "To successfully fine-tune WangchanBERTa on the TRUE call-center dataset, you should:\n",
        "\n",
        "1. Preprocess the dataset into the same format as the tutorial.\n",
        "2. Tokenize the input from 1. See (https://colab.research.google.com/drive/1Kbk6sBspZLwcnOE61adAQo30xxqOQ9ko?usp=sharing&fbclid=IwAR23b8ZEoP6YxlUx7wWEu7dRCrVcyTFrZb3YSgI-nsxe_t4gy-bh8Rv5R9E#scrollTo=kAcpAdkddVQ8) for more details.\n",
        "3. Process the tokenized input from 1. to the format that could be fed to the model.\n",
        "4. Initialize WangchanBERTa (<b> you should choose the pretrained weight w.r.t. the tokenizer in 2.</b>)\n",
        "5. Fine-tune the pretrained model.\n",
        "6.  (Optional) Before fine-tuning is performed (before step 5), domain adaptation is often performed first by training a masked language model (maskLM). You can train maskLM by following this guideline (https://huggingface.co/transformers/model_doc/bert.html#bertformaskedlm)."
      ]
    },
    {
      "cell_type": "code",
      "metadata": {
        "id": "s66cqrKps5F2",
        "colab": {
          "base_uri": "https://localhost:8080/"
        },
        "outputId": "e77d62ff-29de-4160-943d-519572fa1b0b"
      },
      "source": [
        "!wget --no-check-certificate https://www.dropbox.com/s/37u83g55p19kvrl/clean-phone-data-for-students.csv\n",
        "!pip install torch torchtext torchvision\n"
      ],
      "execution_count": null,
      "outputs": [
        {
          "output_type": "stream",
          "text": [
            "--2021-04-04 08:51:12--  https://www.dropbox.com/s/37u83g55p19kvrl/clean-phone-data-for-students.csv\n",
            "Resolving www.dropbox.com (www.dropbox.com)... 162.125.6.18, 2620:100:601c:18::a27d:612\n",
            "Connecting to www.dropbox.com (www.dropbox.com)|162.125.6.18|:443... connected.\n",
            "HTTP request sent, awaiting response... 301 Moved Permanently\n",
            "Location: /s/raw/37u83g55p19kvrl/clean-phone-data-for-students.csv [following]\n",
            "--2021-04-04 08:51:12--  https://www.dropbox.com/s/raw/37u83g55p19kvrl/clean-phone-data-for-students.csv\n",
            "Reusing existing connection to www.dropbox.com:443.\n",
            "HTTP request sent, awaiting response... 302 Found\n",
            "Location: https://uc3213c0286f2cde5ef1e168714b.dl.dropboxusercontent.com/cd/0/inline/BL8QTctRfAYC-0csQRo7P5TBYyryfCTba9OO4Y_V9nnNGaQqPCjOIA7k2FMi9_5aK90jMf0j1H_60OHuQ7x9O9S4j2jQSMHGMuCrPg2a3Tff4PWEcg7z8p3SVJ8gkTw7IEIiFPofCqOpNscEXnjXhTch/file# [following]\n",
            "--2021-04-04 08:51:12--  https://uc3213c0286f2cde5ef1e168714b.dl.dropboxusercontent.com/cd/0/inline/BL8QTctRfAYC-0csQRo7P5TBYyryfCTba9OO4Y_V9nnNGaQqPCjOIA7k2FMi9_5aK90jMf0j1H_60OHuQ7x9O9S4j2jQSMHGMuCrPg2a3Tff4PWEcg7z8p3SVJ8gkTw7IEIiFPofCqOpNscEXnjXhTch/file\n",
            "Resolving uc3213c0286f2cde5ef1e168714b.dl.dropboxusercontent.com (uc3213c0286f2cde5ef1e168714b.dl.dropboxusercontent.com)... 162.125.6.15, 2620:100:601c:15::a27d:60f\n",
            "Connecting to uc3213c0286f2cde5ef1e168714b.dl.dropboxusercontent.com (uc3213c0286f2cde5ef1e168714b.dl.dropboxusercontent.com)|162.125.6.15|:443... connected.\n",
            "HTTP request sent, awaiting response... 200 OK\n",
            "Length: 2518977 (2.4M) [text/plain]\n",
            "Saving to: ‘clean-phone-data-for-students.csv’\n",
            "\n",
            "clean-phone-data-fo 100%[===================>]   2.40M  --.-KB/s    in 0.02s   \n",
            "\n",
            "2021-04-04 08:51:12 (152 MB/s) - ‘clean-phone-data-for-students.csv’ saved [2518977/2518977]\n",
            "\n",
            "Requirement already satisfied: torch in /usr/local/lib/python3.7/dist-packages (1.8.1+cu101)\n",
            "Requirement already satisfied: torchtext in /usr/local/lib/python3.7/dist-packages (0.9.1)\n",
            "Requirement already satisfied: torchvision in /usr/local/lib/python3.7/dist-packages (0.9.1+cu101)\n",
            "Requirement already satisfied: typing-extensions in /usr/local/lib/python3.7/dist-packages (from torch) (3.7.4.3)\n",
            "Requirement already satisfied: numpy in /usr/local/lib/python3.7/dist-packages (from torch) (1.19.5)\n",
            "Requirement already satisfied: tqdm in /usr/local/lib/python3.7/dist-packages (from torchtext) (4.41.1)\n",
            "Requirement already satisfied: requests in /usr/local/lib/python3.7/dist-packages (from torchtext) (2.23.0)\n",
            "Requirement already satisfied: pillow>=4.1.1 in /usr/local/lib/python3.7/dist-packages (from torchvision) (7.1.2)\n",
            "Requirement already satisfied: chardet<4,>=3.0.2 in /usr/local/lib/python3.7/dist-packages (from requests->torchtext) (3.0.4)\n",
            "Requirement already satisfied: urllib3!=1.25.0,!=1.25.1,<1.26,>=1.21.1 in /usr/local/lib/python3.7/dist-packages (from requests->torchtext) (1.24.3)\n",
            "Requirement already satisfied: certifi>=2017.4.17 in /usr/local/lib/python3.7/dist-packages (from requests->torchtext) (2020.12.5)\n",
            "Requirement already satisfied: idna<3,>=2.5 in /usr/local/lib/python3.7/dist-packages (from requests->torchtext) (2.10)\n"
          ],
          "name": "stdout"
        }
      ]
    },
    {
      "cell_type": "code",
      "metadata": {
        "id": "CoXWVt9uDSiA"
      },
      "source": [
        "import numpy as np\n",
        "import pandas as pd\n",
        "import torch\n",
        "\n",
        "from sklearn.model_selection import train_test_split\n",
        "from tensorflow.python.keras.utils.np_utils import to_categorical\n",
        "from tqdm.auto import tqdm\n",
        "\n",
        "#transformers\n",
        "from transformers import (\n",
        "    CamembertTokenizer,\n",
        "    AutoTokenizer,\n",
        "    AutoModel,\n",
        "    AutoModelForMaskedLM,\n",
        "    AutoModelForSequenceClassification,\n",
        "    AutoModelForTokenClassification,\n",
        "    TrainingArguments,\n",
        "    Trainer,\n",
        "    pipeline,\n",
        ")"
      ],
      "execution_count": null,
      "outputs": []
    },
    {
      "cell_type": "code",
      "metadata": {
        "id": "OnypHj2KEqr1"
      },
      "source": [
        "data_df = pd.read_csv('clean-phone-data-for-students.csv')"
      ],
      "execution_count": null,
      "outputs": []
    },
    {
      "cell_type": "code",
      "metadata": {
        "colab": {
          "base_uri": "https://localhost:8080/",
          "height": 164
        },
        "id": "J0K42R2dE08E",
        "outputId": "35cb166c-8208-4a72-e828-1ed0330f73a3"
      },
      "source": [
        "data_df2 = data_df[[\"Sentence Utterance\", \"Action\", \"Object\"]]\n",
        "data_df2.columns = ['input', 'raw_action','raw_object']\n",
        "\n",
        "data_df2['clean_action']=data_df2['raw_action'].str.lower().copy()\n",
        "data_df2['clean_object']=data_df2['raw_object'].str.lower().copy()\n",
        "\n",
        "data_df2.drop('raw_action', axis=1, inplace=True)\n",
        "data_df2.drop('raw_object', axis=1, inplace=True)\n",
        "\n",
        "data_df2 = data_df2.drop_duplicates(\"input\", keep=\"first\")\n",
        "display(data_df2.describe())\n",
        "\n",
        "data = data_df2.to_numpy()\n",
        "\n",
        "def strip_str(string):\n",
        "    return string.strip()\n",
        "\n",
        "data[:,0] = np.vectorize(strip_str)(data[:,0])\n",
        "\n",
        "unique_object = data_df2.clean_object.unique()\n",
        "object_2_num_map = dict(zip(unique_object, range(len(unique_object))))\n",
        "num_2_object_map = dict(zip(range(len(unique_object)), unique_object))\n",
        "\n",
        "data[:,2] = np.vectorize(object_2_num_map.get)(data[:,2])\n",
        "data[:,2] = np.array(all_objects)"
      ],
      "execution_count": null,
      "outputs": [
        {
          "output_type": "display_data",
          "data": {
            "text/html": [
              "<div>\n",
              "<style scoped>\n",
              "    .dataframe tbody tr th:only-of-type {\n",
              "        vertical-align: middle;\n",
              "    }\n",
              "\n",
              "    .dataframe tbody tr th {\n",
              "        vertical-align: top;\n",
              "    }\n",
              "\n",
              "    .dataframe thead th {\n",
              "        text-align: right;\n",
              "    }\n",
              "</style>\n",
              "<table border=\"1\" class=\"dataframe\">\n",
              "  <thead>\n",
              "    <tr style=\"text-align: right;\">\n",
              "      <th></th>\n",
              "      <th>input</th>\n",
              "      <th>clean_action</th>\n",
              "      <th>clean_object</th>\n",
              "    </tr>\n",
              "  </thead>\n",
              "  <tbody>\n",
              "    <tr>\n",
              "      <th>count</th>\n",
              "      <td>13389</td>\n",
              "      <td>13389</td>\n",
              "      <td>13389</td>\n",
              "    </tr>\n",
              "    <tr>\n",
              "      <th>unique</th>\n",
              "      <td>13389</td>\n",
              "      <td>8</td>\n",
              "      <td>26</td>\n",
              "    </tr>\n",
              "    <tr>\n",
              "      <th>top</th>\n",
              "      <td>ผมอยากจะถามว่าถ้าเราโทรไปต่างประเทศนาทีละกี่บา...</td>\n",
              "      <td>enquire</td>\n",
              "      <td>service</td>\n",
              "    </tr>\n",
              "    <tr>\n",
              "      <th>freq</th>\n",
              "      <td>1</td>\n",
              "      <td>8658</td>\n",
              "      <td>2111</td>\n",
              "    </tr>\n",
              "  </tbody>\n",
              "</table>\n",
              "</div>"
            ],
            "text/plain": [
              "                                                    input  ... clean_object\n",
              "count                                               13389  ...        13389\n",
              "unique                                              13389  ...           26\n",
              "top     ผมอยากจะถามว่าถ้าเราโทรไปต่างประเทศนาทีละกี่บา...  ...      service\n",
              "freq                                                    1  ...         2111\n",
              "\n",
              "[4 rows x 3 columns]"
            ]
          },
          "metadata": {
            "tags": []
          }
        }
      ]
    },
    {
      "cell_type": "code",
      "metadata": {
        "colab": {
          "base_uri": "https://localhost:8080/"
        },
        "id": "W0IVayCpvXYa",
        "outputId": "6705cddb-be2b-4d46-df3f-2df24d054f5a"
      },
      "source": [
        "data[10:,2] "
      ],
      "execution_count": null,
      "outputs": [
        {
          "output_type": "execute_result",
          "data": {
            "text/plain": [
              "array([4, 6, 3, ..., 7, 7, 1], dtype=object)"
            ]
          },
          "metadata": {
            "tags": []
          },
          "execution_count": 124
        }
      ]
    },
    {
      "cell_type": "code",
      "metadata": {
        "id": "0ZaAIalzE1Fn"
      },
      "source": [
        "train_text, test_text , train_object, test_object = train_test_split(data[:,0], data[:,2], test_size=.2 , random_state = 42)\n",
        "train_val_split = len(train_text)*7//10\n",
        "train_text, val_text = train_text[:train_val_split],train_text[train_val_split:]\n",
        "train_object, val_object = train_object[:train_val_split],train_object[train_val_split:]"
      ],
      "execution_count": null,
      "outputs": []
    },
    {
      "cell_type": "code",
      "metadata": {
        "colab": {
          "base_uri": "https://localhost:8080/"
        },
        "id": "xicpq5wKThMb",
        "outputId": "c20c9da8-5fee-4250-b295-8bbe21960536"
      },
      "source": [
        "train_object[10:]"
      ],
      "execution_count": null,
      "outputs": [
        {
          "output_type": "execute_result",
          "data": {
            "text/plain": [
              "array([3, 16, 3, ..., 9, 7, 0], dtype=object)"
            ]
          },
          "metadata": {
            "tags": []
          },
          "execution_count": 126
        }
      ]
    },
    {
      "cell_type": "code",
      "metadata": {
        "colab": {
          "base_uri": "https://localhost:8080/"
        },
        "id": "8zMRPwU9NCzk",
        "outputId": "19f3e5dc-640b-4cb8-e99e-3df4fc5d60f3"
      },
      "source": [
        "print(train_text.shape, val_text.shape,test_text.shape)\n",
        "print(train_object.shape, val_object.shape,test_object.shape)"
      ],
      "execution_count": null,
      "outputs": [
        {
          "output_type": "stream",
          "text": [
            "(7497,) (3214,) (2678,)\n",
            "(7497,) (3214,) (2678,)\n"
          ],
          "name": "stdout"
        }
      ]
    },
    {
      "cell_type": "code",
      "metadata": {
        "id": "uAUuxCTmNYqb"
      },
      "source": [
        "tokenizer = AutoTokenizer.from_pretrained('airesearch/wangchanberta-base-att-spm-uncased')"
      ],
      "execution_count": null,
      "outputs": []
    },
    {
      "cell_type": "code",
      "metadata": {
        "colab": {
          "base_uri": "https://localhost:8080/"
        },
        "id": "9DbUyIPkOvyt",
        "outputId": "1d0ab522-31a7-4b55-f135-adca6edd9f06"
      },
      "source": [
        "train_encodings = tokenizer(train_text.tolist(), add_special_tokens=True,\n",
        "            max_length=512,\n",
        "            pad_to_max_length=True,\n",
        "            return_token_type_ids=True,truncation=True\n",
        "        )\n",
        "val_encodings = tokenizer(val_text.tolist(), add_special_tokens=True,\n",
        "            max_length=512,\n",
        "            pad_to_max_length=True,\n",
        "            return_token_type_ids=True,truncation=True\n",
        "        )\n",
        "test_encodings = tokenizer(test_text.tolist(), add_special_tokens=True,\n",
        "            max_length=512,\n",
        "            pad_to_max_length=True,\n",
        "            return_token_type_ids=True,truncation=True\n",
        "        )"
      ],
      "execution_count": null,
      "outputs": [
        {
          "output_type": "stream",
          "text": [
            "/usr/local/lib/python3.7/dist-packages/transformers/tokenization_utils_base.py:2074: FutureWarning: The `pad_to_max_length` argument is deprecated and will be removed in a future version, use `padding=True` or `padding='longest'` to pad to the longest sequence in the batch, or use `padding='max_length'` to pad to a max length. In this case, you can give a specific length with `max_length` (e.g. `max_length=45`) or leave max_length to None to pad to the maximal input size of the model (e.g. 512 for Bert).\n",
            "  FutureWarning,\n"
          ],
          "name": "stderr"
        }
      ]
    },
    {
      "cell_type": "code",
      "metadata": {
        "id": "z8LRgTL-P28s"
      },
      "source": [
        "train_data = [np.array(train_encodings['input_ids']), np.array(train_encodings['attention_mask'])]\n",
        "val_data = [np.array(val_encodings['input_ids']), np.array(val_encodings['attention_mask'])]\n",
        "test_data = [np.array(test_encodings['input_ids']), np.array(test_encodings['attention_mask'])]"
      ],
      "execution_count": null,
      "outputs": []
    },
    {
      "cell_type": "code",
      "metadata": {
        "colab": {
          "base_uri": "https://localhost:8080/"
        },
        "id": "Okbfzku2QXdp",
        "outputId": "89f02fb3-a1b9-4b5c-f74e-163a92ecb8ff"
      },
      "source": [
        "model = AutoModelForSequenceClassification.from_pretrained('airesearch/wangchanberta-base-att-spm-uncased', num_labels= len(unique_object))\n",
        "model = torch.nn.DataParallel(model.cuda(), device_ids=[0])\n",
        "\n",
        "LEARNING_RATE =  1e-5\n",
        "loss_fn = torch.nn.CrossEntropyLoss()\n",
        "optimizer = torch.optim.Adam(params =  model.parameters(), lr=LEARNING_RATE)\n"
      ],
      "execution_count": null,
      "outputs": [
        {
          "output_type": "stream",
          "text": [
            "Some weights of the model checkpoint at airesearch/wangchanberta-base-att-spm-uncased were not used when initializing CamembertForSequenceClassification: ['lm_head.bias', 'lm_head.dense.weight', 'lm_head.dense.bias', 'lm_head.layer_norm.weight', 'lm_head.layer_norm.bias', 'lm_head.decoder.weight', 'lm_head.decoder.bias', 'roberta.pooler.dense.weight', 'roberta.pooler.dense.bias']\n",
            "- This IS expected if you are initializing CamembertForSequenceClassification from the checkpoint of a model trained on another task or with another architecture (e.g. initializing a BertForSequenceClassification model from a BertForPreTraining model).\n",
            "- This IS NOT expected if you are initializing CamembertForSequenceClassification from the checkpoint of a model that you expect to be exactly identical (initializing a BertForSequenceClassification model from a BertForSequenceClassification model).\n",
            "Some weights of CamembertForSequenceClassification were not initialized from the model checkpoint at airesearch/wangchanberta-base-att-spm-uncased and are newly initialized: ['classifier.dense.weight', 'classifier.dense.bias', 'classifier.out_proj.weight', 'classifier.out_proj.bias']\n",
            "You should probably TRAIN this model on a down-stream task to be able to use it for predictions and inference.\n"
          ],
          "name": "stderr"
        }
      ]
    },
    {
      "cell_type": "code",
      "metadata": {
        "id": "-DFhCtDNRAH3"
      },
      "source": [
        "import copy\n",
        "def batch_data_generator(data, label, bs = 8, training = True):\n",
        "  while(True):\n",
        "    X1= []\n",
        "    X2 = []\n",
        "    Y = []\n",
        "    from sklearn.utils import shuffle\n",
        "    ids, masks = copy.deepcopy(data[0]), copy.deepcopy(data[1])\n",
        "    labels = copy.deepcopy(label)\n",
        "    if(training):\n",
        "      ids, masks, labels = shuffle(ids, masks, labels, random_state = 42)\n",
        "    for a, b, c in zip(ids, masks, labels):\n",
        "      X1.append(a)\n",
        "      X2.append(b)\n",
        "      Y.append(c)\n",
        "      if(len(X1) == bs):\n",
        "        yield [np.array(X1), np.array(X2)], np.array(Y)\n",
        "        X1= []\n",
        "        X2 = []\n",
        "        Y = []\n",
        "    if(len(X1) > 0):\n",
        "      yield [np.array(X1), np.array(X2)], np.array(Y)\n",
        "    if(not training):\n",
        "      yield None\n",
        "      break\n"
      ],
      "execution_count": null,
      "outputs": []
    },
    {
      "cell_type": "code",
      "metadata": {
        "id": "jiULMsaxRKzk"
      },
      "source": [
        "train_generator = batch_data_generator(train_data, np.array(train_object, dtype = np.int), training = True)"
      ],
      "execution_count": null,
      "outputs": []
    },
    {
      "cell_type": "code",
      "metadata": {
        "colab": {
          "base_uri": "https://localhost:8080/",
          "height": 1000,
          "referenced_widgets": [
            "c1dd099ca8a04b309d1b15841040798b",
            "98b93a37a13d4adf9d88bf86efa8ae1b",
            "ba1a9e005ee246f2a827ee31936402bd",
            "3aee51430abd46d2907c01dc95b4f8c6",
            "909155b909394f0f851b48142ebb2b68",
            "149327818c2e41419eda554961e1e257",
            "b43137b1d76644dc94d64040d6f59b7f",
            "c3217165a4d34e1dac9fb538a872ffca"
          ]
        },
        "id": "8NhN8HKjUR4N",
        "outputId": "8fb16456-3e5f-4a44-9c67-c584549e3a9d"
      },
      "source": [
        "device = \"cuda:0\"\n",
        "from tqdm import tqdm_notebook\n",
        "from sklearn.metrics import accuracy_score\n",
        "from collections import deque \n",
        "\n",
        "train_acc_stat =  deque(maxlen = 100)\n",
        "train_loss_stat =  deque(maxlen = 100)\n",
        "\n",
        "for step in  tqdm_notebook(range(4000)):\n",
        "    X, Y = next(train_generator)\n",
        "    ids = torch.tensor(X[0], dtype = torch.long, device = device)\n",
        "    mask = torch.tensor(X[1], dtype = torch.long, device = device)\n",
        "    targets = torch.tensor(Y, dtype = torch.long).to(device)\n",
        "\n",
        "    optimizer.zero_grad()\n",
        "    outputs = model(ids, mask)\n",
        "    loss = loss_fn(outputs['logits'], targets)\n",
        "    \n",
        "    loss.backward()\n",
        "    optimizer.step()\n",
        "\n",
        "    with torch.no_grad():\n",
        "      train_acc = accuracy_score(Y, outputs['logits'].argmax(axis = 1).cpu().detach().numpy() )\n",
        "      train_loss = loss.cpu().detach().numpy()\n",
        "      train_acc_stat.append(train_acc)\n",
        "      train_loss_stat.append(train_loss)\n",
        "\n",
        "    if (step + 1) %100==0:\n",
        "      print(\"iter = {} train_acc = {}\".format(step, np.array(train_acc_stat).mean()))\n",
        "      print(\"iter = {} train_loss = {}\".format(step, np.array(train_loss_stat).mean()))\n",
        "\n",
        "\n",
        "    if (step + 1) %500==0:\n",
        "      #validation step\n",
        "      with torch.no_grad():\n",
        "        val_generator = batch_data_generator(val_data, np.array(val_object, dtype = np.int), training = False)\n",
        "        y_true = []\n",
        "        y_pred = []\n",
        "        while(True):\n",
        "          d = next(val_generator)\n",
        "          if(d is None): break\n",
        "          X, Y = d\n",
        "          ids = torch.tensor(X[0], dtype = torch.long, device = device)\n",
        "          mask = torch.tensor(X[1], dtype = torch.long, device = device)\n",
        "          outputs_cls = model(ids, mask)['logits'].argmax(axis = 1).cpu().detach().numpy()\n",
        "          y_true.append(Y)\n",
        "          y_pred.append(outputs_cls)\n",
        "        y_true = np.concatenate(y_true)\n",
        "        y_pred = np.concatenate(y_pred)\n",
        "        print(\"val acc\", accuracy_score(y_true, y_pred))"
      ],
      "execution_count": null,
      "outputs": [
        {
          "output_type": "stream",
          "text": [
            "/usr/local/lib/python3.7/dist-packages/ipykernel_launcher.py:9: TqdmDeprecationWarning: This function will be removed in tqdm==5.0.0\n",
            "Please use `tqdm.notebook.tqdm` instead of `tqdm.tqdm_notebook`\n",
            "  if __name__ == '__main__':\n"
          ],
          "name": "stderr"
        },
        {
          "output_type": "display_data",
          "data": {
            "application/vnd.jupyter.widget-view+json": {
              "model_id": "c1dd099ca8a04b309d1b15841040798b",
              "version_minor": 0,
              "version_major": 2
            },
            "text/plain": [
              "HBox(children=(FloatProgress(value=0.0, max=4000.0), HTML(value='')))"
            ]
          },
          "metadata": {
            "tags": []
          }
        },
        {
          "output_type": "stream",
          "text": [
            "iter = 99 train_acc = 0.2025\n",
            "iter = 99 train_loss = 2.8779850006103516\n",
            "iter = 199 train_acc = 0.2325\n",
            "iter = 199 train_loss = 2.6149468421936035\n",
            "iter = 299 train_acc = 0.35875\n",
            "iter = 299 train_loss = 2.360844135284424\n",
            "iter = 399 train_acc = 0.4475\n",
            "iter = 399 train_loss = 2.006945848464966\n",
            "iter = 499 train_acc = 0.525\n",
            "iter = 499 train_loss = 1.6820623874664307\n",
            "val acc 0.544181705040448\n",
            "iter = 599 train_acc = 0.565\n",
            "iter = 599 train_loss = 1.5172691345214844\n",
            "iter = 699 train_acc = 0.52625\n",
            "iter = 699 train_loss = 1.6550440788269043\n",
            "iter = 799 train_acc = 0.53625\n",
            "iter = 799 train_loss = 1.6548097133636475\n",
            "iter = 899 train_acc = 0.5825\n",
            "iter = 899 train_loss = 1.4302165508270264\n",
            "iter = 999 train_acc = 0.62375\n",
            "iter = 999 train_loss = 1.3428040742874146\n",
            "val acc 0.5382700684505289\n",
            "iter = 1099 train_acc = 0.56\n",
            "iter = 1099 train_loss = 1.487375020980835\n",
            "iter = 1199 train_acc = 0.56625\n",
            "iter = 1199 train_loss = 1.4734954833984375\n",
            "iter = 1299 train_acc = 0.545\n",
            "iter = 1299 train_loss = 1.5083868503570557\n",
            "iter = 1399 train_acc = 0.60875\n",
            "iter = 1399 train_loss = 1.3212084770202637\n",
            "iter = 1499 train_acc = 0.69375\n",
            "iter = 1499 train_loss = 1.0618268251419067\n",
            "val acc 0.701929060360921\n",
            "iter = 1599 train_acc = 0.71\n",
            "iter = 1599 train_loss = 1.0187782049179077\n",
            "iter = 1699 train_acc = 0.72625\n",
            "iter = 1699 train_loss = 0.9702203869819641\n",
            "iter = 1799 train_acc = 0.7525\n",
            "iter = 1799 train_loss = 0.8643335103988647\n",
            "iter = 1899 train_acc = 0.70875\n",
            "iter = 1899 train_loss = 1.0275253057479858\n",
            "iter = 1999 train_acc = 0.67\n",
            "iter = 1999 train_loss = 1.1274672746658325\n",
            "val acc 0.648102053515868\n",
            "iter = 2099 train_acc = 0.73625\n",
            "iter = 2099 train_loss = 0.8846263885498047\n",
            "iter = 2199 train_acc = 0.7375\n",
            "iter = 2199 train_loss = 0.895344078540802\n",
            "iter = 2299 train_acc = 0.7925\n",
            "iter = 2299 train_loss = 0.7198200821876526\n",
            "iter = 2399 train_acc = 0.7875\n",
            "iter = 2399 train_loss = 0.7644726634025574\n",
            "iter = 2499 train_acc = 0.805\n",
            "iter = 2499 train_loss = 0.7017872333526611\n",
            "val acc 0.6975731176104543\n",
            "iter = 2599 train_acc = 0.78125\n",
            "iter = 2599 train_loss = 0.759692907333374\n",
            "iter = 2699 train_acc = 0.76875\n",
            "iter = 2699 train_loss = 0.7637796998023987\n",
            "iter = 2799 train_acc = 0.8125\n",
            "iter = 2799 train_loss = 0.6717360615730286\n",
            "iter = 2899 train_acc = 0.82375\n",
            "iter = 2899 train_loss = 0.6565626263618469\n",
            "iter = 2999 train_acc = 0.81625\n",
            "iter = 2999 train_loss = 0.6122131943702698\n",
            "val acc 0.6960174237710018\n",
            "iter = 3099 train_acc = 0.7975\n",
            "iter = 3099 train_loss = 0.6700442433357239\n",
            "iter = 3199 train_acc = 0.80625\n",
            "iter = 3199 train_loss = 0.6711465716362\n",
            "iter = 3299 train_acc = 0.7575\n",
            "iter = 3299 train_loss = 0.8275361657142639\n",
            "iter = 3399 train_acc = 0.76\n",
            "iter = 3399 train_loss = 0.8199838399887085\n",
            "iter = 3499 train_acc = 0.795\n",
            "iter = 3499 train_loss = 0.7385119795799255\n",
            "val acc 0.6957062850031114\n",
            "iter = 3599 train_acc = 0.8625\n",
            "iter = 3599 train_loss = 0.5207954049110413\n",
            "iter = 3699 train_acc = 0.86625\n",
            "iter = 3699 train_loss = 0.45656055212020874\n",
            "iter = 3799 train_acc = 0.86375\n",
            "iter = 3799 train_loss = 0.5289181470870972\n",
            "iter = 3899 train_acc = 0.9025\n",
            "iter = 3899 train_loss = 0.36722010374069214\n",
            "iter = 3999 train_acc = 0.90125\n",
            "iter = 3999 train_loss = 0.36333245038986206\n",
            "val acc 0.7199751088985687\n",
            "\n"
          ],
          "name": "stdout"
        }
      ]
    },
    {
      "cell_type": "code",
      "metadata": {
        "colab": {
          "base_uri": "https://localhost:8080/"
        },
        "id": "QthY7AzIkUIT",
        "outputId": "8a15f29e-e732-4c18-9b7d-58fa5d9b9428"
      },
      "source": [
        "test_generator = batch_data_generator(test_data, np.array(test_object, dtype = np.int), training = False)\n",
        "y_true = []\n",
        "y_pred = []\n",
        "while(True):\n",
        " d = next(test_generator)\n",
        " if(d is None): break\n",
        " X, Y = d\n",
        " ids = torch.tensor(X[0], dtype = torch.long, device = device)\n",
        " mask = torch.tensor(X[1], dtype = torch.long, device = device)\n",
        " outputs_cls = model(ids, mask)['logits'].argmax(axis = 1).cpu().detach().numpy()\n",
        " y_true.append(Y)\n",
        " y_pred.append(outputs_cls)\n",
        "y_true = np.concatenate(y_true)\n",
        "y_pred = np.concatenate(y_pred)\n",
        "print(\"Test acc\", accuracy_score(y_true, y_pred))"
      ],
      "execution_count": null,
      "outputs": [
        {
          "output_type": "stream",
          "text": [
            "Test acc 0.719193427931292\n"
          ],
          "name": "stdout"
        }
      ]
    },
    {
      "cell_type": "markdown",
      "metadata": {
        "id": "YjLSw2xnGQr_"
      },
      "source": [
        "In HW6 ,object accurency is 61.67039522744221 % with using 120.874 s to finish traing 10 epochs. In this BERT, object accurency is 71.9193427931292 % with using 3838.921 s to finish traing 4 epochs"
      ]
    }
  ]
}