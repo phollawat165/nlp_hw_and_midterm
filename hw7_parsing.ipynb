{
  "nbformat": 4,
  "nbformat_minor": 0,
  "metadata": {
    "colab": {
      "name": "HW7_parsing.ipynb",
      "provenance": [],
      "collapsed_sections": []
    },
    "kernelspec": {
      "display_name": "Python 3",
      "language": "python",
      "name": "python3"
    },
    "language_info": {
      "codemirror_mode": {
        "name": "ipython",
        "version": 3
      },
      "file_extension": ".py",
      "mimetype": "text/x-python",
      "name": "python",
      "nbconvert_exporter": "python",
      "pygments_lexer": "ipython3",
      "version": "3.7.3"
    }
  },
  "cells": [
    {
      "cell_type": "markdown",
      "metadata": {
        "id": "eB0lBzkJy_l6"
      },
      "source": [
        "# HW7: Neural Transition-Based Dependency Parsing\n"
      ]
    },
    {
      "cell_type": "markdown",
      "metadata": {
        "id": "hwbJPnBmy_l-"
      },
      "source": [
        "In this exercise, you are going to build a deep learning model for Neural Networks Transition-Based Dependency Parsing. A dependency parser analyzes the grammatical structure of a sentence, establishing relationships between “head” words and words which modify those heads. Your implementation will be a transition-based parser, which incrementally builds up a parse one step at a time."
      ]
    },
    {
      "cell_type": "markdown",
      "metadata": {
        "id": "iTop7w0Wy_mT"
      },
      "source": [
        "To complete this exercise, you will need to complete the code and build a deep learning model for dependency parsing. We will evaluate the model on the subset of Penn Treebank (annotated with Universal Dependencies). \n",
        "\n",
        "We provide the code for data preparation and the skeleton for PartialParse class. You do not need to understand the code outside of this notebook. \n",
        "\n",
        "This homework and the starter codes are adopt from Stanford University class CS224n."
      ]
    },
    {
      "cell_type": "markdown",
      "metadata": {
        "id": "3RJMmaCSy_mV"
      },
      "source": [
        "This homework does not require you to use Google Colab or Google Cloud as the model is quite small (but you can still use it if you want)"
      ]
    },
    {
      "cell_type": "markdown",
      "metadata": {
        "id": "lzF49xKny_mX"
      },
      "source": [
        "## 1. Transition-Based Dependency Parsing"
      ]
    },
    {
      "cell_type": "markdown",
      "metadata": {
        "id": "PwH68mjMy_mY"
      },
      "source": [
        "Your implementation will be a transition-based parser, which incrementally builds\n",
        "up a parse one step at a time. At every step it maintains a partial parse, which is represented as follows:\n",
        "- A stack of words that are currently being processed.\n",
        "- A buffer of words yet to be processed.\n",
        "- A list of dependencies predicted by the parser.\n",
        "\n",
        "Initially, the stack only contains ROOT, the dependencies lists is empty, and the buffer contains all words\n",
        "of the sentence in order. At each step, the parse applies a transition to the partial parse until its buffer is\n",
        "empty and the stack is size 1. The following transitions can be applied:\n",
        "- SHIFT: removes the first word from the buffer and pushes it onto the stack.\n",
        "- LEFT-ARC: marks the second (second most recently added) item on the stack as a dependent of the\n",
        "first item and removes the second item from the stack.\n",
        "- RIGHT-ARC: marks the first (most recently added) item on the stack as a dependent of the second\n",
        "item and removes the first item from the stack.\n",
        "\n",
        "Your parser will decide among transitions at each state using a neural network classifier."
      ]
    },
    {
      "cell_type": "markdown",
      "metadata": {
        "id": "Ab3kn2OVy_mb"
      },
      "source": [
        "### TODO 1 (Written):\n",
        "Go through the sequence of transitions needed for parsing the sentence “I parsed\n",
        "this sentence correctly”. The dependency tree for the sentence is shown below. At each step, give the\n",
        "configuration of the stack and buffer, as well as what transition was applied this step and what new\n",
        "dependency was added (if any). The first three steps are provided below as an example."
      ]
    },
    {
      "cell_type": "markdown",
      "metadata": {
        "id": "aTkSbSf6y_ma"
      },
      "source": [
        "<img src=\"https://github.com/ekapolc/NLP_2020/blob/master/HW7/images/img1.jpg?raw=true\">"
      ]
    },
    {
      "cell_type": "markdown",
      "metadata": {
        "id": "OPmRQbXky_mc"
      },
      "source": [
        "Complete the following table (double click the table and fill in the rest):\n",
        "\n",
        "| stack    |  buffer |  new dependency | transition |\n",
        "| :------: |:------: | :-------------: | :--------: |\n",
        "| \\[ROOT\\]            | \\[I, parsed, this, sentence, correctly\\] |          | Initial Configuration |\n",
        "| \\[ROOT, I\\]         | \\[parsed, this, sentence, correctly\\]    |          | SHIFT |\n",
        "| \\[ROOT, I, parsed\\] | \\[this, sentence, correctly\\]            |          | SHIFT |\n",
        "| \\[ROOT, parsed\\]    | \\[this, sentence, correctly\\]            | parsed→I | LEFT-ARC |\n",
        "| \\[ROOT, parsed , this\\]  | \\[sentence, correctly\\]| |SHIFT |\n",
        "| \\[ROOT, parsed , this , sentence\\]  | \\[ correctly\\]| |SHIFT |\n",
        "| \\[ROOT, parsed , sentence\\]  | \\[ correctly\\]|sentence→this |LEFT-ARC |\n",
        "| \\[ROOT, parsed \\]  | \\[ correctly\\]|parsed→sentence |RIGHT-ARC |\n",
        "| \\[ROOT, parsed , corectly \\]  | \\[\\]| |SHIFT |\n",
        "| \\[ROOT, parsed \\]  | \\[\\]| parsed→correctly |RIGHT-ARC|\n",
        "| \\[ROOT \\]  | \\[\\]| ROOT→parsed |RIGHT-ARC|"
      ]
    },
    {
      "cell_type": "markdown",
      "metadata": {
        "id": "-h6PmOd6y_me"
      },
      "source": [
        "### TODO 2 (Coding):\n",
        "Implement the __\\_\\_init\\_\\___ and __parse_step__ functions in the PartialParse class. Your code must past both of the following tests."
      ]
    },
    {
      "cell_type": "code",
      "metadata": {
        "id": "WXhOjsN_y_mf"
      },
      "source": [
        "class PartialParse(object):\n",
        "    def __init__(self, sentence):\n",
        "        \"\"\"Initializes this partial parse.\n",
        "\n",
        "        Your code should initialize the following fields:\n",
        "            self.stack: The current stack represented as a list with the top of the stack as the\n",
        "                        last element of the list.\n",
        "            self.buffer: The current buffer represented as a list with the first item on the\n",
        "                         buffer as the first item of the list\n",
        "            self.dependencies: The list of dependencies produced so far. Represented as a list of\n",
        "                    tuples where each tuple is of the form (head, dependent).\n",
        "                    Order for this list doesn't matter.\n",
        "\n",
        "        The root token should be represented with the string \"ROOT\"\n",
        "\n",
        "        Args:\n",
        "            sentence: The sentence to be parsed as a list of words.\n",
        "                      Your code should not modify the sentence.\n",
        "        \"\"\"\n",
        "        # The sentence being parsed is kept for bookkeeping purposes. Do not use it in your code.\n",
        "        self.sentence = sentence\n",
        "\n",
        "        ### YOUR CODE HERE\n",
        "        self.stack = [\"ROOT\"]\n",
        "        self.buffer = list(sentence)\n",
        "        self.dependencies = []\n",
        "        ### END YOUR CODE\n",
        "\n",
        "    def parse_step(self, transition):\n",
        "        \"\"\"Performs a single parse step by applying the given transition to this partial parse\n",
        "\n",
        "        Args:\n",
        "            transition: A string that equals \"S\", \"LA\", or \"RA\" representing the shift, left-arc,\n",
        "                        and right-arc transitions. You can assume the provided transition is a legal\n",
        "                        transition.\n",
        "        \"\"\"\n",
        "        ### YOUR CODE HERE\n",
        "        if transition == 'S' and len(self.buffer) > 0:\n",
        "            word = self.buffer.pop(0)\n",
        "            self.stack.append(word)\n",
        "        if transition == 'LA' :\n",
        "            head = self.stack[-1]\n",
        "            dependent = self.stack.pop(-2)\n",
        "            self.dependencies.append((head, dependent))\n",
        "        if transition == 'RA':\n",
        "            head = self.stack[-2]\n",
        "            dependent = self.stack.pop()\n",
        "            self.dependencies.append((head, dependent))\n",
        "        ### END YOUR CODE\n",
        "\n",
        "    def parse(self, transitions):\n",
        "        \"\"\"Applies the provided transitions to this PartialParse\n",
        "\n",
        "        Args:\n",
        "            transitions: The list of transitions in the order they should be applied\n",
        "        Returns:\n",
        "            dependencies: The list of dependencies produced when parsing the sentence. Represented\n",
        "                          as a list of tuples where each tuple is of the form (head, dependent)\n",
        "        \"\"\"\n",
        "        for transition in transitions:\n",
        "            self.parse_step(transition)\n",
        "        return self.dependencies"
      ],
      "execution_count": null,
      "outputs": []
    },
    {
      "cell_type": "code",
      "metadata": {
        "id": "_kF_8ESPy_mk"
      },
      "source": [
        "# Do not modify this code\n",
        "def test_step(name, transition, stack, buf, deps,\n",
        "              ex_stack, ex_buf, ex_deps):\n",
        "    \"\"\"Tests that a single parse step returns the expected output\"\"\"\n",
        "    pp = PartialParse([])\n",
        "    pp.stack, pp.buffer, pp.dependencies = stack, buf, deps\n",
        "\n",
        "    pp.parse_step(transition)\n",
        "    stack, buf, deps = (tuple(pp.stack), tuple(pp.buffer), tuple(sorted(pp.dependencies)))\n",
        "    assert stack == ex_stack, \\\n",
        "        \"{:} test resulted in stack {:}, expected {:}\".format(name, stack, ex_stack)\n",
        "    assert buf == ex_buf, \\\n",
        "        \"{:} test resulted in buffer {:}, expected {:}\".format(name, buf, ex_buf)\n",
        "    assert deps == ex_deps, \\\n",
        "        \"{:} test resulted in dependency list {:}, expected {:}\".format(name, deps, ex_deps)\n",
        "    print(\"{:} test passed!\".format(name))\n",
        "\n",
        "\n",
        "def test_parse_step():\n",
        "    \"\"\"Simple tests for the PartialParse.parse_step function\n",
        "    Warning: these are not exhaustive\n",
        "    \"\"\"\n",
        "    test_step(\"SHIFT\", \"S\", [\"ROOT\", \"the\"], [\"cat\", \"sat\"], [],\n",
        "              (\"ROOT\", \"the\", \"cat\"), (\"sat\",), ())\n",
        "    test_step(\"LEFT-ARC\", \"LA\", [\"ROOT\", \"the\", \"cat\"], [\"sat\"], [],\n",
        "              (\"ROOT\", \"cat\",), (\"sat\",), ((\"cat\", \"the\"),))\n",
        "    test_step(\"RIGHT-ARC\", \"RA\", [\"ROOT\", \"run\", \"fast\"], [], [],\n",
        "              (\"ROOT\", \"run\",), (), ((\"run\", \"fast\"),))\n",
        "\n",
        "\n",
        "def test_parse():\n",
        "    \"\"\"Simple tests for the PartialParse.parse function\n",
        "    Warning: these are not exhaustive\n",
        "    \"\"\"\n",
        "    sentence = [\"parse\", \"this\", \"sentence\"]\n",
        "    dependencies = PartialParse(sentence).parse([\"S\", \"S\", \"S\", \"LA\", \"RA\", \"RA\"])\n",
        "    dependencies = tuple(sorted(dependencies))\n",
        "    expected = (('ROOT', 'parse'), ('parse', 'sentence'), ('sentence', 'this'))\n",
        "    assert dependencies == expected,  \\\n",
        "        \"parse test resulted in dependencies {:}, expected {:}\".format(dependencies, expected)\n",
        "    assert tuple(sentence) == (\"parse\", \"this\", \"sentence\"), \\\n",
        "        \"parse test failed: the input sentence should not be modified\"\n",
        "    print(\"parse test passed!\")"
      ],
      "execution_count": null,
      "outputs": []
    },
    {
      "cell_type": "code",
      "metadata": {
        "colab": {
          "base_uri": "https://localhost:8080/"
        },
        "id": "MwNZjFgey_mn",
        "outputId": "6c59eaf3-ad63-4245-ce79-b842099ce09b"
      },
      "source": [
        "test_parse_step()\n",
        "test_parse()"
      ],
      "execution_count": null,
      "outputs": [
        {
          "output_type": "stream",
          "text": [
            "SHIFT test passed!\n",
            "LEFT-ARC test passed!\n",
            "RIGHT-ARC test passed!\n",
            "parse test passed!\n"
          ],
          "name": "stdout"
        }
      ]
    },
    {
      "cell_type": "markdown",
      "metadata": {
        "id": "0lx3xP_Zy_mr"
      },
      "source": [
        "### TODO 3 (Coding):\n",
        "Our network will predict which transition should be applied next to a partial parse. We could use it to parse a single sentence by applying predicted transitions until the parse is complete. However, neural networks run much more efficiently when making predictions about batches of data at a time (i.e., predicting the next transition for a many different partial parses simultaneously). We can parse sentences in minibatches with the following algorithm."
      ]
    },
    {
      "cell_type": "markdown",
      "metadata": {
        "id": "4oTyD-Dcy_ms"
      },
      "source": [
        "<img src=\"https://github.com/ekapolc/NLP_2020/blob/master/HW7/images/img2.jpg?raw=true\">"
      ]
    },
    {
      "cell_type": "markdown",
      "metadata": {
        "id": "BhRpDDXay_mt"
      },
      "source": [
        "Implement this algorithm in the minibatch parse function and run the following test."
      ]
    },
    {
      "cell_type": "code",
      "metadata": {
        "id": "gio_qpS5y_mu"
      },
      "source": [
        "def minibatch_parse(sentences, model, batch_size):\n",
        "    \"\"\"Parses a list of sentences in minibatches using a model.\n",
        "\n",
        "    Args:\n",
        "        sentences: A list of sentences to be parsed (each sentence is a list of words)\n",
        "        model: The model that makes parsing decisions. It is assumed to have a function\n",
        "               model.predict(partial_parses) that takes in a list of PartialParses as input and\n",
        "               returns a list of transitions predicted for each parse. That is, after calling\n",
        "                   transitions = model.predict(partial_parses)\n",
        "               transitions[i] will be the next transition to apply to partial_parses[i].\n",
        "        batch_size: The number of PartialParses to include in each minibatch\n",
        "    Returns:\n",
        "        dependencies: A list where each element is the dependencies list for a parsed sentence.\n",
        "                      Ordering should be the same as in sentences (i.e., dependencies[i] should\n",
        "                      contain the parse for sentences[i]).\n",
        "    \"\"\"\n",
        "\n",
        "    ### YOUR CODE HERE\n",
        "    num_sentences     = len(sentences)\n",
        "    partial_parses    = [PartialParse(sentence) for sentence in sentences]\n",
        "    unfinished_parses = partial_parses[:] # shallow copy of pp\n",
        "\n",
        "    while len(unfinished_parses) > 0:\n",
        "        parsers = unfinished_parses[:batch_size]\n",
        "        batch_transitions = model.predict(parsers)\n",
        "        for i in range(len(parsers)):\n",
        "            parsers[i].parse([batch_transitions[i]])\n",
        "            if len(parsers[i].buffer) == 0 and len(parsers[i].stack) == 1:\n",
        "                unfinished_parses.remove(parsers[i])\n",
        "\n",
        "    dependencies = [pp.dependencies for pp in partial_parses]\n",
        "    ### END YOUR CODE\n",
        "\n",
        "    return dependencies"
      ],
      "execution_count": null,
      "outputs": []
    },
    {
      "cell_type": "code",
      "metadata": {
        "id": "lXNoWwaWy_mx"
      },
      "source": [
        "# Do not modify this code\n",
        "class DummyModel(object):\n",
        "    \"\"\"Dummy model for testing the minibatch_parse function\n",
        "    First shifts everything onto the stack and then does exclusively right arcs if the first word of\n",
        "    the sentence is \"right\", \"left\" if otherwise.\n",
        "    \"\"\"\n",
        "    def predict(self, partial_parses):\n",
        "        return [(\"RA\" if pp.stack[1] is \"right\" else \"LA\") if len(pp.buffer) == 0 else \"S\"\n",
        "                for pp in partial_parses]\n",
        "\n",
        "\n",
        "def test_dependencies(name, deps, ex_deps):\n",
        "    \"\"\"Tests the provided dependencies match the expected dependencies\"\"\"\n",
        "    deps = tuple(sorted(deps))\n",
        "    assert deps == ex_deps, \\\n",
        "        \"{:} test resulted in dependency list {:}, expected {:}\".format(name, deps, ex_deps)\n",
        "\n",
        "\n",
        "def test_minibatch_parse():\n",
        "    \"\"\"Simple tests for the minibatch_parse function\n",
        "    Warning: these are not exhaustive\n",
        "    \"\"\"\n",
        "    sentences = [[\"right\", \"arcs\", \"only\"],\n",
        "                 [\"right\", \"arcs\", \"only\", \"again\"],\n",
        "                 [\"left\", \"arcs\", \"only\"],\n",
        "                 [\"left\", \"arcs\", \"only\", \"again\"]]\n",
        "    deps = minibatch_parse(sentences, DummyModel(), 2)\n",
        "    test_dependencies(\"minibatch_parse\", deps[0],\n",
        "                      (('ROOT', 'right'), ('arcs', 'only'), ('right', 'arcs')))\n",
        "    test_dependencies(\"minibatch_parse\", deps[1],\n",
        "                      (('ROOT', 'right'), ('arcs', 'only'), ('only', 'again'), ('right', 'arcs')))\n",
        "    test_dependencies(\"minibatch_parse\", deps[2],\n",
        "                      (('only', 'ROOT'), ('only', 'arcs'), ('only', 'left')))\n",
        "    test_dependencies(\"minibatch_parse\", deps[3],\n",
        "                      (('again', 'ROOT'), ('again', 'arcs'), ('again', 'left'), ('again', 'only')))\n",
        "    print(\"minibatch_parse test passed!\")"
      ],
      "execution_count": null,
      "outputs": []
    },
    {
      "cell_type": "code",
      "metadata": {
        "colab": {
          "base_uri": "https://localhost:8080/"
        },
        "id": "V-13VeiKy_m1",
        "outputId": "c6ee65d9-550d-45ab-893a-6010a32e10a6"
      },
      "source": [
        "test_minibatch_parse()"
      ],
      "execution_count": null,
      "outputs": [
        {
          "output_type": "stream",
          "text": [
            "minibatch_parse test passed!\n"
          ],
          "name": "stdout"
        }
      ]
    },
    {
      "cell_type": "markdown",
      "metadata": {
        "id": "EL5kIWKXy_m4"
      },
      "source": [
        "## 2. Setup and Preprocessing"
      ]
    },
    {
      "cell_type": "code",
      "metadata": {
        "id": "Mu8N_XxDlHxf",
        "colab": {
          "base_uri": "https://localhost:8080/"
        },
        "outputId": "502bd6d9-5e89-4ffb-b225-4ce1121ae53e"
      },
      "source": [
        "!unzip HW7_parsing.zip -d /content\n"
      ],
      "execution_count": null,
      "outputs": [
        {
          "output_type": "stream",
          "text": [
            "Archive:  HW7_parsing.zip\n",
            "  inflating: /content/data/dev.conll  \n",
            "  inflating: /content/data/dev.gold.conll  \n",
            "  inflating: /content/data/en-cw.txt  \n",
            "  inflating: /content/data/test.conll  \n",
            "  inflating: /content/data/test.gold.conll  \n",
            "  inflating: /content/data/train.conll  \n",
            "  inflating: /content/data/train.gold.conll  \n",
            "  inflating: /content/HW7_parsing.ipynb  \n",
            "  inflating: /content/images/.ipynb_checkpoints/img1-checkpoint.jpg  \n",
            "  inflating: /content/images/img1.jpg  \n",
            "  inflating: /content/images/img2.jpg  \n",
            "  inflating: /content/README.md      \n",
            "  inflating: /content/utils/.ipynb_checkpoints/general_utils-checkpoint.py  \n",
            "  inflating: /content/utils/.ipynb_checkpoints/parser_utils-checkpoint.py  \n",
            " extracting: /content/utils/__init__.py  \n",
            "  inflating: /content/utils/__pycache__/__init__.cpython-35.pyc  \n",
            "  inflating: /content/utils/__pycache__/general_utils.cpython-35.pyc  \n",
            "  inflating: /content/utils/__pycache__/parser_utils.cpython-35.pyc  \n",
            "  inflating: /content/utils/general_utils.py  \n",
            "  inflating: /content/utils/parser_utils.py  \n"
          ],
          "name": "stdout"
        }
      ]
    },
    {
      "cell_type": "code",
      "metadata": {
        "id": "zemNby1uy_m5"
      },
      "source": [
        "from utils.parser_utils import minibatches, load_and_preprocess_data"
      ],
      "execution_count": null,
      "outputs": []
    },
    {
      "cell_type": "markdown",
      "metadata": {
        "id": "RksEEdJvy_m8"
      },
      "source": [
        "Preparing data. We will use a subset of Penn Treebank and pretrained embeddings in this task"
      ]
    },
    {
      "cell_type": "markdown",
      "metadata": {
        "id": "5XNgGpMUy_m9"
      },
      "source": [
        "We are now going to train a neural network to predict, given the state of the stack, buffer, and dependencies, which transition should be applied next. First, the model extracts a feature vector representing the current state. We will be using the feature set presented in the original neural dependency parsing paper: A Fast and Accurate Dependency Parser using Neural Networks. \n",
        "\n",
        "The function extracting these features has been implemented for you in parser_utils. This feature vector consists of a list of tokens (e.g., the last word in the stack, first word in the buffer, dependent of the second-to-last word in the stack if there is one, etc.). They can be represented as a list of integers."
      ]
    },
    {
      "cell_type": "code",
      "metadata": {
        "id": "JhqbGTYpy_m-",
        "colab": {
          "base_uri": "https://localhost:8080/"
        },
        "outputId": "ac42a72c-824d-4e0b-b2ef-430ec17e5701"
      },
      "source": [
        "parser, embeddings, train_examples, dev_set, test_set = load_and_preprocess_data(True)"
      ],
      "execution_count": null,
      "outputs": [
        {
          "output_type": "stream",
          "text": [
            "Loading data...\n",
            "took 2.36 seconds\n",
            "Building parser...\n",
            "took 0.03 seconds\n",
            "Loading pretrained embeddings...\n",
            "took 2.38 seconds\n",
            "Vectorizing data...\n",
            "took 0.07 seconds\n",
            "Preprocessing training data...\n",
            "took 1.39 seconds\n"
          ],
          "name": "stdout"
        }
      ]
    },
    {
      "cell_type": "code",
      "metadata": {
        "id": "D-VYL2rKy_nB",
        "colab": {
          "base_uri": "https://localhost:8080/"
        },
        "outputId": "128f6dc7-170e-4032-8c49-39e5fd9405f9"
      },
      "source": [
        "print(len(train_examples), len(dev_set), len(test_set))"
      ],
      "execution_count": null,
      "outputs": [
        {
          "output_type": "stream",
          "text": [
            "48390 500 500\n"
          ],
          "name": "stdout"
        }
      ]
    },
    {
      "cell_type": "code",
      "metadata": {
        "id": "FubWDIsNy_nE",
        "colab": {
          "base_uri": "https://localhost:8080/"
        },
        "outputId": "9b94637e-7d39-4571-a8c8-3609e918abfe"
      },
      "source": [
        "print(embeddings.shape)"
      ],
      "execution_count": null,
      "outputs": [
        {
          "output_type": "stream",
          "text": [
            "(5157, 50)\n"
          ],
          "name": "stdout"
        }
      ]
    },
    {
      "cell_type": "markdown",
      "metadata": {
        "id": "ZBD3A4yVy_nI"
      },
      "source": [
        "Get the full batch of our subset data"
      ]
    },
    {
      "cell_type": "code",
      "metadata": {
        "id": "8vNwux9by_nJ"
      },
      "source": [
        "minibatch_gen = minibatches(train_examples, len(train_examples))\n",
        "x_train, y_train = minibatch_gen.__next__()"
      ],
      "execution_count": null,
      "outputs": []
    },
    {
      "cell_type": "code",
      "metadata": {
        "id": "i__8jliGy_nM",
        "colab": {
          "base_uri": "https://localhost:8080/"
        },
        "outputId": "dc8bb145-4627-4df6-dd27-3c056932b405"
      },
      "source": [
        "print(x_train.shape)\n",
        "print(y_train.shape)"
      ],
      "execution_count": null,
      "outputs": [
        {
          "output_type": "stream",
          "text": [
            "(48390, 36)\n",
            "(48390, 3)\n"
          ],
          "name": "stdout"
        }
      ]
    },
    {
      "cell_type": "code",
      "metadata": {
        "id": "2LerZSYby_nP",
        "colab": {
          "base_uri": "https://localhost:8080/"
        },
        "outputId": "dddfe737-5ca5-4579-cbf1-547b2fba0761"
      },
      "source": [
        "# Sample features\n",
        "print(x_train[10:])"
      ],
      "execution_count": null,
      "outputs": [
        {
          "output_type": "stream",
          "text": [
            "[[5156  134 5054 ...   83   83   83]\n",
            " [1093  250  714 ...   83   83   83]\n",
            " [  94 2407 1435 ...   83   83   83]\n",
            " ...\n",
            " [4263  580   98 ...   83   83   83]\n",
            " [5155 5156 1257 ...   83   83   83]\n",
            " [ 243  112  262 ...   45   83   83]]\n"
          ],
          "name": "stdout"
        }
      ]
    },
    {
      "cell_type": "code",
      "metadata": {
        "colab": {
          "base_uri": "https://localhost:8080/"
        },
        "id": "C3EyCda3XR-n",
        "outputId": "7d03f957-7140-43d5-ff4f-9506bbee771b"
      },
      "source": [
        "ma = 0\n",
        "for x in x_train:\n",
        "  for i in x:\n",
        "    ma = max(ma,i)\n",
        "for d in dev_set:\n",
        "  for w in d[\"word\"]:\n",
        "    ma = max(ma,w)\n",
        "for d in test_set:\n",
        "  for w in d[\"word\"]:\n",
        "    ma = max(ma,w)\n",
        "print(ma)"
      ],
      "execution_count": null,
      "outputs": [
        {
          "output_type": "stream",
          "text": [
            "5156\n"
          ],
          "name": "stdout"
        }
      ]
    },
    {
      "cell_type": "code",
      "metadata": {
        "colab": {
          "base_uri": "https://localhost:8080/"
        },
        "id": "VMKJnLPTSViM",
        "outputId": "6c2af745-a85f-49e1-b250-dac89d2f4469"
      },
      "source": [
        "print(y_train[:10])"
      ],
      "execution_count": null,
      "outputs": [
        {
          "output_type": "stream",
          "text": [
            "[[1. 0. 0.]\n",
            " [0. 1. 0.]\n",
            " [1. 0. 0.]\n",
            " [0. 0. 1.]\n",
            " [0. 0. 1.]\n",
            " [0. 1. 0.]\n",
            " [0. 0. 1.]\n",
            " [0. 0. 1.]\n",
            " [1. 0. 0.]\n",
            " [0. 0. 1.]]\n"
          ],
          "name": "stdout"
        }
      ]
    },
    {
      "cell_type": "code",
      "metadata": {
        "colab": {
          "base_uri": "https://localhost:8080/"
        },
        "id": "5l6whbHCS3_M",
        "outputId": "4a6d7b4a-a1b9-4b93-e195-f8123b24de66"
      },
      "source": [
        "print(dev_set[0])\n",
        "print(test_set[0])"
      ],
      "execution_count": null,
      "outputs": [
        {
          "output_type": "stream",
          "text": [
            "{'word': [5156, 5154, 524, 88, 85, 212, 2077, 92, 715, 821, 843, 2207, 95, 122, 5154, 241, 85, 119, 4617, 655, 215, 181, 425, 350, 86, 1114, 222, 1958, 3213, 89, 85, 168, 93, 397, 88, 2079, 2080, 87], 'pos': [84, 43, 44, 40, 41, 42, 66, 51, 42, 42, 48, 39, 64, 58, 50, 70, 41, 43, 39, 39, 39, 58, 50, 39, 45, 56, 41, 43, 39, 52, 41, 39, 60, 39, 40, 43, 44, 46], 'head': [-1, 2, 10, 6, 6, 6, 2, 6, 9, 6, 0, 10, 14, 14, 11, 22, 20, 20, 20, 20, 22, 22, 14, 22, 14, 14, 28, 28, 25, 33, 31, 33, 31, 28, 36, 36, 33, 10], 'label': [-1, 19, 2, 35, 29, 18, 13, 20, 18, 21, 0, 17, 2, 32, 34, 8, 29, 19, 18, 18, 2, 32, 12, 17, 6, 31, 29, 19, 17, 35, 29, 7, 35, 13, 35, 19, 13, 6]}\n",
            "{'word': [5156, 176, 86, 101, 103, 118, 841, 391, 87], 'pos': [84, 41, 45, 54, 48, 47, 43, 42, 46], 'head': [-1, 7, 7, 7, 7, 7, 7, 0, 7], 'label': [-1, 9, 6, 2, 36, 25, 18, 0, 6]}\n"
          ],
          "name": "stdout"
        }
      ]
    },
    {
      "cell_type": "markdown",
      "metadata": {
        "id": "17eqeESxy_nR"
      },
      "source": [
        "## 3. Model"
      ]
    },
    {
      "cell_type": "code",
      "metadata": {
        "id": "T5mqcz1qy_nT"
      },
      "source": [
        "from tensorflow.keras.models import Sequential, Model\n",
        "from tensorflow.keras.layers import Embedding, Reshape, Activation, Input, Dense, Reshape, Dropout, Flatten\n",
        "from tensorflow.keras.optimizers import Adam"
      ],
      "execution_count": null,
      "outputs": []
    },
    {
      "cell_type": "markdown",
      "metadata": {
        "id": "5sW29Rhvy_nX"
      },
      "source": [
        "### TODO 4 (Coding):\n",
        "Build and train a tensroflow keras model to predict an action for each state of of the input. This is a simple classification task. \n",
        "- The input and output of the model must match the dimention of x_train and y_train.\n",
        "- The model must use the provided pretrained embeddings\n",
        "- The model could comprise of only a feedforward layer and a dropout\n",
        "- Training loss should be around 0.1 or below, and training categorical_accuracy above 0.94"
      ]
    },
    {
      "cell_type": "code",
      "metadata": {
        "id": "jAWlQI6iy_nY",
        "colab": {
          "base_uri": "https://localhost:8080/"
        },
        "outputId": "e5ab6c80-d0a7-4455-c860-60b76c258afc"
      },
      "source": [
        "model = Sequential()\n",
        "# Write your code here\n",
        "inputs = Input(shape=(36,), dtype='int32')\n",
        "x = (Embedding(5157 ,50,weights=[embeddings],input_length=36,trainable=True,mask_zero=True))(inputs)\n",
        "x = Flatten()(x)\n",
        "x = Dense(900, activation='relu')(x)\n",
        "x = Dropout(0.2)(x)\n",
        "x = Dense(450, activation='relu')(x)\n",
        "x = Dropout(0.2)(x)\n",
        "output = Dense(3, activation='softmax')(x)\n",
        "model = Model(inputs, output)\n",
        "model.compile(optimizer=Adam(lr=0.001),  loss='categorical_crossentropy', metrics=['categorical_accuracy'])\n",
        "model.summary()\n",
        "pass"
      ],
      "execution_count": null,
      "outputs": [
        {
          "output_type": "stream",
          "text": [
            "Model: \"model_2\"\n",
            "_________________________________________________________________\n",
            "Layer (type)                 Output Shape              Param #   \n",
            "=================================================================\n",
            "input_10 (InputLayer)        [(None, 36)]              0         \n",
            "_________________________________________________________________\n",
            "embedding_8 (Embedding)      (None, 36, 50)            257850    \n",
            "_________________________________________________________________\n",
            "flatten_1 (Flatten)          (None, 1800)              0         \n",
            "_________________________________________________________________\n",
            "dense_3 (Dense)              (None, 900)               1620900   \n",
            "_________________________________________________________________\n",
            "dropout_4 (Dropout)          (None, 900)               0         \n",
            "_________________________________________________________________\n",
            "dense_4 (Dense)              (None, 450)               405450    \n",
            "_________________________________________________________________\n",
            "dropout_5 (Dropout)          (None, 450)               0         \n",
            "_________________________________________________________________\n",
            "dense_5 (Dense)              (None, 3)                 1353      \n",
            "=================================================================\n",
            "Total params: 2,285,553\n",
            "Trainable params: 2,285,553\n",
            "Non-trainable params: 0\n",
            "_________________________________________________________________\n"
          ],
          "name": "stdout"
        }
      ]
    },
    {
      "cell_type": "code",
      "metadata": {
        "id": "iMjs0W69y_nb",
        "colab": {
          "base_uri": "https://localhost:8080/"
        },
        "outputId": "0f5a016f-7607-43fd-8ed8-a7ae6ad15a6a"
      },
      "source": [
        "# Write your code here\n",
        "model.fit(x_train,y=y_train, batch_size=64,epochs=10,verbose=1)"
      ],
      "execution_count": null,
      "outputs": [
        {
          "output_type": "stream",
          "text": [
            "Epoch 1/10\n",
            "757/757 [==============================] - 26s 34ms/step - loss: 0.4943 - categorical_accuracy: 0.8196\n",
            "Epoch 2/10\n",
            "757/757 [==============================] - 27s 36ms/step - loss: 0.1867 - categorical_accuracy: 0.9277\n",
            "Epoch 3/10\n",
            "757/757 [==============================] - 27s 36ms/step - loss: 0.1259 - categorical_accuracy: 0.9507\n",
            "Epoch 4/10\n",
            "757/757 [==============================] - 27s 35ms/step - loss: 0.0977 - categorical_accuracy: 0.9636\n",
            "Epoch 5/10\n",
            "757/757 [==============================] - 25s 33ms/step - loss: 0.0719 - categorical_accuracy: 0.9732\n",
            "Epoch 6/10\n",
            "757/757 [==============================] - 25s 33ms/step - loss: 0.0514 - categorical_accuracy: 0.9810\n",
            "Epoch 7/10\n",
            "757/757 [==============================] - 25s 33ms/step - loss: 0.0415 - categorical_accuracy: 0.9843\n",
            "Epoch 8/10\n",
            "757/757 [==============================] - 25s 33ms/step - loss: 0.0335 - categorical_accuracy: 0.9884\n",
            "Epoch 9/10\n",
            "757/757 [==============================] - 25s 34ms/step - loss: 0.0241 - categorical_accuracy: 0.9914\n",
            "Epoch 10/10\n",
            "757/757 [==============================] - 25s 33ms/step - loss: 0.0228 - categorical_accuracy: 0.9920\n"
          ],
          "name": "stdout"
        },
        {
          "output_type": "execute_result",
          "data": {
            "text/plain": [
              "<tensorflow.python.keras.callbacks.History at 0x7fe4e11f0510>"
            ]
          },
          "metadata": {
            "tags": []
          },
          "execution_count": 33
        }
      ]
    },
    {
      "cell_type": "markdown",
      "metadata": {
        "id": "332SL84Yy_nf"
      },
      "source": [
        "## 4. Evaluation"
      ]
    },
    {
      "cell_type": "markdown",
      "metadata": {
        "id": "HohiOHZUy_nf"
      },
      "source": [
        "For Dependency Parsing, we usually report attachment score of the model for evaluation. There are two possible metrics UAS and LAS."
      ]
    },
    {
      "cell_type": "markdown",
      "metadata": {
        "id": "R3hmM0Kly_ng"
      },
      "source": [
        "### TODO 5 (Written and Coding):\n",
        "Explain how attachment score is calculated and the difference between unlabeled attachment score (UAS) and labeled attachment score (LAS). Which one should we use here?"
      ]
    },
    {
      "cell_type": "markdown",
      "metadata": {
        "id": "rENVVVUhy_nh"
      },
      "source": [
        "__Answer here__:"
      ]
    },
    {
      "cell_type": "markdown",
      "metadata": {
        "id": "z5QH3CzS0ac_"
      },
      "source": [
        "In calculation of accuracy we user the formula :    **ACCURACY = number of correct dependecies from prediction / number of all dependencies**"
      ]
    },
    {
      "cell_type": "markdown",
      "metadata": {
        "id": "6VpCxn4P04J9"
      },
      "source": [
        "In UAS, it only checks about correction of dependencies line, but in LAS, it also check that the label of both dependencies are correct."
      ]
    },
    {
      "cell_type": "markdown",
      "metadata": {
        "id": "Vi__z9if2W4Y"
      },
      "source": [
        "By that reason, **In this model it can only use UAS because we only have predict dependencies.**"
      ]
    },
    {
      "cell_type": "markdown",
      "metadata": {
        "id": "zTaLHU7s2e7R"
      },
      "source": [
        "Report the score using appropriate metric on dev_set and test_set. The function for calculating scores are provided in parser.parse and the dataset can be passed in as-is."
      ]
    },
    {
      "cell_type": "markdown",
      "metadata": {
        "id": "r4JJmrsGy_nj"
      },
      "source": [
        "dev_score:"
      ]
    },
    {
      "cell_type": "code",
      "metadata": {
        "id": "SOTPTqf7y_nj"
      },
      "source": [
        "dev_UAS ,dev_dependencies_pred = parser.parse(dev_set,model,minibatch_parse)\n",
        "pass"
      ],
      "execution_count": null,
      "outputs": []
    },
    {
      "cell_type": "code",
      "metadata": {
        "colab": {
          "base_uri": "https://localhost:8080/"
        },
        "id": "HvwVWNP6lK86",
        "outputId": "056eb869-f572-4008-ace8-033c018d36dd"
      },
      "source": [
        "print(\"UAS score is :\",dev_UAS*100,\"%\")\n",
        "#print(dev_dependencies_pred[0])"
      ],
      "execution_count": null,
      "outputs": [
        {
          "output_type": "stream",
          "text": [
            "UAS score is : 77.97217362326086 %\n"
          ],
          "name": "stdout"
        }
      ]
    },
    {
      "cell_type": "markdown",
      "metadata": {
        "id": "DlCJGdLWy_nm"
      },
      "source": [
        "test_score:"
      ]
    },
    {
      "cell_type": "code",
      "metadata": {
        "id": "o2bJf_1oy_nn"
      },
      "source": [
        "test_UAS ,test_dependencies_pred = parser.parse(test_set,model,minibatch_parse)\n",
        "pass"
      ],
      "execution_count": null,
      "outputs": []
    },
    {
      "cell_type": "code",
      "metadata": {
        "colab": {
          "base_uri": "https://localhost:8080/"
        },
        "id": "WulJp4IfmZpA",
        "outputId": "aa314fcb-6c47-49b0-e71f-2d5481b75e37"
      },
      "source": [
        "print(\"UAS score is :\",test_UAS*100,\"%\")\n",
        "#print(test_dependencies_pred[0])"
      ],
      "execution_count": null,
      "outputs": [
        {
          "output_type": "stream",
          "text": [
            "UAS score is : 78.62910008410428 %\n"
          ],
          "name": "stdout"
        }
      ]
    },
    {
      "cell_type": "markdown",
      "metadata": {
        "id": "SLcAa-fLy_nq"
      },
      "source": [
        "Also, print one sample sentence (in English) in the test set and its predicted dependencies from the model.\n",
        "You can use __parser.id2tok\\[word_id\\]__ to lookup the word in English.\n",
        "\n",
        "__Draw a picture of this sentence with arrows and upload it to my couseville__"
      ]
    },
    {
      "cell_type": "code",
      "metadata": {
        "id": "eY6li-u5y_nq"
      },
      "source": [
        "import random\n",
        "rta = random.randint(0, 100) \n",
        "pass"
      ],
      "execution_count": null,
      "outputs": []
    },
    {
      "cell_type": "code",
      "metadata": {
        "colab": {
          "base_uri": "https://localhost:8080/"
        },
        "id": "eu_k8dwIsvLi",
        "outputId": "c5de12b6-6d29-400f-aed7-9fd9ab3658fb"
      },
      "source": [
        "rta"
      ],
      "execution_count": null,
      "outputs": [
        {
          "output_type": "execute_result",
          "data": {
            "text/plain": [
              "76"
            ]
          },
          "metadata": {
            "tags": []
          },
          "execution_count": 73
        }
      ]
    },
    {
      "cell_type": "code",
      "metadata": {
        "colab": {
          "base_uri": "https://localhost:8080/"
        },
        "id": "ixbBUespqtjC",
        "outputId": "4c1c19ae-2501-4241-d750-62d722e96928"
      },
      "source": [
        "print(\"  \".join([ parser.id2tok[word_id]+\":\"+str(i) for i,word_id in enumerate(test_set[rta][\"word\"])]))"
      ],
      "execution_count": null,
      "outputs": [
        {
          "output_type": "stream",
          "text": [
            "<ROOT>:0  <UNK>:1  futures:2  contracts:3  <UNK>:4  at:5  much:6  lower:7  prices:8  than:9  <UNK>:10  of:11  the:12  stock:13  market:14  itself:15  .:16\n"
          ],
          "name": "stdout"
        }
      ]
    },
    {
      "cell_type": "code",
      "metadata": {
        "colab": {
          "base_uri": "https://localhost:8080/"
        },
        "id": "ZfomMVtZrxwj",
        "outputId": "aef85bed-7855-4493-f9c0-39eb0cfa4036"
      },
      "source": [
        "print(test_dependencies_pred[rta])"
      ],
      "execution_count": null,
      "outputs": [
        {
          "output_type": "stream",
          "text": [
            "[(3, 2), (3, 1), (4, 3), (7, 6), (8, 7), (8, 5), (10, 9), (14, 13), (14, 12), (14, 11), (14, 15), (10, 14), (8, 10), (4, 8), (4, 16), (0, 4)]\n"
          ],
          "name": "stdout"
        }
      ]
    },
    {
      "cell_type": "code",
      "metadata": {
        "colab": {
          "base_uri": "https://localhost:8080/"
        },
        "id": "C6_eS_GWt14H",
        "outputId": "0047e800-9fd0-47e5-8e98-ab85959e4c6e"
      },
      "source": [
        "depen = {}\n",
        "for a in test_dependencies_pred[rta]:\n",
        "  if a[0] not in depen:\n",
        "    depen[a[0]]=[a[1]]\n",
        "  else:\n",
        "    depen[a[0]].append(a[1])\n",
        "print(depen)"
      ],
      "execution_count": null,
      "outputs": [
        {
          "output_type": "stream",
          "text": [
            "{3: [2, 1], 4: [3, 8, 16], 7: [6], 8: [7, 5, 10], 10: [9, 14], 14: [13, 12, 11, 15], 0: [4]}\n"
          ],
          "name": "stdout"
        }
      ]
    }
  ]
}