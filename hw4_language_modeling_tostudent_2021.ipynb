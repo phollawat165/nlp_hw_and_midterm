{
  "nbformat": 4,
  "nbformat_minor": 0,
  "metadata": {
    "colab": {
      "name": "hw4_language_modeling_tostudent_2021.ipynb",
      "provenance": [],
      "collapsed_sections": [],
      "toc_visible": true
    },
    "kernelspec": {
      "display_name": "Python 3",
      "language": "python",
      "name": "python3"
    },
    "language_info": {
      "codemirror_mode": {
        "name": "ipython",
        "version": 3
      },
      "file_extension": ".py",
      "mimetype": "text/x-python",
      "name": "python",
      "nbconvert_exporter": "python",
      "pygments_lexer": "ipython3",
      "version": "3.6.4"
    }
  },
  "cells": [
    {
      "cell_type": "markdown",
      "metadata": {
        "collapsed": true,
        "id": "15QfB7RAuXAc"
      },
      "source": [
        "# Language Modeling using Ngram"
      ]
    },
    {
      "cell_type": "markdown",
      "metadata": {
        "id": "gucid6KNuXAe"
      },
      "source": [
        "In this Exercise, you are going to use NLTK which is a natural language processing library for python to create a bigram language model and its variation. You will build one model for each of the following type and calculate their perplexity:\n",
        "- Unigram Model\n",
        "- Bigram Model\n",
        "- Bigram Model with Laplace smoothing\n",
        "- Bigram Model with Interpolation\n",
        "- Bigram Model with Kneser-ney Interpolation\n",
        "- Neural LM (optional)\n",
        "\n"
      ]
    },
    {
      "cell_type": "code",
      "metadata": {
        "colab": {
          "base_uri": "https://localhost:8080/"
        },
        "id": "MRRrn78ZjL54",
        "outputId": "67b8325b-2270-4085-b999-3daa0b06347e"
      },
      "source": [
        "#download corpus\n",
        "!wget --no-check-certificate https://github.com/ekapolc/nlp_2019/raw/master/HW4/BEST2010.zip\n",
        "!unzip BEST2010.zip"
      ],
      "execution_count": null,
      "outputs": [
        {
          "output_type": "stream",
          "text": [
            "--2021-02-14 14:12:10--  https://github.com/ekapolc/nlp_2019/raw/master/HW4/BEST2010.zip\n",
            "Resolving github.com (github.com)... 140.82.112.3\n",
            "Connecting to github.com (github.com)|140.82.112.3|:443... connected.\n",
            "HTTP request sent, awaiting response... 302 Found\n",
            "Location: https://raw.githubusercontent.com/ekapolc/nlp_2019/master/HW4/BEST2010.zip [following]\n",
            "--2021-02-14 14:12:11--  https://raw.githubusercontent.com/ekapolc/nlp_2019/master/HW4/BEST2010.zip\n",
            "Resolving raw.githubusercontent.com (raw.githubusercontent.com)... 185.199.111.133, 185.199.110.133, 185.199.108.133, ...\n",
            "Connecting to raw.githubusercontent.com (raw.githubusercontent.com)|185.199.111.133|:443... connected.\n",
            "HTTP request sent, awaiting response... 200 OK\n",
            "Length: 7423530 (7.1M) [application/zip]\n",
            "Saving to: ‘BEST2010.zip’\n",
            "\n",
            "BEST2010.zip        100%[===================>]   7.08M  27.5MB/s    in 0.3s    \n",
            "\n",
            "2021-02-14 14:12:11 (27.5 MB/s) - ‘BEST2010.zip’ saved [7423530/7423530]\n",
            "\n",
            "Archive:  BEST2010.zip\n",
            "   creating: BEST2010/\n",
            "  inflating: BEST2010/article.txt    \n",
            "  inflating: BEST2010/encyclopedia.txt  \n",
            "  inflating: BEST2010/news.txt       \n"
          ],
          "name": "stdout"
        }
      ]
    },
    {
      "cell_type": "code",
      "metadata": {
        "id": "GjJDeG03uXAf"
      },
      "source": [
        "#First we import necessary library such as math, nltk, bigram, and collections.\n",
        "import math\n",
        "import nltk\n",
        "import io\n",
        "import random\n",
        "from random import shuffle\n",
        "from nltk import bigrams, trigrams\n",
        "from collections import Counter, defaultdict\n",
        "random.seed(999)"
      ],
      "execution_count": null,
      "outputs": []
    },
    {
      "cell_type": "markdown",
      "metadata": {
        "id": "HugXBHNEuXAh"
      },
      "source": [
        "BEST2010 is a free Thai NLP dataset by NECTEC usually use as a standard benchmark for various NLP tasks includeing language modeling. BEST2010 is separated into 4 domain article, encyclopedia, news and novel. The data is already  tokenized using '|' as a separator.\n",
        "\n",
        "For example,\n",
        "\n",
        "ตาม|ที่|นางประนอม ทองจันทร์| |กับ| |ด.ช.กิตติพงษ์ แหลมผักแว่น| |และ| |ด.ญ.กาญจนา กรองแก้ว| |ป่วย|สงสัย|ติด|เชื้อ|ไข้|ขณะ|นี้|ยัง|ไม่|ดี|ขึ้น|"
      ]
    },
    {
      "cell_type": "code",
      "metadata": {
        "id": "iu-AJSZZuXAi"
      },
      "source": [
        "# We choose news domain as our dataset\n",
        "best2010=[]\n",
        "fp= io.open('BEST2010/news.txt','r',encoding='utf-8')\n",
        "for i,line in enumerate(fp):\n",
        "    best2010.append(line.strip()[:-1])\n",
        "fp.close()\n",
        "all_vocabulary =set()\n",
        "total_word_count =0\n",
        "for line in best2010:\n",
        "    for word in line.split('|'):        \n",
        "        all_vocabulary.add(word)\n",
        "        total_word_count+=1"
      ],
      "execution_count": null,
      "outputs": []
    },
    {
      "cell_type": "code",
      "metadata": {
        "colab": {
          "base_uri": "https://localhost:8080/"
        },
        "id": "3WfpGgbruXAj",
        "outputId": "9a6a4f98-0cdf-4209-9cae-8fafbd6fa8bd"
      },
      "source": [
        "#For simplicity, we assumes that each line is a sentence.\n",
        "print ('Total sentences in BEST2010 news dataset :\\t'+ str(len(best2010)))\n",
        "print ('Total word counts in BEST2010 news dataset :\\t'+ str(total_word_count))\n",
        "print ('Total vocabulary in BEST2010 news dataset :\\t'+ str(len(all_vocabulary)))"
      ],
      "execution_count": null,
      "outputs": [
        {
          "output_type": "stream",
          "text": [
            "Total sentences in BEST2010 news dataset :\t30969\n",
            "Total word counts in BEST2010 news dataset :\t1660190\n",
            "Total vocabulary in BEST2010 news dataset :\t35488\n"
          ],
          "name": "stdout"
        }
      ]
    },
    {
      "cell_type": "markdown",
      "metadata": {
        "id": "_JD9iXF1uXAm"
      },
      "source": [
        "We separate out input into 2 sets, train and test data with 70:30 ratio"
      ]
    },
    {
      "cell_type": "code",
      "metadata": {
        "colab": {
          "base_uri": "https://localhost:8080/"
        },
        "id": "_WGcQq_juXAm",
        "outputId": "fc6d6599-6f8d-444e-ecff-c215b027b85b"
      },
      "source": [
        "sentences = best2010\n",
        "# The data is separated to train and test set with 70:30 ratio.\n",
        "train = sentences[:int(len(sentences)*0.7)]\n",
        "test = sentences[int(len(sentences)*0.7):]\n",
        "\n",
        "#Training data\n",
        "train_vocabulary =set()\n",
        "train_word_count =0\n",
        "for line in train:\n",
        "    for word in line.split('|'):        \n",
        "        train_vocabulary.add(word)\n",
        "        train_word_count+=1\n",
        "print ('Total sentences in BEST2010 news training dataset :\\t'+ str(len(train)))\n",
        "print ('Total word counts in BEST2010 news training dataset :\\t'+ str(train_word_count))\n",
        "print ('Total vocabuary in BEST2010 news training dataset :\\t'+ str(len(train_vocabulary)))\n",
        "# We will use 1/vocab_size as a default value for unknown word\n",
        "unk_value = math.pow(len(train_vocabulary),-1)"
      ],
      "execution_count": null,
      "outputs": [
        {
          "output_type": "stream",
          "text": [
            "Total sentences in BEST2010 news training dataset :\t21678\n",
            "Total word counts in BEST2010 news training dataset :\t1042797\n",
            "Total vocabuary in BEST2010 news training dataset :\t26240\n"
          ],
          "name": "stdout"
        }
      ]
    },
    {
      "cell_type": "markdown",
      "metadata": {
        "id": "pHtCMFMluXAo"
      },
      "source": [
        "# Unigram"
      ]
    },
    {
      "cell_type": "markdown",
      "metadata": {
        "id": "2V1WQTGzuXAp"
      },
      "source": [
        "In this section, we will demonstrate how to build a unigram language model <br>\n",
        "**Important note:** <br>\n",
        "**\\<s\\>** = sentence start symbol <br>\n",
        "**\\</s\\>** = sentence end symbol "
      ]
    },
    {
      "cell_type": "code",
      "metadata": {
        "id": "vQjO4wX_uXAp"
      },
      "source": [
        "def getUnigramModel(data):\n",
        "    model = defaultdict(lambda: 0)\n",
        "    word_count =0\n",
        "    for sentence in data:\n",
        "        sentence +=  u'|</s>' #for unigram model we can always ignore <s>, since p(w0=<s>)=1\n",
        "        for w1 in sentence.split('|'):\n",
        "            model[w1] +=1.0\n",
        "            word_count+=1\n",
        "    for w1 in model:\n",
        "        model[w1] = model[w1]/(word_count)\n",
        "    return model"
      ],
      "execution_count": null,
      "outputs": []
    },
    {
      "cell_type": "code",
      "metadata": {
        "id": "dxoVqkfuuXAr"
      },
      "source": [
        "model = getUnigramModel(train)"
      ],
      "execution_count": null,
      "outputs": []
    },
    {
      "cell_type": "code",
      "metadata": {
        "id": "6coGxSY7uXAt"
      },
      "source": [
        "def getLnValue(x):\n",
        "    if x >0.0:\n",
        "        return math.log(x)\n",
        "    else:\n",
        "        return math.log(unk_value)"
      ],
      "execution_count": null,
      "outputs": []
    },
    {
      "cell_type": "code",
      "metadata": {
        "colab": {
          "base_uri": "https://localhost:8080/"
        },
        "id": "cFy8yhZjuXAv",
        "outputId": "3f3a0a72-2fdf-4825-910b-e7c3269d6864"
      },
      "source": [
        "#problability of 'นายก'\n",
        "print(getLnValue(model[u'นายก']))\n",
        "#for example, problability of 'นายกรัฐมนตรี' which is an unknown word is equal to\n",
        "print(getLnValue(model[u'นายกรัฐมนตรี']))\n",
        "#problability of 'นายก' 'ได้' 'ให้' 'สัมภาษณ์' 'กับ' 'สื่อ'\n",
        "prob = getLnValue(model[u'นายก'])+getLnValue(model[u'ได้'])+ getLnValue(model[u'ให้'])+getLnValue(model[u'สัมภาษณ์'])+getLnValue(model[u'กับ'])+getLnValue(model[u'สื่อ'])+getLnValue(model['</s>'])\n",
        "print ('Problability of a sentence', math.exp(prob))"
      ],
      "execution_count": null,
      "outputs": [
        {
          "output_type": "stream",
          "text": [
            "-6.551526663995246\n",
            "-10.175040243058024\n",
            "Problability of a sentence 5.617210748667918e-18\n"
          ],
          "name": "stdout"
        }
      ]
    },
    {
      "cell_type": "markdown",
      "metadata": {
        "id": "D8EfqnDsuXAw"
      },
      "source": [
        "# Perplexity\n",
        "\n",
        "In order to compare language model we need to calculate perplexity. In this task you should write a perplexity calculation code for the unigram model. The result perplexity should be around 556.39 and\n",
        "476.07 on train and test data."
      ]
    },
    {
      "cell_type": "markdown",
      "metadata": {
        "id": "qDbyLBEggie0"
      },
      "source": [
        "# TODO #0\n",
        "**Fill your name and ID here** <br>\n",
        "**Name**: Phollawat Janesiripanich\n",
        "<br>\n",
        "**ID**: 6130348121"
      ]
    },
    {
      "cell_type": "markdown",
      "metadata": {
        "id": "hZHQ-6tVuXAx"
      },
      "source": [
        "## TODO #1 **Calculate perplexity**"
      ]
    },
    {
      "cell_type": "code",
      "metadata": {
        "id": "kh0DwzoouXAx"
      },
      "source": [
        "import numpy as np\n",
        "def calculate_sentence_ln_prob(sentence, model):\n",
        "    sentence_ln_prob=0\n",
        "    sentence_list = sentence.split(\"|\")\n",
        "    for word in sentence_list:\n",
        "      sentence_ln_prob=sentence_ln_prob+getLnValue(model[word])\n",
        "    return sentence_ln_prob\n",
        "\n",
        "def perplexity(test,model):\n",
        "    N_word = 0\n",
        "    sum_ln = 0\n",
        "    for sentence in test:\n",
        "      sentence_with_stop = sentence+\"|</s>\"\n",
        "      sum_ln = sum_ln + calculate_sentence_ln_prob(sentence_with_stop,model)\n",
        "      N_word = N_word + len(sentence_with_stop.split(\"|\"))\n",
        "    return np.exp(-sum_ln/N_word)\n",
        "      "
      ],
      "execution_count": null,
      "outputs": []
    },
    {
      "cell_type": "code",
      "metadata": {
        "colab": {
          "base_uri": "https://localhost:8080/"
        },
        "id": "KTkIoVWsuXAz",
        "outputId": "b86d6e91-71f2-4887-e655-37aaa3713abb"
      },
      "source": [
        "print(perplexity(train,model))\n",
        "print(perplexity(test,model))\n",
        "a= 556.3925994212195\n",
        "b= 476.0687892303532\n",
        "#if(perplexity(train,model)==a):\n",
        "#  print(\"yes\")\n",
        "#if(perplexity(test,model)==b):\n",
        "#  print(\"yes\")"
      ],
      "execution_count": null,
      "outputs": [
        {
          "output_type": "stream",
          "text": [
            "556.3925994212195\n",
            "476.0687892303532\n"
          ],
          "name": "stdout"
        }
      ]
    },
    {
      "cell_type": "markdown",
      "metadata": {
        "id": "gad1QuPAHUoK"
      },
      "source": [
        "## TODO #2 **Please explain why this model give us such a high perplexity.**"
      ]
    },
    {
      "cell_type": "markdown",
      "metadata": {
        "id": "tMbhIO29HT6y"
      },
      "source": [
        "**Your answer**:  \n",
        "Because in this model we only use unigram to calculate each word probabiltys, that mean every word could possibly after each other which will make the number of time to guess the right sentence become so high and by the meaning of perplexity which is the number of time to guess each word to the correct sentecnce. So it mean that a perplexity is high."
      ]
    },
    {
      "cell_type": "markdown",
      "metadata": {
        "id": "lK0gaMf0uXA2"
      },
      "source": [
        "# Bigram"
      ]
    },
    {
      "cell_type": "markdown",
      "metadata": {
        "id": "dmTkAY_QuXA3"
      },
      "source": [
        "Next, you will create a better language model than a unigram (which is not much to compare with). But first, it is very tedious to count every pair of words that occur in our corpus by ourselves. In this case, nltk provide us a simple library which will do it for us."
      ]
    },
    {
      "cell_type": "code",
      "metadata": {
        "colab": {
          "base_uri": "https://localhost:8080/"
        },
        "id": "Lv6r2LJ1uXA4",
        "outputId": "5aa6303f-6928-4397-d822-56b062f3637a"
      },
      "source": [
        "#example of nltk usage for bigram\n",
        "sentence = 'I always search google for an answer .'\n",
        "\n",
        "print('This is how nltk generate bigram.')\n",
        "for w1,w2 in bigrams(sentence.split(), pad_right=True, pad_left=True):\n",
        "    print (w1,w2)\n",
        "print('None is used as a start and end of sentence symbol.')"
      ],
      "execution_count": null,
      "outputs": [
        {
          "output_type": "stream",
          "text": [
            "This is how nltk generate bigram.\n",
            "None I\n",
            "I always\n",
            "always search\n",
            "search google\n",
            "google for\n",
            "for an\n",
            "an answer\n",
            "answer .\n",
            ". None\n",
            "None is used as a start and end of sentence symbol.\n"
          ],
          "name": "stdout"
        }
      ]
    },
    {
      "cell_type": "markdown",
      "metadata": {
        "id": "5R2T-6i9uXA6"
      },
      "source": [
        "Now, you should be able to implement a bigram model by yourself. Also, you must create a new perplexity calculation for bigram. The result perplexity should be around 58.54 and 145.88 on train and test data."
      ]
    },
    {
      "cell_type": "markdown",
      "metadata": {
        "id": "9aYkjzTzuXA7"
      },
      "source": [
        "## TODO #3 **Create a Bigram Model**"
      ]
    },
    {
      "cell_type": "code",
      "metadata": {
        "id": "ZhnAa1XuuXA7"
      },
      "source": [
        "def getBigramModel(data):\n",
        "    ###FILL YOUR CODE HERE###\n",
        "    unigram_model = defaultdict(lambda: 0)\n",
        "    bigram_model = defaultdict(lambda: defaultdict(lambda: 0))\n",
        "\n",
        "    for sentence in data:\n",
        "      for now,next in bigrams(sentence.split('|'), pad_right=True, pad_left=True):\n",
        "          unigram_model[now]=unigram_model[now]+1.0\n",
        "          bigram_model[now][next]=bigram_model[now][next]+1.0\n",
        "\n",
        "    for now in unigram_model:\n",
        "      for next in bigram_model[now]:\n",
        "        bigram_model[now][next]=bigram_model[now][next]/unigram_model[now]\n",
        "\n",
        "    return bigram_model\n",
        "\n",
        "model = getBigramModel(train)\n",
        "\n"
      ],
      "execution_count": null,
      "outputs": []
    },
    {
      "cell_type": "markdown",
      "metadata": {
        "id": "i3_Cgu6guXA-"
      },
      "source": [
        "## TODO #4 **Calculate Perplexity for Bigram Model**\n",
        "\n"
      ]
    },
    {
      "cell_type": "code",
      "metadata": {
        "id": "4i3NoQGfuXA-"
      },
      "source": [
        "def calculate_sentence_ln_prob(sentence, model):\n",
        "    sentence_ln_prob=0\n",
        "    for now,next in bigrams(sentence.split('|'), pad_right=True, pad_left=True):\n",
        "      sentence_ln_prob+=getLnValue(model[now][next])\n",
        "    return sentence_ln_prob\n",
        "\n",
        "def perplexity(test,model):\n",
        "    N_word = 0\n",
        "    sum_ln = 0\n",
        "    for sentence in test:\n",
        "      sum_ln = sum_ln + calculate_sentence_ln_prob(sentence,model)\n",
        "      N_word = N_word + len(sentence.split(\"|\"))+1\n",
        "    return np.exp(-sum_ln/N_word)\n",
        "   "
      ],
      "execution_count": null,
      "outputs": []
    },
    {
      "cell_type": "code",
      "metadata": {
        "colab": {
          "base_uri": "https://localhost:8080/"
        },
        "id": "OC1L5YWfuXBA",
        "outputId": "83020525-fc19-46a8-9757-52e0f657d7eb"
      },
      "source": [
        "print (perplexity(train,model) )\n",
        "print (perplexity(test, model))\n",
        "\n",
        "a=58.78942889767147\n",
        "b=146.26539331038614\n",
        "#if(perplexity(train,model)==a):\n",
        "#  print(\"yes\")\n",
        "#if(perplexity(test,model)==b):\n",
        "#  print(\"yes\")"
      ],
      "execution_count": null,
      "outputs": [
        {
          "output_type": "stream",
          "text": [
            "58.78942889767147\n",
            "146.26539331038614\n"
          ],
          "name": "stdout"
        }
      ]
    },
    {
      "cell_type": "markdown",
      "metadata": {
        "id": "9BAF9DQbuXBC"
      },
      "source": [
        "# Smoothing"
      ]
    },
    {
      "cell_type": "markdown",
      "metadata": {
        "id": "jlm75BWLuXBC"
      },
      "source": [
        "Usually any ngram models have a sparsity problem, which means it does not have every possible ngram of words in the dataset. Smoothing techniques can alleviate this problem. In this section, you will implement two basic smoothing methods laplace smoothing and interpolation for bigram."
      ]
    },
    {
      "cell_type": "markdown",
      "metadata": {
        "id": "jwa7YQiouXBD"
      },
      "source": [
        "## TODO #5 **Bigram with Laplace smoothing (Add-One Smoothing)**"
      ]
    },
    {
      "cell_type": "code",
      "metadata": {
        "colab": {
          "base_uri": "https://localhost:8080/"
        },
        "id": "hnDlweIQuXBD",
        "outputId": "ad68799d-d50d-43f2-8386-25e668a9bbaf"
      },
      "source": [
        "#Laplace Smoothing\n",
        "def getBigramWithLaplaceSmoothing(data):\n",
        "    #Fill code here\n",
        "    unigram_model = defaultdict(lambda: 0)\n",
        "    bigram_model = defaultdict(lambda: defaultdict(lambda: 0))\n",
        "\n",
        "    for sentence in data:\n",
        "      for now,next in bigrams(sentence.split('|'), pad_right=True, pad_left=True):\n",
        "          unigram_model[now]=unigram_model[now]+1.0\n",
        "          bigram_model[now][next]=bigram_model[now][next]+1.0\n",
        "\n",
        "    for now in unigram_model:\n",
        "      for next in bigram_model[now]:\n",
        "        bigram_model[now][next]=(bigram_model[now][next]+1)/(unigram_model[now]+len(unigram_model))\n",
        "\n",
        "    return bigram_model\n",
        "\n",
        "model = getBigramWithLaplaceSmoothing(train)\n",
        "print (perplexity(train,model) )\n",
        "print (perplexity(test, model))\n",
        "\n",
        "a= 974.8134581679766\n",
        "b= 1098.1622194979489\n",
        "#if(perplexity(train,model)==a):\n",
        "#  print(\"yes\")\n",
        "#if(perplexity(test,model)==b):\n",
        "#  print(\"yes\")"
      ],
      "execution_count": null,
      "outputs": [
        {
          "output_type": "stream",
          "text": [
            "974.8134581679766\n",
            "1098.1622194979489\n"
          ],
          "name": "stdout"
        }
      ]
    },
    {
      "cell_type": "markdown",
      "metadata": {
        "id": "5JDswBSIuXBG"
      },
      "source": [
        "## TODO #6 **Bigram with Interpolation**\n",
        "lambda value is 0.7 for bigram, 0.25 for unigram, and 0.05 for unknown word"
      ]
    },
    {
      "cell_type": "code",
      "metadata": {
        "colab": {
          "base_uri": "https://localhost:8080/"
        },
        "id": "pskrwklHuXBI",
        "outputId": "0d113ef3-3a25-4168-ba00-8c5151584d22"
      },
      "source": [
        "#interpolation\n",
        "def getBigramWithInterpolation(data):\n",
        "    #Fill code here\n",
        "    unigram_model = defaultdict(lambda: 0)\n",
        "    bigram_model = defaultdict(lambda: defaultdict(lambda: 0))\n",
        "    total_word=0\n",
        "\n",
        "    for sentence in data:\n",
        "      for now,next in bigrams(sentence.split('|'), pad_right=True, pad_left=True):\n",
        "          unigram_model[now]=unigram_model[now]+1.0\n",
        "          bigram_model[now][next]=bigram_model[now][next]+1.0\n",
        "    for vocab in unigram_model:\n",
        "      total_word=total_word+unigram_model[vocab]\n",
        "    total_word=total_word-unigram_model[None]\n",
        "    for now in unigram_model:\n",
        "      for next in bigram_model[now]:\n",
        "        bigram_model[now][next]=(0.7*bigram_model[now][next]/unigram_model[now])+(0.25*unigram_model[next]/total_word)+(0.05/len(unigram_model))\n",
        "\n",
        "    return bigram_model\n",
        "    \n",
        "model = getBigramWithInterpolation(train)\n",
        "print (perplexity(train,model))        \n",
        "print (perplexity(test,model))\n",
        "a= 73.38409869825665\n",
        "b= 172.67485908813356\n",
        "#if(perplexity(train,model)==a):\n",
        "#  print(\"yes\")\n",
        "#if(perplexity(test,model)==b):\n",
        "#  print(\"yes\")"
      ],
      "execution_count": null,
      "outputs": [
        {
          "output_type": "stream",
          "text": [
            "73.38410880445593\n",
            "172.67487186736156\n"
          ],
          "name": "stdout"
        }
      ]
    },
    {
      "cell_type": "markdown",
      "metadata": {
        "id": "90FupFyQuXBL"
      },
      "source": [
        "the result perplexity on training and testing should be \n",
        "\n",
        "    974.81, 1098.16 for Laplace smoothing\n",
        "    73.38, 172.67 for Interpolation"
      ]
    },
    {
      "cell_type": "markdown",
      "metadata": {
        "id": "pUorP-EWuXBM"
      },
      "source": [
        "# Language modeling on multiple domains\n",
        "\n",
        "Sometimes, we do not have enough data to create a language model for a new domain. In that case, we can improvised by combining several models to improve result on the new domain.\n",
        "\n",
        "In this exercise you will try to merge two language models from news and article domains to create a language model for the encyclopedia domain."
      ]
    },
    {
      "cell_type": "code",
      "metadata": {
        "id": "Jel9Hx69uXBN"
      },
      "source": [
        "# create article data\n",
        "encyclo_data=[]\n",
        "fp= io.open('BEST2010/encyclopedia.txt','r',encoding='utf-8')\n",
        "for i,line in enumerate(fp):\n",
        "    encyclo_data.append(line.strip()[:-1])\n",
        "fp.close()"
      ],
      "execution_count": null,
      "outputs": []
    },
    {
      "cell_type": "markdown",
      "metadata": {
        "id": "9skdgo8muXBO"
      },
      "source": [
        "First, you should try to calculate perplexity of your bigram with interpolation using \"news data\" (train) on \"encyclopedia data\" (test). The result perplexity should be around 727.35.\n",
        "\n",
        "For your information, a bigram model with interpolation using \"ariticle data\" (train) to test on \"encyclopedia data\" (test) has a perplexity of 505.79."
      ]
    },
    {
      "cell_type": "code",
      "metadata": {
        "colab": {
          "base_uri": "https://localhost:8080/"
        },
        "id": "x0l91qLEuXBP",
        "outputId": "5fb897f1-8990-44cf-e464-2fb4789035d0"
      },
      "source": [
        "#print perplexity of bigram with interpolation on article data        \n",
        "print (perplexity(encyclo_data,model))\n"
      ],
      "execution_count": null,
      "outputs": [
        {
          "output_type": "stream",
          "text": [
            "727.3503259715216\n"
          ],
          "name": "stdout"
        }
      ]
    },
    {
      "cell_type": "markdown",
      "metadata": {
        "id": "hwV9j9U-uXBR"
      },
      "source": [
        "## TODO #7 \n",
        "Write a model that produce 450.0 or less perplexity on encyclopedia data without using data from the encyclopedia as training data. (Hint : Try to combine a model with news data and a model with article data together.)"
      ]
    },
    {
      "cell_type": "code",
      "metadata": {
        "colab": {
          "base_uri": "https://localhost:8080/"
        },
        "id": "wBjmLhUcuXBS",
        "outputId": "4a666d87-89b4-4d99-fd7d-ae99f6718938"
      },
      "source": [
        "# Fill code here\n",
        "article_data=[]\n",
        "fp= io.open('BEST2010/article.txt','r',encoding='utf-8')\n",
        "for i,line in enumerate(fp):\n",
        "    article_data.append(line.strip()[:-1])\n",
        "fp.close()\n",
        "\n",
        "train = article_data+sentences\n",
        "combined_model = getBigramWithInterpolation(train)\n",
        "print('Perplexity of combine Bigram model with interpolation smoothing on encyclopedia test data',perplexity(encyclo_data, combined_model))"
      ],
      "execution_count": null,
      "outputs": [
        {
          "output_type": "stream",
          "text": [
            "Perplexity of combine Bigram model with interpolation smoothing on encyclopedia test data 427.50913889506825\n"
          ],
          "name": "stdout"
        }
      ]
    },
    {
      "cell_type": "markdown",
      "metadata": {
        "id": "XNPEhD7WuXBV"
      },
      "source": [
        "## TODO #8 \n",
        "## Kneser-ney on \"News\"\n",
        "\n",
        "<!-- Reimplement equation 4.33 in SLP textbook (https://lagunita.stanford.edu/c4x/Engineering/CS-224N/asset/slp4.pdf) -->\n",
        "\n",
        "Implement Bigram Knerser-ney LM. The result perplexity should be around 55.06 and 140.76 on train and test data. \n"
      ]
    },
    {
      "cell_type": "code",
      "metadata": {
        "colab": {
          "base_uri": "https://localhost:8080/"
        },
        "id": "2CzvIQ9ho7MR",
        "outputId": "29a19ae0-1539-4c9f-90ed-5273253f2fb5"
      },
      "source": [
        "# Fill codehere\n",
        "train = sentences[:int(len(sentences)*0.7)]\n",
        "test = sentences[int(len(sentences)*0.7):]\n",
        "def getBigramWithKneserNey(data):\n",
        "    #Fill code here\n",
        "    unigram_model = defaultdict(lambda: 0)\n",
        "    bigram_model = defaultdict(lambda: defaultdict(lambda: 0))\n",
        "    KneserNey_model = defaultdict(lambda: defaultdict(lambda: 0))\n",
        "    possible_past = defaultdict(lambda: 0)\n",
        "    total_word=0\n",
        "    possible_word=0\n",
        "    \n",
        "    for sentence in data:\n",
        "      for now,next in bigrams(sentence.split('|'), pad_right=True, pad_left=True):\n",
        "          unigram_model[now]=unigram_model[now]+1.0\n",
        "          bigram_model[now][next]=bigram_model[now][next]+1.0\n",
        "\n",
        "    for vocab in unigram_model:\n",
        "      total_word=total_word+unigram_model[vocab]\n",
        "    total_word=total_word-unigram_model[None]\n",
        "\n",
        "    for vocab in bigram_model:\n",
        "      possible_word=possible_word+len(bigram_model[vocab])\n",
        "\n",
        "    for now in bigram_model:\n",
        "      for next in bigram_model[now]:\n",
        "        possible_past[next]= possible_past[next]+1\n",
        "\n",
        "    for now in unigram_model:\n",
        "      for next in bigram_model[now]:\n",
        "        KneserNey_model[now][next]=(max(bigram_model[now][next]-0.75,0)/unigram_model[now])+(0.75*len(bigram_model[now])/unigram_model[now])*(possible_past[next]/ possible_word)\n",
        "\n",
        "    return KneserNey_model\n",
        "\n",
        "model = getBigramWithKneserNey(train)\n",
        "\n",
        "print (perplexity(train,model))        \n",
        "print (perplexity(test,model))\n",
        "# 71.14054002208687\n",
        "# 174.02464248000433\n"
      ],
      "execution_count": null,
      "outputs": [
        {
          "output_type": "stream",
          "text": [
            "71.14054002208687\n",
            "155.09274968738495\n"
          ],
          "name": "stdout"
        }
      ]
    },
    {
      "cell_type": "markdown",
      "metadata": {
        "id": "iAtK3fic_DlB"
      },
      "source": [
        "## TODO #9\n",
        "## Neural LM (optional)\n",
        "do it on news corpus that we splitted into train and test sets at the beginning of this exercise. "
      ]
    },
    {
      "cell_type": "code",
      "metadata": {
        "id": "4bxt1CWO_BbF",
        "colab": {
          "base_uri": "https://localhost:8080/"
        },
        "outputId": "a70fe613-3979-436c-d968-7faf988cfed3"
      },
      "source": [
        "#there are many ways to do this. e.g.:\n",
        "#https://machinelearningmastery.com/develop-word-based-neural-language-models-python-keras/\n",
        "import os\n",
        "import numpy as np\n",
        "import pandas as pd\n",
        "import matplotlib.pyplot as plt\n",
        "from google_drive_downloader import GoogleDriveDownloader as gdd\n",
        "import tensorflow as tf\n",
        "%matplotlib inline\n",
        "gdd.download_file_from_google_drive(file_id='1iodAqVNWEkiJgH8cWkccsLi_tqoFcMrV',\n",
        "                                    dest_path='./corpora.tar.gz')\n",
        "!tar xvzf corpora.tar.gz\n"
      ],
      "execution_count": null,
      "outputs": [
        {
          "output_type": "stream",
          "text": [
            "Downloading 1iodAqVNWEkiJgH8cWkccsLi_tqoFcMrV into ./corpora.tar.gz... Done.\n",
            "corpora/\n",
            "corpora/mnist_data/\n",
            "corpora/mnist_data/t10k-images-idx3-ubyte.gz\n",
            "corpora/mnist_data/train-images-idx3-ubyte.gz\n",
            "corpora/mnist_data/.ipynb_checkpoints/\n",
            "corpora/mnist_data/vis_utils.py\n",
            "corpora/mnist_data/__init__.py\n",
            "corpora/mnist_data/load_mnist.py\n",
            "corpora/mnist_data/train-labels-idx1-ubyte.gz\n",
            "corpora/mnist_data/t10k-labels-idx1-ubyte.gz\n",
            "corpora/BEST/\n",
            "corpora/BEST/test/\n",
            "corpora/BEST/test/df_best_article_test.csv\n",
            "corpora/BEST/test/df_best_encyclopedia_test.csv\n",
            "corpora/BEST/test/df_best_novel_test.csv\n",
            "corpora/BEST/test/df_best_news_test.csv\n",
            "corpora/BEST/train/\n",
            "corpora/BEST/train/df_best_encyclopedia_train.csv\n",
            "corpora/BEST/train/df_best_article_train.csv\n",
            "corpora/BEST/train/df_best_news_train.csv\n",
            "corpora/BEST/train/df_best_novel_train.csv\n",
            "corpora/BEST/val/\n",
            "corpora/BEST/val/df_best_encyclopedia_val.csv\n",
            "corpora/BEST/val/df_best_news_val.csv\n",
            "corpora/BEST/val/df_best_article_val.csv\n",
            "corpora/BEST/val/df_best_novel_val.csv\n",
            "corpora/.ipynb_checkpoints/\n",
            "corpora/.ipynb_checkpoints/Word_Tokenizer.new-checkpoint.ipynb\n",
            "corpora/.ipynb_checkpoints/BackProp-checkpoint.ipynb\n",
            "corpora/.ipynb_checkpoints/Word_Tokenizer_backup-checkpoint.ipynb\n",
            "corpora/.ipynb_checkpoints/char2vec-checkpoint.ipynb\n",
            "corpora/.ipynb_checkpoints/Word_Tokenizer-checkpoint.ipynb\n",
            "corpora/cattern/\n",
            "corpora/cattern/gradient_check.py\n",
            "corpora/cattern/.ipynb_checkpoints/\n",
            "corpora/cattern/__init__.py\n",
            "corpora/cattern/data_utils.py\n",
            "corpora/wiki/\n",
            "corpora/wiki/thwiki_chk.txt\n"
          ],
          "name": "stdout"
        }
      ]
    },
    {
      "cell_type": "code",
      "metadata": {
        "id": "ZdnzBz-P5afX"
      },
      "source": [
        "from keras.preprocessing.text import Tokenizer\n",
        "data = \"\"\" Jack and Jill went up the hill\\n\n",
        "\t\tTo fetch a pail of water\\n\n",
        "\t\tJack fell down and broke his crown\\n\n",
        "\t\tAnd Jill came tumbling after\\n \"\"\"\n",
        "\n",
        "# integer encode text\n",
        "tokenizer = Tokenizer()\n",
        "tokenizer.fit_on_texts([train[0]])\n",
        "\n",
        "encoded = tokenizer.texts_to_sequences([train[0]])[0]\n",
        "print(tokenizer,[train[0]],encoded)\n",
        "for i in range(10):\n",
        "  print(train[i])\n"
      ],
      "execution_count": null,
      "outputs": []
    }
  ]
}